{
  "nbformat": 4,
  "nbformat_minor": 0,
  "metadata": {
    "colab": {
      "name": "Projeto Ciencia de Dados.ipynb",
      "provenance": [],
      "collapsed_sections": [],
      "include_colab_link": true
    },
    "kernelspec": {
      "name": "python3",
      "display_name": "Python 3"
    }
  },
  "cells": [
    {
      "cell_type": "markdown",
      "metadata": {
        "id": "view-in-github",
        "colab_type": "text"
      },
      "source": [
        "<a href=\"https://colab.research.google.com/github/Ruymelo10/ProjetoTAGDI/blob/master/Projeto_Ciencia_de_Dados.ipynb\" target=\"_parent\"><img src=\"https://colab.research.google.com/assets/colab-badge.svg\" alt=\"Open In Colab\"/></a>"
      ]
    },
    {
      "cell_type": "markdown",
      "metadata": {
        "id": "TtNgUWUcT8nf"
      },
      "source": [
        "* O nosso trabalho utiliza de uma API, a football-data, para retirar \n",
        "informações sobre os times e as partidas dos times da Premier League (Liga de futebol inglesa), nas temporadas 2018-2019, 2019-2020 e 2020-2021, para que possamos fazer análises desses times.\n",
        "\n",
        "Grupo: Rodrigo Albuquerque e Ruy Ovídio"
      ]
    },
    {
      "cell_type": "markdown",
      "metadata": {
        "id": "uTt53XBf29O0"
      },
      "source": [
        "# Coleta de dados"
      ]
    },
    {
      "cell_type": "code",
      "metadata": {
        "id": "hFCDvIaoxmD7",
        "outputId": "29ada205-5f91-4fac-f6b5-42f2395b1b42",
        "colab": {
          "base_uri": "https://localhost:8080/",
          "height": 343
        }
      },
      "source": [
        "import http.client\n",
        "import json\n",
        "import pandas as pd\n",
        "from pandas import json_normalize\n",
        "from tabulate import tabulate\n",
        "#FAZENDO A CONEXÃO COM A API E COLOCANDO OS DADOS NO DATAFRAME\n",
        "connection = http.client.HTTPConnection('api.football-data.org')\n",
        "headers = { 'X-Auth-Token': 'c6a7c804a45446b5a641af92ac107535' }\n",
        "connection.request('GET', '/v2/competitions/PL/matches?season=2018', None, headers )\n",
        "response = json.loads(connection.getresponse().read().decode())\n",
        "data2018 = pd.DataFrame(json_normalize(response['matches']))\n",
        "data2018['ano'] = 19 #2018-2019\n",
        "connection.request('GET', '/v2/competitions/PL/matches?season=2019', None, headers )\n",
        "response = json.loads(connection.getresponse().read().decode())\n",
        "data2019 = pd.DataFrame(json_normalize(response['matches']))\n",
        "data2019['ano'] = 20 #2019-2020\n",
        "connection.request('GET', '/v2/competitions/PL/matches?season=2020', None, headers )\n",
        "response = json.loads(connection.getresponse().read().decode())\n",
        "data2020 = pd.DataFrame(json_normalize(response['matches']))\n",
        "data2020['ano'] = 21 #2020-2021\n",
        "frames = [data2018,data2019,data2020]\n",
        "dataMatches = pd.concat(frames) #DATAFRAME COM OS DADOS DAS PARTIDAS\n",
        "dataMatches['totalGoals'] = dataMatches['score.fullTime.awayTeam'] + dataMatches['score.fullTime.homeTeam']\n",
        "connection.request('GET', '/v2/competitions/PL/teams?season=2018', None, headers )\n",
        "response = json.loads(connection.getresponse().read().decode())\n",
        "dataTeams2018 = pd.DataFrame(json_normalize(response['teams'])) #2018-2019\n",
        "connection.request('GET', '/v2/competitions/PL/teams?season=2019', None, headers )\n",
        "response = json.loads(connection.getresponse().read().decode())\n",
        "dataTeams2019 = pd.DataFrame(json_normalize(response['teams'])) #2019-2020\n",
        "connection.request('GET', '/v2/competitions/PL/teams?season=2020', None, headers )\n",
        "response = json.loads(connection.getresponse().read().decode())\n",
        "dataTeams2020 = pd.DataFrame(json_normalize(response['teams'])) #2020-2021\n",
        "frames = [dataTeams2018,dataTeams2019,dataTeams2020]\n",
        "dataTeams = pd.concat(frames) #DATAFRAME COM OS DADOS DAS EQUIPES\n",
        "dataTeams.drop_duplicates(subset ='id',keep = 'first', inplace = True)\n",
        "print(tabulate(dataMatches.head(), headers='keys', tablefmt='psql')) #IMPRIMINDO O HEAD DO DATAFRAME DE PARTIDAS, COM UMA FORMATAÇÃO PARA MELHOR ANÁLISE\n",
        "print(tabulate(dataTeams.head(), headers='keys', tablefmt='psql')) #IMPRIMINDO O HEAD DO DATAFRAME DE TIMES, COM UMA FORMATAÇÃO PARA MELHOR ANÁLISE"
      ],
      "execution_count": 229,
      "outputs": [
        {
          "output_type": "stream",
          "text": [
            "+----+--------+----------------------+----------+------------+----------------+----------------+----------------------+----------------------------------------------------------------------------------------------------------------------------------------------------------------------------------------------------------------------------------------------------+-------------+--------------------+------------------+--------------------------+-------------------------------------------------------+----------------+------------------+---------------------------+---------------------------+---------------------------+---------------------------+----------------------------+----------------------------+----------------------------+----------------------------+---------------+-----------------------+---------------+---------------------------+-------+--------------+\n",
            "|    |     id | utcDate              | status   |   matchday | stage          | group          | lastUpdated          | referees                                                                                                                                                                                                                                           |   season.id | season.startDate   | season.endDate   |   season.currentMatchday | odds.msg                                              | score.winner   | score.duration   |   score.fullTime.homeTeam |   score.fullTime.awayTeam |   score.halfTime.homeTeam |   score.halfTime.awayTeam | score.extraTime.homeTeam   | score.extraTime.awayTeam   | score.penalties.homeTeam   | score.penalties.awayTeam   |   homeTeam.id | homeTeam.name         |   awayTeam.id | awayTeam.name             |   ano |   totalGoals |\n",
            "|----+--------+----------------------+----------+------------+----------------+----------------+----------------------+----------------------------------------------------------------------------------------------------------------------------------------------------------------------------------------------------------------------------------------------------+-------------+--------------------+------------------+--------------------------+-------------------------------------------------------+----------------+------------------+---------------------------+---------------------------+---------------------------+---------------------------+----------------------------+----------------------------+----------------------------+----------------------------+---------------+-----------------------+---------------+---------------------------+-------+--------------|\n",
            "|  0 | 233028 | 2018-08-10T19:00:00Z | FINISHED |          1 | REGULAR_SEASON | Regular Season | 2019-04-20T15:34:33Z | [{'id': 11610, 'name': 'Andre Marriner', 'nationality': None}, {'id': 11611, 'name': 'Scott Ledger', 'nationality': None}, {'id': 11504, 'name': 'Simon Long', 'nationality': None}, {'id': 11580, 'name': 'Anthony Taylor', 'nationality': None}] |         151 | 2018-08-10         | 2019-05-12       |                       38 | Activate Odds-Package in User-Panel to retrieve odds. | HOME_TEAM      | REGULAR          |                         2 |                         1 |                         1 |                         0 |                            |                            |                            |                            |            66 | Manchester United FC  |           338 | Leicester City FC         |    19 |            3 |\n",
            "|  1 | 233026 | 2018-08-11T11:30:00Z | FINISHED |          1 | REGULAR_SEASON | Regular Season | 2019-04-20T15:34:33Z | [{'id': 11551, 'name': 'Martin Atkinson', 'nationality': None}, {'id': 11530, 'name': 'Lee Betts', 'nationality': None}, {'id': 11547, 'name': 'Stephen Child', 'nationality': None}, {'id': 11520, 'name': 'Paul Tierney', 'nationality': None}]  |         151 | 2018-08-10         | 2019-05-12       |                       38 | Activate Odds-Package in User-Panel to retrieve odds. | AWAY_TEAM      | REGULAR          |                         1 |                         2 |                         1 |                         2 |                            |                            |                            |                            |            67 | Newcastle United FC   |            73 | Tottenham Hotspur FC      |    19 |            3 |\n",
            "|  2 | 233024 | 2018-08-11T14:00:00Z | FINISHED |          1 | REGULAR_SEASON | Regular Season | 2019-04-20T15:34:33Z | [{'id': 11575, 'name': 'Mike Dean', 'nationality': None}, {'id': 11495, 'name': 'Ian Hussin', 'nationality': None}, {'id': 11431, 'name': 'Daniel Robathan', 'nationality': None}, {'id': 11446, 'name': 'Robert Jones', 'nationality': None}]     |         151 | 2018-08-10         | 2019-05-12       |                       38 | Activate Odds-Package in User-Panel to retrieve odds. | AWAY_TEAM      | REGULAR          |                         0 |                         2 |                         0 |                         1 |                            |                            |                            |                            |            63 | Fulham FC             |           354 | Crystal Palace FC         |    19 |            2 |\n",
            "|  3 | 233029 | 2018-08-11T14:00:00Z | FINISHED |          1 | REGULAR_SEASON | Regular Season | 2019-04-20T15:34:33Z | [{'id': 11443, 'name': 'Chris Kavanagh', 'nationality': None}, {'id': 11552, 'name': 'Peter Kirkup', 'nationality': None}, {'id': 11531, 'name': 'Marc Perry', 'nationality': None}, {'id': 11605, 'name': 'Michael Oliver', 'nationality': None}] |         151 | 2018-08-10         | 2019-05-12       |                       38 | Activate Odds-Package in User-Panel to retrieve odds. | AWAY_TEAM      | REGULAR          |                         0 |                         3 |                         0 |                         2 |                            |                            |                            |                            |           394 | Huddersfield Town AFC |            61 | Chelsea FC                |    19 |            3 |\n",
            "|  4 | 233031 | 2018-08-11T14:00:00Z | FINISHED |          1 | REGULAR_SEASON | Regular Season | 2019-04-20T15:34:33Z | [{'id': 11567, 'name': 'Jonathan Moss', 'nationality': None}, {'id': 11480, 'name': 'Eddie Smart', 'nationality': None}, {'id': 11568, 'name': 'Andrew Halliday', 'nationality': None}, {'id': 11556, 'name': 'David Coote', 'nationality': None}] |         151 | 2018-08-10         | 2019-05-12       |                       38 | Activate Odds-Package in User-Panel to retrieve odds. | HOME_TEAM      | REGULAR          |                         2 |                         0 |                         1 |                         0 |                            |                            |                            |                            |           346 | Watford FC            |           397 | Brighton & Hove Albion FC |    19 |            2 |\n",
            "+----+--------+----------------------+----------+------------+----------------+----------------+----------------------+----------------------------------------------------------------------------------------------------------------------------------------------------------------------------------------------------------------------------------------------------+-------------+--------------------+------------------+--------------------------+-------------------------------------------------------+----------------+------------------+---------------------------+---------------------------+---------------------------+---------------------------+----------------------------+----------------------------+----------------------------+----------------------------+---------------+-----------------------+---------------+---------------------------+-------+--------------+\n",
            "+----+------+--------------+-------------+-------+-----------------------------------------+-----------------------------------------------+--------------------+---------------------------+--------------------------------+-----------+--------------------+------------------+----------------------+-----------+-------------+\n",
            "|    |   id | name         | shortName   | tla   | crestUrl                                | address                                       | phone              | website                   | email                          |   founded | clubColors         | venue            | lastUpdated          |   area.id | area.name   |\n",
            "|----+------+--------------+-------------+-------+-----------------------------------------+-----------------------------------------------+--------------------+---------------------------+--------------------------------+-----------+--------------------+------------------+----------------------+-----------+-------------|\n",
            "|  0 |   57 | Arsenal FC   | Arsenal     | ARS   | https://crests.football-data.org/57.svg | 75 Drayton Park London N5 1BU                 | +44 (020) 76195003 | http://www.arsenal.com    | info@arsenal.co.uk             |      1886 | Red / White        | Emirates Stadium | 2020-10-15T01:57:14Z |      2072 | England     |\n",
            "|  1 |   61 | Chelsea FC   | Chelsea     | CHE   | https://crests.football-data.org/61.svg | Fulham Road London SW6 1HS                    | +44 (0871) 9841955 | http://www.chelseafc.com  |                                |      1905 | Royal Blue / White | Stamford Bridge  | 2020-09-17T01:59:20Z |      2072 | England     |\n",
            "|  2 |   62 | Everton FC   | Everton     | EVE   | https://crests.football-data.org/62.svg | Goodison Park Liverpool L4 4EL                | +44 (0871) 6631878 | http://www.evertonfc.com  | everton@evertonfc.com          |      1878 | Blue / White       | Goodison Park    | 2020-09-17T01:58:48Z |      2072 | England     |\n",
            "|  3 |   63 | Fulham FC    | Fulham      | FUL   | https://crests.football-data.org/63.svg | Craven Cottage, Stevenage Road London SW6 6HH | +44 (0870) 4421222 | http://www.fulhamfc.com   | enquiries@fulhamfc.com         |      1879 | White / Black      | Craven Cottage   | 2020-09-17T01:58:49Z |      2072 | England     |\n",
            "|  4 |   64 | Liverpool FC | Liverpool   | LIV   | https://crests.football-data.org/64.svg | Anfield Road Liverpool L4 OTH                 | +44 (0844) 4993000 | http://www.liverpoolfc.tv | customercontact@liverpoolfc.tv |      1892 | Red / White        | Anfield          | 2020-09-10T02:55:23Z |      2072 | England     |\n",
            "+----+------+--------------+-------------+-------+-----------------------------------------+-----------------------------------------------+--------------------+---------------------------+--------------------------------+-----------+--------------------+------------------+----------------------+-----------+-------------+\n"
          ],
          "name": "stdout"
        }
      ]
    },
    {
      "cell_type": "markdown",
      "metadata": {
        "id": "d6FDKRKFSsgs"
      },
      "source": [
        "* Criamos um Crawler para pegar informações de Overall (Média da força dos jogadores) de cada time no jogo FIFA, dos anos referentes aos dados que conseguimos na API, visto que, como os dados do jogo simulam a realidade, podem servir como referência para verificarmos quais times são mais fortes ou mais fracos"
      ]
    },
    {
      "cell_type": "code",
      "metadata": {
        "id": "NP5aRs9N8Dwk",
        "outputId": "9d9651df-08c7-4033-8fcc-b7296d90515f",
        "colab": {
          "base_uri": "https://localhost:8080/",
          "height": 408
        }
      },
      "source": [
        "!pip install selenium\n",
        "!apt-get update \n",
        "!apt install chromium-chromedriver\n",
        "#Config do crawler\n",
        "from bs4 import BeautifulSoup\n",
        "from selenium import webdriver\n",
        "chrome_options = webdriver.ChromeOptions()\n",
        "chrome_options.add_argument('--headless')\n",
        "chrome_options.add_argument('--no-sandbox')\n",
        "chrome_options.add_argument('--disable-dev-shm-usage')\n",
        "wd = webdriver.Chrome('chromedriver',chrome_options=chrome_options)\n",
        "driver =webdriver.Chrome('chromedriver',chrome_options=chrome_options)"
      ],
      "execution_count": 230,
      "outputs": [
        {
          "output_type": "stream",
          "text": [
            "Requirement already satisfied: selenium in /usr/local/lib/python3.6/dist-packages (3.141.0)\n",
            "Requirement already satisfied: urllib3 in /usr/local/lib/python3.6/dist-packages (from selenium) (1.24.3)\n",
            "Ign:1 https://developer.download.nvidia.com/compute/cuda/repos/ubuntu1804/x86_64  InRelease\n",
            "Hit:2 https://cloud.r-project.org/bin/linux/ubuntu bionic-cran40/ InRelease\n",
            "Ign:3 https://developer.download.nvidia.com/compute/machine-learning/repos/ubuntu1804/x86_64  InRelease\n",
            "Hit:4 http://ppa.launchpad.net/c2d4u.team/c2d4u4.0+/ubuntu bionic InRelease\n",
            "Hit:5 http://security.ubuntu.com/ubuntu bionic-security InRelease\n",
            "Hit:6 https://developer.download.nvidia.com/compute/cuda/repos/ubuntu1804/x86_64  Release\n",
            "Hit:7 http://archive.ubuntu.com/ubuntu bionic InRelease\n",
            "Hit:8 https://developer.download.nvidia.com/compute/machine-learning/repos/ubuntu1804/x86_64  Release\n",
            "Hit:9 http://archive.ubuntu.com/ubuntu bionic-updates InRelease\n",
            "Hit:10 http://ppa.launchpad.net/graphics-drivers/ppa/ubuntu bionic InRelease\n",
            "Hit:11 http://archive.ubuntu.com/ubuntu bionic-backports InRelease\n",
            "Reading package lists... Done\n",
            "Reading package lists... Done\n",
            "Building dependency tree       \n",
            "Reading state information... Done\n",
            "chromium-chromedriver is already the newest version (85.0.4183.121-0ubuntu0.18.04.1).\n",
            "0 upgraded, 0 newly installed, 0 to remove and 21 not upgraded.\n"
          ],
          "name": "stdout"
        },
        {
          "output_type": "stream",
          "text": [
            "/usr/local/lib/python3.6/dist-packages/ipykernel_launcher.py:11: DeprecationWarning: use options instead of chrome_options\n",
            "  # This is added back by InteractiveShellApp.init_path()\n",
            "/usr/local/lib/python3.6/dist-packages/ipykernel_launcher.py:12: DeprecationWarning: use options instead of chrome_options\n",
            "  if sys.path[0] == '':\n"
          ],
          "name": "stderr"
        }
      ]
    },
    {
      "cell_type": "code",
      "metadata": {
        "id": "5x3WEu4K6Esx"
      },
      "source": [
        "#crawler\n",
        "names = []\n",
        "overalls = []\n",
        "yearList = []\n",
        "years = [19,20,21]\n",
        "for year in years:\n",
        "  url = \"https://www.fifaindex.com/pt-br/teams/fifa\" + str(year) + \"/?league=13&order=desc\"\n",
        "  driver.get(url)\n",
        "  content = driver.page_source\n",
        "  soup = BeautifulSoup(content)\n",
        "  table = soup.find('table', attrs={'class':'table table-striped table-teams'})\n",
        "  for a in table.findAll('tr'):\n",
        "    time = a\n",
        "    nomeTd = time.find('td', attrs={'data-title':'Nome'})\n",
        "    if nomeTd != None:\n",
        "      nome = nomeTd.find('a').text\n",
        "    overallTd = time.find('td', attrs={'data-title':'GER'})\n",
        "    if overallTd != None:\n",
        "      overall = overallTd.find('span').text\n",
        "    names.append(nome)\n",
        "    overalls.append(overall)\n",
        "    yearList.append(year)\n",
        "overallsDf = pd.DataFrame({'name': names, 'overall': overalls, 'year': yearList})\n",
        "overallsDf.drop_duplicates(keep='first',inplace=True)\n",
        "teamId = (overallsDf.name\n",
        "          .apply(lambda x: dataTeams[dataTeams.name.str.contains(x)]['id'])\n",
        "          .bfill(axis=1)\n",
        "          .iloc[:, 0])\n",
        "overallsDf = pd.concat([overallsDf, teamId], axis=1)\n",
        "overallsDf.columns = ['name','overall','year','teamId']\n",
        "overallsDf.drop(columns='name', inplace=True)\n",
        "dataMatches = pd.merge(dataMatches, overallsDf,left_on=['homeTeam.id','ano'],right_on=['teamId','year'], how='outer')\n",
        "dataMatches.drop(columns={'teamId','year'}, inplace=True)\n",
        "dataMatches.rename(columns={'overall': 'homeTeamOverall'}, inplace=True)\n",
        "dataMatches = pd.merge(dataMatches, overallsDf,left_on=['awayTeam.id','ano'],right_on=['teamId','year'], how='outer')\n",
        "dataMatches.drop(columns={'teamId','year'}, inplace=True)\n",
        "dataMatches.rename(columns={'overall': 'awayTeamOverall'}, inplace=True)"
      ],
      "execution_count": 231,
      "outputs": []
    },
    {
      "cell_type": "code",
      "metadata": {
        "id": "BZj76Y-r9W6e"
      },
      "source": [
        "#Colocando o overall Medio de cada time no fifa dentro do dataframe de times\n",
        "overallsDf['overall'] = overallsDf['overall'].astype('int64')\n",
        "overMedio = overallsDf.groupby('teamId')['overall'].mean()\n",
        "dataTeams = pd.merge(dataTeams, overMedio,left_on=['id'],right_on=['teamId'], how='outer')"
      ],
      "execution_count": 232,
      "outputs": []
    },
    {
      "cell_type": "markdown",
      "metadata": {
        "id": "wGhTggd73OKB"
      },
      "source": [
        "# Pré-processamento dos dados"
      ]
    },
    {
      "cell_type": "markdown",
      "metadata": {
        "id": "9zZtXf6m6x-A"
      },
      "source": [
        "* Tirando algumas informações do DataMatches por não serem usadas no projeto\n",
        "\n"
      ]
    },
    {
      "cell_type": "code",
      "metadata": {
        "id": "TdOrlKsZ6voL"
      },
      "source": [
        "dataMatches.drop(columns=['score.extraTime.homeTeam','score.extraTime.awayTeam','score.penalties.homeTeam','score.penalties.awayTeam','referees','odds.msg'], inplace=True)"
      ],
      "execution_count": 233,
      "outputs": []
    },
    {
      "cell_type": "markdown",
      "metadata": {
        "id": "Ljf3maD4e7Wi"
      },
      "source": [
        "* Removendo partidas que ainda não ocorreram e informações sujas, ou seja, com NA (Limpeza de dados)\n",
        "\n"
      ]
    },
    {
      "cell_type": "code",
      "metadata": {
        "id": "mmLppSmhe6Ss"
      },
      "source": [
        "dataMatches.drop(dataMatches[(dataMatches['status'] == 'SCHEDULED') | (dataMatches['status'] == 'POSTPONED')].index, inplace=True)\n",
        "dataMatches.dropna(thresh=6, inplace=True) #Usando threshold de 6, visto que existem 4 parâmetros que sempre são vazios, já que não existe prorrogação nem disputa de penaltis na premier league"
      ],
      "execution_count": 234,
      "outputs": []
    },
    {
      "cell_type": "markdown",
      "metadata": {
        "id": "7rhw--frdFj2"
      },
      "source": [
        "* Verificando os tipos do dataframe dataMatches e fazendo algumas alterações de tipo\n",
        "\n"
      ]
    },
    {
      "cell_type": "code",
      "metadata": {
        "id": "ZSgvpOlYcqsh",
        "outputId": "c63c8254-89ea-4873-823f-f697462612e5",
        "colab": {
          "base_uri": "https://localhost:8080/",
          "height": 459
        }
      },
      "source": [
        "dataMatches.dtypes"
      ],
      "execution_count": 235,
      "outputs": [
        {
          "output_type": "execute_result",
          "data": {
            "text/plain": [
              "id                         float64\n",
              "utcDate                     object\n",
              "status                      object\n",
              "matchday                   float64\n",
              "stage                       object\n",
              "group                       object\n",
              "lastUpdated                 object\n",
              "season.id                  float64\n",
              "season.startDate            object\n",
              "season.endDate              object\n",
              "season.currentMatchday     float64\n",
              "score.winner                object\n",
              "score.duration              object\n",
              "score.fullTime.homeTeam    float64\n",
              "score.fullTime.awayTeam    float64\n",
              "score.halfTime.homeTeam    float64\n",
              "score.halfTime.awayTeam    float64\n",
              "homeTeam.id                float64\n",
              "homeTeam.name               object\n",
              "awayTeam.id                float64\n",
              "awayTeam.name               object\n",
              "ano                        float64\n",
              "totalGoals                 float64\n",
              "homeTeamOverall             object\n",
              "awayTeamOverall             object\n",
              "dtype: object"
            ]
          },
          "metadata": {
            "tags": []
          },
          "execution_count": 235
        }
      ]
    },
    {
      "cell_type": "code",
      "metadata": {
        "id": "4S3TwHUsdRhP",
        "outputId": "e1f4b653-03e5-4ba7-b114-870f1fdc678f",
        "colab": {
          "base_uri": "https://localhost:8080/",
          "height": 459
        }
      },
      "source": [
        "#totalGoals e ano não devem ser float, pois a quantidade de gols de uma partida é um número inteiro e o ano também\n",
        "#Além disso, os scores também devem ser números inteiros, visto que não conseguimos fazer 0.5 gols, por exemplo\n",
        "dataMatches['totalGoals'] = dataMatches['totalGoals'].astype('int64')\n",
        "dataMatches['ano'] = dataMatches['ano'].astype('int64')\n",
        "dataMatches['score.halfTime.awayTeam'] = dataMatches['score.halfTime.awayTeam'].astype('int64')\n",
        "dataMatches['score.halfTime.homeTeam'] = dataMatches['score.halfTime.homeTeam'].astype('int64')\n",
        "dataMatches['score.fullTime.awayTeam'] = dataMatches['score.fullTime.awayTeam'].astype('int64')\n",
        "dataMatches['score.fullTime.homeTeam'] = dataMatches['score.fullTime.homeTeam'].astype('int64')\n",
        "dataMatches['homeTeamOverall'] = dataMatches['homeTeamOverall'].astype('int64')\n",
        "dataMatches['awayTeamOverall'] = dataMatches['awayTeamOverall'].astype('int64')\n",
        "dataMatches.dtypes"
      ],
      "execution_count": 236,
      "outputs": [
        {
          "output_type": "execute_result",
          "data": {
            "text/plain": [
              "id                         float64\n",
              "utcDate                     object\n",
              "status                      object\n",
              "matchday                   float64\n",
              "stage                       object\n",
              "group                       object\n",
              "lastUpdated                 object\n",
              "season.id                  float64\n",
              "season.startDate            object\n",
              "season.endDate              object\n",
              "season.currentMatchday     float64\n",
              "score.winner                object\n",
              "score.duration              object\n",
              "score.fullTime.homeTeam      int64\n",
              "score.fullTime.awayTeam      int64\n",
              "score.halfTime.homeTeam      int64\n",
              "score.halfTime.awayTeam      int64\n",
              "homeTeam.id                float64\n",
              "homeTeam.name               object\n",
              "awayTeam.id                float64\n",
              "awayTeam.name               object\n",
              "ano                          int64\n",
              "totalGoals                   int64\n",
              "homeTeamOverall              int64\n",
              "awayTeamOverall              int64\n",
              "dtype: object"
            ]
          },
          "metadata": {
            "tags": []
          },
          "execution_count": 236
        }
      ]
    },
    {
      "cell_type": "markdown",
      "metadata": {
        "id": "KA8HR7_JXsNN"
      },
      "source": [
        "* Utilizando método de Tukey para identificar outliers univariados baseado no atributo de gols totais"
      ]
    },
    {
      "cell_type": "code",
      "metadata": {
        "id": "PMqeBW5AV6Xt",
        "outputId": "c3c32bb9-27c8-4c88-f803-7e98b573ad4d",
        "colab": {
          "base_uri": "https://localhost:8080/",
          "height": 447
        }
      },
      "source": [
        "dataMatches.boxplot(column=['totalGoals']) #Verificando simetria com boxplot"
      ],
      "execution_count": 237,
      "outputs": [
        {
          "output_type": "execute_result",
          "data": {
            "text/plain": [
              "<matplotlib.axes._subplots.AxesSubplot at 0x7fd34ed36f28>"
            ]
          },
          "metadata": {
            "tags": []
          },
          "execution_count": 237
        },
        {
          "output_type": "display_data",
          "data": {
            "image/png": "[encoded data removed]",
            "text/plain": [
              "<Figure size 640x480 with 1 Axes>"
            ]
          },
          "metadata": {
            "tags": []
          }
        }
      ]
    },
    {
      "cell_type": "code",
      "metadata": {
        "id": "OR2QqxLIvUa8",
        "outputId": "e2861971-60c5-4747-e4e4-d5e747869a3e",
        "colab": {
          "base_uri": "https://localhost:8080/",
          "height": 447
        }
      },
      "source": [
        "dataMatches['totalGoals'].hist() #Confirmando simetria com histograma, não é simétrico"
      ],
      "execution_count": 238,
      "outputs": [
        {
          "output_type": "execute_result",
          "data": {
            "text/plain": [
              "<matplotlib.axes._subplots.AxesSubplot at 0x7fd34e966048>"
            ]
          },
          "metadata": {
            "tags": []
          },
          "execution_count": 238
        },
        {
          "output_type": "display_data",
          "data": {
            "image/png": "[encoded data removed]",
            "text/plain": [
              "<Figure size 640x480 with 1 Axes>"
            ]
          },
          "metadata": {
            "tags": []
          }
        }
      ]
    },
    {
      "cell_type": "code",
      "metadata": {
        "id": "mCS7HvWHvjwH",
        "outputId": "bc4e614e-478b-40dc-e27b-5b036eba706c",
        "colab": {
          "base_uri": "https://localhost:8080/",
          "height": 447
        }
      },
      "source": [
        "#Normalizando a quantidade de gols por partida por min max entre -1 e 1\n",
        "dataMatches['totalGoalsMinMax'] = ((dataMatches['totalGoals'] - dataMatches['totalGoals'].min()) / (dataMatches['totalGoals'].max() - dataMatches['totalGoals'].min())*2) -1\n",
        "dataMatches['totalGoalsMinMax'].hist()"
      ],
      "execution_count": 239,
      "outputs": [
        {
          "output_type": "execute_result",
          "data": {
            "text/plain": [
              "<matplotlib.axes._subplots.AxesSubplot at 0x7fd34e8f33c8>"
            ]
          },
          "metadata": {
            "tags": []
          },
          "execution_count": 239
        },
        {
          "output_type": "display_data",
          "data": {
            "image/png": "[encoded data removed]",
            "text/plain": [
              "<Figure size 640x480 with 1 Axes>"
            ]
          },
          "metadata": {
            "tags": []
          }
        }
      ]
    },
    {
      "cell_type": "code",
      "metadata": {
        "id": "EZhSCTgIyEiY"
      },
      "source": [
        "#Dividindo os quartis de total de gols\n",
        "q1 = dataMatches['totalGoalsMinMax'].quantile(q=0.25)\n",
        "q3 = dataMatches['totalGoalsMinMax'].quantile(q=0.75)\n",
        "intervaloInterQuartil = q3 - q1"
      ],
      "execution_count": 240,
      "outputs": []
    },
    {
      "cell_type": "code",
      "metadata": {
        "id": "ca2cUgBayUwH",
        "outputId": "2a3811b4-7247-4fe5-8d4f-6db94c2aad09",
        "colab": {
          "base_uri": "https://localhost:8080/",
          "height": 530
        }
      },
      "source": [
        "#Verificando os outliers\n",
        "print(tabulate(dataMatches[(dataMatches['totalGoalsMinMax'] < (q1-1.5*intervaloInterQuartil))], headers='keys', tablefmt='psql')) # Outliers menores que q1 - 1.5 * intervaloInterQuartil\n",
        "print(tabulate(dataMatches[(dataMatches['totalGoalsMinMax'] > (q3+1.5*intervaloInterQuartil))], headers='keys', tablefmt='psql')) # Outliers maiores que q3 + 1.5 * intervaloInterQuartil"
      ],
      "execution_count": 241,
      "outputs": [
        {
          "output_type": "stream",
          "text": [
            "+------+-----------+----------+------------+---------+---------+---------------+-------------+--------------------+------------------+--------------------------+----------------+------------------+---------------------------+---------------------------+---------------------------+---------------------------+---------------+-----------------+---------------+-----------------+-------+--------------+-------------------+-------------------+--------------------+\n",
            "| id   | utcDate   | status   | matchday   | stage   | group   | lastUpdated   | season.id   | season.startDate   | season.endDate   | season.currentMatchday   | score.winner   | score.duration   | score.fullTime.homeTeam   | score.fullTime.awayTeam   | score.halfTime.homeTeam   | score.halfTime.awayTeam   | homeTeam.id   | homeTeam.name   | awayTeam.id   | awayTeam.name   | ano   | totalGoals   | homeTeamOverall   | awayTeamOverall   | totalGoalsMinMax   |\n",
            "|------+-----------+----------+------------+---------+---------+---------------+-------------+--------------------+------------------+--------------------------+----------------+------------------+---------------------------+---------------------------+---------------------------+---------------------------+---------------+-----------------+---------------+-----------------+-------+--------------+-------------------+-------------------+--------------------|\n",
            "+------+-----------+----------+------------+---------+---------+---------------+-------------+--------------------+------------------+--------------------------+----------------+------------------+---------------------------+---------------------------+---------------------------+---------------------------+---------------+-----------------+---------------+-----------------+-------+--------------+-------------------+-------------------+--------------------+\n",
            "+------+--------+----------------------+----------+------------+----------------+----------------+----------------------+-------------+--------------------+------------------+--------------------------+----------------+------------------+---------------------------+---------------------------+---------------------------+---------------------------+---------------+----------------------------+---------------+-------------------------+-------+--------------+-------------------+-------------------+--------------------+\n",
            "|      |     id | utcDate              | status   |   matchday | stage          | group          | lastUpdated          |   season.id | season.startDate   | season.endDate   |   season.currentMatchday | score.winner   | score.duration   |   score.fullTime.homeTeam |   score.fullTime.awayTeam |   score.halfTime.homeTeam |   score.halfTime.awayTeam |   homeTeam.id | homeTeam.name              |   awayTeam.id | awayTeam.name           |   ano |   totalGoals |   homeTeamOverall |   awayTeamOverall |   totalGoalsMinMax |\n",
            "|------+--------+----------------------+----------+------------+----------------+----------------+----------------------+-------------+--------------------+------------------+--------------------------+----------------+------------------+---------------------------+---------------------------+---------------------------+---------------------------+---------------+----------------------------+---------------+-------------------------+-------+--------------+-------------------+-------------------+--------------------|\n",
            "|    6 | 233243 | 2019-01-19T12:30:00Z | FINISHED |         23 | REGULAR_SEASON | Regular Season | 2019-04-20T15:34:33Z |         151 | 2018-08-10         | 2019-05-12       |                       38 | HOME_TEAM      | REGULAR          |                         4 |                         3 |                         2 |                         0 |            76 | Wolverhampton Wanderers FC |           338 | Leicester City FC       |    19 |            7 |                77 |                78 |           0.555556 |\n",
            "|   30 | 233198 | 2018-12-23T16:00:00Z | FINISHED |         18 | REGULAR_SEASON | Regular Season | 2019-04-20T15:34:33Z |         151 | 2018-08-10         | 2019-05-12       |                       38 | AWAY_TEAM      | REGULAR          |                         2 |                         6 |                         1 |                         3 |            62 | Everton FC                 |            73 | Tottenham Hotspur FC    |    19 |            8 |                79 |                83 |           0.777778 |\n",
            "|  102 | 233245 | 2019-01-19T15:00:00Z | FINISHED |         23 | REGULAR_SEASON | Regular Season | 2019-04-20T15:34:33Z |         151 | 2018-08-10         | 2019-05-12       |                       38 | HOME_TEAM      | REGULAR          |                         4 |                         3 |                         0 |                         1 |            64 | Liverpool FC               |           354 | Crystal Palace FC       |    19 |            7 |                83 |                77 |           0.555556 |\n",
            "|  165 | 233329 | 2019-03-16T15:00:00Z | FINISHED |         31 | REGULAR_SEASON | Regular Season | 2019-04-20T15:34:33Z |         151 | 2018-08-10         | 2019-05-12       |                       38 | HOME_TEAM      | REGULAR          |                         4 |                         3 |                         1 |                         2 |           563 | West Ham United FC         |           394 | Huddersfield Town AFC   |    19 |            7 |                78 |                74 |           0.555556 |\n",
            "|  167 | 233033 | 2018-08-19T12:30:00Z | FINISHED |          2 | REGULAR_SEASON | Regular Season | 2019-04-20T15:34:33Z |         151 | 2018-08-10         | 2019-05-12       |                       38 | HOME_TEAM      | REGULAR          |                         6 |                         1 |                         3 |                         1 |            65 | Manchester City FC         |           394 | Huddersfield Town AFC   |    19 |            7 |                85 |                74 |           0.555556 |\n",
            "|  189 | 233400 | 2019-05-12T14:00:00Z | FINISHED |         38 | REGULAR_SEASON | Regular Season | 2019-05-12T20:04:26Z |         151 | 2018-08-10         | 2019-05-12       |                       38 | HOME_TEAM      | REGULAR          |                         5 |                         3 |                         3 |                         1 |           354 | Crystal Palace FC          |          1044 | AFC Bournemouth         |    19 |            8 |                77 |                77 |           0.777778 |\n",
            "|  262 | 233124 | 2018-11-04T15:00:00Z | FINISHED |         11 | REGULAR_SEASON | Regular Season | 2019-04-20T15:34:33Z |         151 | 2018-08-10         | 2019-05-12       |                       38 | HOME_TEAM      | REGULAR          |                         6 |                         1 |                         4 |                         1 |            65 | Manchester City FC         |           340 | Southampton FC          |    19 |            7 |                85 |                76 |           0.555556 |\n",
            "|  450 | 264438 | 2019-10-25T19:00:00Z | FINISHED |         10 | REGULAR_SEASON | Regular Season | 2019-10-26T22:05:02Z |         468 | 2019-08-09         | 2020-07-25       |                       38 | AWAY_TEAM      | REGULAR          |                         0 |                         9 |                         0 |                         5 |           340 | Southampton FC             |           338 | Leicester City FC       |    20 |            9 |                76 |                79 |           1        |\n",
            "|  486 | 264552 | 2020-01-12T16:30:00Z | FINISHED |         22 | REGULAR_SEASON | Regular Season | 2020-01-12T23:59:24Z |         468 | 2019-08-09         | 2020-07-25       |                       38 | AWAY_TEAM      | REGULAR          |                         1 |                         6 |                         0 |                         4 |            58 | Aston Villa FC             |            65 | Manchester City FC      |    20 |            7 |                76 |                85 |           0.555556 |\n",
            "|  513 | 264487 | 2019-12-04T20:15:00Z | FINISHED |         15 | REGULAR_SEASON | Regular Season | 2019-12-05T16:30:01Z |         468 | 2019-08-09         | 2020-07-25       |                       38 | HOME_TEAM      | REGULAR          |                         5 |                         2 |                         4 |                         2 |            64 | Liverpool FC               |            62 | Everton FC              |    20 |            7 |                85 |                78 |           0.555556 |\n",
            "|  547 | 264391 | 2019-09-21T14:00:00Z | FINISHED |          6 | REGULAR_SEASON | Regular Season | 2019-09-26T15:34:48Z |         468 | 2019-08-09         | 2020-07-25       |                       38 | HOME_TEAM      | REGULAR          |                         8 |                         0 |                         5 |                         0 |            65 | Manchester City FC         |           346 | Watford FC              |    20 |            8 |                85 |                77 |           0.777778 |\n",
            "|  654 | 264666 | 2020-07-04T14:00:00Z | FINISHED |         33 | REGULAR_SEASON | Regular Season | 2020-07-25T08:34:37Z |         468 | 2019-08-09         | 2020-07-25       |                       38 | HOME_TEAM      | REGULAR          |                         5 |                         2 |                         3 |                         1 |            66 | Manchester United FC       |          1044 | AFC Bournemouth         |    20 |            7 |                81 |                76 |           0.555556 |\n",
            "|  722 | 264703 | 2020-07-22T19:15:00Z | FINISHED |         37 | REGULAR_SEASON | Regular Season | 2020-07-25T08:34:39Z |         468 | 2019-08-09         | 2020-07-25       |                       38 | HOME_TEAM      | REGULAR          |                         5 |                         3 |                         3 |                         1 |            64 | Liverpool FC               |            61 | Chelsea FC              |    20 |            8 |                85 |                81 |           0.777778 |\n",
            "|  740 | 264381 | 2019-09-14T14:00:00Z | FINISHED |          5 | REGULAR_SEASON | Regular Season | 2019-09-26T15:34:47Z |         468 | 2019-08-09         | 2020-07-25       |                       38 | AWAY_TEAM      | REGULAR          |                         2 |                         5 |                         0 |                         3 |            76 | Wolverhampton Wanderers FC |            61 | Chelsea FC              |    20 |            7 |                78 |                81 |           0.555556 |\n",
            "|  779 | 303779 | 2020-09-27T15:30:00Z | FINISHED |          3 | REGULAR_SEASON | Regular Season | 2020-09-27T23:01:32Z |         619 | 2020-09-12         | 2021-05-23       |                        5 | AWAY_TEAM      | REGULAR          |                         2 |                         5 |                         1 |                         1 |            65 | Manchester City FC         |           338 | Leicester City FC       |    21 |            7 |                85 |                79 |           0.555556 |\n",
            "|  834 | 303788 | 2020-10-04T18:15:00Z | FINISHED |          4 | REGULAR_SEASON | Regular Season | 2020-10-05T03:50:57Z |         619 | 2020-09-12         | 2021-05-23       |                        5 | HOME_TEAM      | REGULAR          |                         7 |                         2 |                         4 |                         1 |            58 | Aston Villa FC             |            64 | Liverpool FC            |    21 |            9 |                76 |                85 |           1        |\n",
            "|  865 | 303775 | 2020-09-19T14:00:00Z | FINISHED |          2 | REGULAR_SEASON | Regular Season | 2020-09-19T19:01:33Z |         619 | 2020-09-12         | 2021-05-23       |                        5 | HOME_TEAM      | REGULAR          |                         4 |                         3 |                         2 |                         1 |           341 | Leeds United FC            |            63 | Fulham FC               |    21 |            7 |                74 |                75 |           0.555556 |\n",
            "|  883 | 303772 | 2020-09-19T11:30:00Z | FINISHED |          2 | REGULAR_SEASON | Regular Season | 2020-09-19T21:31:33Z |         619 | 2020-09-12         | 2021-05-23       |                        5 | HOME_TEAM      | REGULAR          |                         5 |                         2 |                         2 |                         1 |            62 | Everton FC                 |            74 | West Bromwich Albion FC |    21 |            7 |                79 |                73 |           0.555556 |\n",
            "|  980 | 303793 | 2020-10-04T15:30:00Z | FINISHED |          4 | REGULAR_SEASON | Regular Season | 2020-10-05T03:04:14Z |         619 | 2020-09-12         | 2021-05-23       |                        5 | AWAY_TEAM      | REGULAR          |                         1 |                         6 |                         1 |                         4 |            66 | Manchester United FC       |            73 | Tottenham Hotspur FC    |    21 |            7 |                82 |                82 |           0.555556 |\n",
            "|  982 | 303776 | 2020-09-20T11:00:00Z | FINISHED |          2 | REGULAR_SEASON | Regular Season | 2020-09-20T21:05:39Z |         619 | 2020-09-12         | 2021-05-23       |                        5 | AWAY_TEAM      | REGULAR          |                         2 |                         5 |                         1 |                         1 |           340 | Southampton FC             |            73 | Tottenham Hotspur FC    |    21 |            7 |                76 |                82 |           0.555556 |\n",
            "| 1049 | 303760 | 2020-09-12T16:30:00Z | FINISHED |          1 | REGULAR_SEASON | Regular Season | 2020-09-12T23:59:45Z |         619 | 2020-09-12         | 2021-05-23       |                        5 | HOME_TEAM      | REGULAR          |                         4 |                         3 |                         3 |                         2 |            64 | Liverpool FC               |           341 | Leeds United FC         |    21 |            7 |                85 |                74 |           0.555556 |\n",
            "+------+--------+----------------------+----------+------------+----------------+----------------+----------------------+-------------+--------------------+------------------+--------------------------+----------------+------------------+---------------------------+---------------------------+---------------------------+---------------------------+---------------+----------------------------+---------------+-------------------------+-------+--------------+-------------------+-------------------+--------------------+\n"
          ],
          "name": "stdout"
        }
      ]
    },
    {
      "cell_type": "markdown",
      "metadata": {
        "id": "GmxyjsqK0Caf"
      },
      "source": [
        "* Após a verificação dos dados em sites especializados, verificou-se que todos os jogos dados como outliers estavam corretos, logo não foi excluído nenhum jogo\n",
        "* Para fazer a detecção de outliers multivariados, usaremos a técnica Elliptic Envelope"
      ]
    },
    {
      "cell_type": "code",
      "metadata": {
        "id": "XtbxWJRc4lds",
        "outputId": "30c64da1-1e76-4668-863b-2196d7054757",
        "colab": {
          "base_uri": "https://localhost:8080/",
          "height": 476
        }
      },
      "source": [
        "#Verificando os tipos dos dados\n",
        "dataMatches.dtypes"
      ],
      "execution_count": 242,
      "outputs": [
        {
          "output_type": "execute_result",
          "data": {
            "text/plain": [
              "id                         float64\n",
              "utcDate                     object\n",
              "status                      object\n",
              "matchday                   float64\n",
              "stage                       object\n",
              "group                       object\n",
              "lastUpdated                 object\n",
              "season.id                  float64\n",
              "season.startDate            object\n",
              "season.endDate              object\n",
              "season.currentMatchday     float64\n",
              "score.winner                object\n",
              "score.duration              object\n",
              "score.fullTime.homeTeam      int64\n",
              "score.fullTime.awayTeam      int64\n",
              "score.halfTime.homeTeam      int64\n",
              "score.halfTime.awayTeam      int64\n",
              "homeTeam.id                float64\n",
              "homeTeam.name               object\n",
              "awayTeam.id                float64\n",
              "awayTeam.name               object\n",
              "ano                          int64\n",
              "totalGoals                   int64\n",
              "homeTeamOverall              int64\n",
              "awayTeamOverall              int64\n",
              "totalGoalsMinMax           float64\n",
              "dtype: object"
            ]
          },
          "metadata": {
            "tags": []
          },
          "execution_count": 242
        }
      ]
    },
    {
      "cell_type": "code",
      "metadata": {
        "id": "A0RND3Ss3Uw4",
        "outputId": "af528fe7-8555-4b8f-b7df-a43eb3d128a7",
        "colab": {
          "base_uri": "https://localhost:8080/",
          "height": 190
        }
      },
      "source": [
        "#Transformando dados que eram objetos em categóricos, criando códigos para as categorias e guardando em um dataFrame separado, caso exista algum erro, removeremos do dataframe original via ID da partida\n",
        "dataMatches2 = dataMatches.copy()\n",
        "dataMatches2['utcDate'] = dataMatches2['utcDate'].astype('category')\n",
        "dataMatches2['status'] = dataMatches2['status'].astype('category')\n",
        "dataMatches2['stage'] = dataMatches2['stage'].astype('category')\n",
        "dataMatches2['lastUpdated'] = dataMatches2['lastUpdated'].astype('category')\n",
        "dataMatches2['group'] = dataMatches2['group'].astype('category')\n",
        "dataMatches2['season.startDate'] = dataMatches2['season.startDate'].astype('category')\n",
        "dataMatches2['season.endDate'] = dataMatches2['season.endDate'].astype('category')\n",
        "dataMatches2['score.winner'] = dataMatches2['score.winner'].astype('category')\n",
        "dataMatches2['score.duration'] = dataMatches2['score.duration'].astype('category')\n",
        "dataMatches2['homeTeam.name'] = dataMatches2['homeTeam.name'].astype('category')\n",
        "dataMatches2['awayTeam.name'] = dataMatches2['awayTeam.name'].astype('category')\n",
        "dataMatches2['utcDate'] = dataMatches2['utcDate'].cat.codes\n",
        "dataMatches2['status'] = dataMatches2['status'].cat.codes\n",
        "dataMatches2['stage'] = dataMatches2['stage'].cat.codes\n",
        "dataMatches2['lastUpdated'] = dataMatches2['lastUpdated'].cat.codes\n",
        "dataMatches2['group'] = dataMatches2['group'].cat.codes\n",
        "dataMatches2['season.startDate'] = dataMatches2['season.startDate'].cat.codes\n",
        "dataMatches2['season.endDate'] = dataMatches2['season.endDate'].cat.codes\n",
        "dataMatches2['score.winner'] = dataMatches2['score.winner'].cat.codes\n",
        "dataMatches2['score.duration'] = dataMatches2['score.duration'].cat.codes\n",
        "dataMatches2['homeTeam.name'] = dataMatches2['homeTeam.name'].cat.codes\n",
        "dataMatches2['awayTeam.name'] = dataMatches2['awayTeam.name'].cat.codes\n",
        "print(tabulate(dataMatches.head(), headers='keys', tablefmt='psql'))"
      ],
      "execution_count": 243,
      "outputs": [
        {
          "output_type": "stream",
          "text": [
            "+----+--------+----------------------+----------+------------+----------------+----------------+----------------------+-------------+--------------------+------------------+--------------------------+----------------+------------------+---------------------------+---------------------------+---------------------------+---------------------------+---------------+-----------------------+---------------+-------------------+-------+--------------+-------------------+-------------------+--------------------+\n",
            "|    |     id | utcDate              | status   |   matchday | stage          | group          | lastUpdated          |   season.id | season.startDate   | season.endDate   |   season.currentMatchday | score.winner   | score.duration   |   score.fullTime.homeTeam |   score.fullTime.awayTeam |   score.halfTime.homeTeam |   score.halfTime.awayTeam |   homeTeam.id | homeTeam.name         |   awayTeam.id | awayTeam.name     |   ano |   totalGoals |   homeTeamOverall |   awayTeamOverall |   totalGoalsMinMax |\n",
            "|----+--------+----------------------+----------+------------+----------------+----------------+----------------------+-------------+--------------------+------------------+--------------------------+----------------+------------------+---------------------------+---------------------------+---------------------------+---------------------------+---------------+-----------------------+---------------+-------------------+-------+--------------+-------------------+-------------------+--------------------|\n",
            "|  0 | 233028 | 2018-08-10T19:00:00Z | FINISHED |          1 | REGULAR_SEASON | Regular Season | 2019-04-20T15:34:33Z |         151 | 2018-08-10         | 2019-05-12       |                       38 | HOME_TEAM      | REGULAR          |                         2 |                         1 |                         1 |                         0 |            66 | Manchester United FC  |           338 | Leicester City FC |    19 |            3 |                82 |                78 |          -0.333333 |\n",
            "|  1 | 233085 | 2018-09-29T14:00:00Z | FINISHED |          7 | REGULAR_SEASON | Regular Season | 2019-04-20T15:34:33Z |         151 | 2018-08-10         | 2019-05-12       |                       38 | AWAY_TEAM      | REGULAR          |                         0 |                         2 |                         0 |                         1 |            67 | Newcastle United FC   |           338 | Leicester City FC |    19 |            2 |                76 |                78 |          -0.555556 |\n",
            "|  2 | 233164 | 2018-12-05T19:45:00Z | FINISHED |         15 | REGULAR_SEASON | Regular Season | 2019-04-20T15:34:33Z |         151 | 2018-08-10         | 2019-05-12       |                       38 | DRAW           | REGULAR          |                         1 |                         1 |                         1 |                         0 |            63 | Fulham FC             |           338 | Leicester City FC |    19 |            2 |                75 |                78 |          -0.555556 |\n",
            "|  3 | 233349 | 2019-04-06T14:00:00Z | FINISHED |         33 | REGULAR_SEASON | Regular Season | 2019-04-20T15:34:33Z |         151 | 2018-08-10         | 2019-05-12       |                       38 | AWAY_TEAM      | REGULAR          |                         1 |                         4 |                         0 |                         1 |           394 | Huddersfield Town AFC |           338 | Leicester City FC |    19 |            5 |                74 |                78 |           0.111111 |\n",
            "|  4 | 233311 | 2019-03-03T12:00:00Z | FINISHED |         29 | REGULAR_SEASON | Regular Season | 2019-04-20T15:34:33Z |         151 | 2018-08-10         | 2019-05-12       |                       38 | HOME_TEAM      | REGULAR          |                         2 |                         1 |                         1 |                         0 |           346 | Watford FC            |           338 | Leicester City FC |    19 |            3 |                77 |                78 |          -0.333333 |\n",
            "+----+--------+----------------------+----------+------------+----------------+----------------+----------------------+-------------+--------------------+------------------+--------------------------+----------------+------------------+---------------------------+---------------------------+---------------------------+---------------------------+---------------+-----------------------+---------------+-------------------+-------+--------------+-------------------+-------------------+--------------------+\n"
          ],
          "name": "stdout"
        }
      ]
    },
    {
      "cell_type": "code",
      "metadata": {
        "id": "aht4tIM_8cWg",
        "outputId": "3c0c45e7-87ef-433a-9a4f-ee267f989003",
        "colab": {
          "base_uri": "https://localhost:8080/",
          "height": 105
        }
      },
      "source": [
        "from sklearn.covariance import EllipticEnvelope\n",
        "detector = EllipticEnvelope(contamination=0.01) #Considerando que 1% são outliers\n",
        "detector.fit(dataMatches2)"
      ],
      "execution_count": 244,
      "outputs": [
        {
          "output_type": "stream",
          "text": [
            "/usr/local/lib/python3.6/dist-packages/sklearn/covariance/_robust_covariance.py:644: UserWarning: The covariance matrix associated to your dataset is not full rank\n",
            "  warnings.warn(\"The covariance matrix associated to your dataset \"\n"
          ],
          "name": "stderr"
        },
        {
          "output_type": "execute_result",
          "data": {
            "text/plain": [
              "EllipticEnvelope(assume_centered=False, contamination=0.01, random_state=None,\n",
              "                 store_precision=True, support_fraction=None)"
            ]
          },
          "metadata": {
            "tags": []
          },
          "execution_count": 244
        }
      ]
    },
    {
      "cell_type": "code",
      "metadata": {
        "id": "4wggaQZO8iI3",
        "outputId": "9fb37dd2-58ec-40bd-f9c8-f92a4651d913",
        "colab": {
          "base_uri": "https://localhost:8080/",
          "height": 241
        }
      },
      "source": [
        "scores = detector.predict(dataMatches2) \n",
        "dataMatches['outlier'] = scores # Se for -1 é outlier, colocando os outliers direto no dataMatches, já que dataMatches e dataMatches2 tem o mesmo tamanho\n",
        "print(tabulate(dataMatches[dataMatches['outlier'] == -1], headers='keys', tablefmt='psql'))"
      ],
      "execution_count": 245,
      "outputs": [
        {
          "output_type": "stream",
          "text": [
            "+------+--------+----------------------+----------+------------+----------------+----------------+----------------------+-------------+--------------------+------------------+--------------------------+----------------+------------------+---------------------------+---------------------------+---------------------------+---------------------------+---------------+---------------------------+---------------+----------------------------+-------+--------------+-------------------+-------------------+--------------------+-----------+\n",
            "|      |     id | utcDate              | status   |   matchday | stage          | group          | lastUpdated          |   season.id | season.startDate   | season.endDate   |   season.currentMatchday | score.winner   | score.duration   |   score.fullTime.homeTeam |   score.fullTime.awayTeam |   score.halfTime.homeTeam |   score.halfTime.awayTeam |   homeTeam.id | homeTeam.name             |   awayTeam.id | awayTeam.name              |   ano |   totalGoals |   homeTeamOverall |   awayTeamOverall |   totalGoalsMinMax |   outlier |\n",
            "|------+--------+----------------------+----------+------------+----------------+----------------+----------------------+-------------+--------------------+------------------+--------------------------+----------------+------------------+---------------------------+---------------------------+---------------------------+---------------------------+---------------+---------------------------+---------------+----------------------------+-------+--------------+-------------------+-------------------+--------------------+-----------|\n",
            "|  883 | 303772 | 2020-09-19T11:30:00Z | FINISHED |          2 | REGULAR_SEASON | Regular Season | 2020-09-19T21:31:33Z |         619 | 2020-09-12         | 2021-05-23       |                        5 | HOME_TEAM      | REGULAR          |                         5 |                         2 |                         2 |                         1 |            62 | Everton FC                |            74 | West Bromwich Albion FC    |    21 |            7 |                79 |                73 |           0.555556 |        -1 |\n",
            "|  887 | 303796 | 2020-10-04T11:00:00Z | FINISHED |          4 | REGULAR_SEASON | Regular Season | 2020-10-04T22:01:44Z |         619 | 2020-09-12         | 2021-05-23       |                        5 | HOME_TEAM      | REGULAR          |                         2 |                         0 |                         1 |                         0 |           340 | Southampton FC            |            74 | West Bromwich Albion FC    |    21 |            2 |                76 |                73 |          -0.555556 |        -1 |\n",
            "|  921 | 303792 | 2020-10-03T14:00:00Z | FINISHED |          4 | REGULAR_SEASON | Regular Season | 2020-10-03T18:59:55Z |         619 | 2020-09-12         | 2021-05-23       |                        5 | HOME_TEAM      | REGULAR          |                         4 |                         2 |                         2 |                         1 |            62 | Everton FC                |           397 | Brighton & Hove Albion FC  |    21 |            6 |                79 |                76 |           0.333333 |        -1 |\n",
            "|  942 | 303773 | 2020-09-19T16:30:00Z | FINISHED |          2 | REGULAR_SEASON | Regular Season | 2020-09-20T10:25:15Z |         619 | 2020-09-12         | 2021-05-23       |                        5 | AWAY_TEAM      | REGULAR          |                         1 |                         3 |                         0 |                         1 |            66 | Manchester United FC      |           354 | Crystal Palace FC          |    21 |            4 |                82 |                77 |          -0.111111 |        -1 |\n",
            "|  980 | 303793 | 2020-10-04T15:30:00Z | FINISHED |          4 | REGULAR_SEASON | Regular Season | 2020-10-05T03:04:14Z |         619 | 2020-09-12         | 2021-05-23       |                        5 | AWAY_TEAM      | REGULAR          |                         1 |                         6 |                         1 |                         4 |            66 | Manchester United FC      |            73 | Tottenham Hotspur FC       |    21 |            7 |                82 |                82 |           0.555556 |        -1 |\n",
            "|  982 | 303776 | 2020-09-20T11:00:00Z | FINISHED |          2 | REGULAR_SEASON | Regular Season | 2020-09-20T21:05:39Z |         619 | 2020-09-12         | 2021-05-23       |                        5 | AWAY_TEAM      | REGULAR          |                         2 |                         5 |                         1 |                         1 |           340 | Southampton FC            |            73 | Tottenham Hotspur FC       |    21 |            7 |                76 |                82 |           0.555556 |        -1 |\n",
            "| 1016 | 303786 | 2020-09-26T11:30:00Z | FINISHED |          3 | REGULAR_SEASON | Regular Season | 2020-09-26T21:27:17Z |         619 | 2020-09-12         | 2021-05-23       |                        5 | AWAY_TEAM      | REGULAR          |                         2 |                         3 |                         1 |                         1 |           397 | Brighton & Hove Albion FC |            66 | Manchester United FC       |    21 |            5 |                76 |                82 |           0.111111 |        -1 |\n",
            "| 1034 | 303765 | 2020-09-14T17:00:00Z | FINISHED |          1 | REGULAR_SEASON | Regular Season | 2020-09-14T23:59:36Z |         619 | 2020-09-12         | 2021-05-23       |                        5 | AWAY_TEAM      | REGULAR          |                         0 |                         2 |                         0 |                         2 |           356 | Sheffield United FC       |            76 | Wolverhampton Wanderers FC |    21 |            2 |                75 |                78 |          -0.555556 |        -1 |\n",
            "+------+--------+----------------------+----------+------------+----------------+----------------+----------------------+-------------+--------------------+------------------+--------------------------+----------------+------------------+---------------------------+---------------------------+---------------------------+---------------------------+---------------+---------------------------+---------------+----------------------------+-------+--------------+-------------------+-------------------+--------------------+-----------+\n"
          ],
          "name": "stdout"
        }
      ]
    },
    {
      "cell_type": "markdown",
      "metadata": {
        "id": "g3M5e507Ayw9"
      },
      "source": [
        "* Após a verificação dos jogos em sites especializados, foi visto que todas as informações relativas aos jogos estavam corretas, logo nenhuma linha do dataFrame foi removida."
      ]
    },
    {
      "cell_type": "markdown",
      "metadata": {
        "id": "PaluYdcFa8H5"
      },
      "source": [
        "* Nas células abaixo, utilizaremos as informações do dataframe de partidas (dataMatches), para extrair algumas informações sobre os times e colocar no dataframe de times (dataTeams)"
      ]
    },
    {
      "cell_type": "markdown",
      "metadata": {
        "id": "eBy4YdzJ3brW"
      },
      "source": [
        "# Populando o dataframe de Times / Continuando o pré processamento"
      ]
    },
    {
      "cell_type": "code",
      "metadata": {
        "id": "z-lpbSeT_90C"
      },
      "source": [
        "#Pegando o total de jogos e colocando no dataframe de times\n",
        "homeGames = dataMatches[dataMatches.status == 'FINISHED'].groupby(['homeTeam.id'])['id'].count()\n",
        "awayGames = dataMatches[dataMatches.status == 'FINISHED'].groupby(['awayTeam.id'])['id'].count()\n",
        "totalGames = homeGames.add(awayGames)\n",
        "totalGames = totalGames.to_frame(name='totalGames')\n",
        "dataTeams = pd.merge(dataTeams, totalGames, left_on='id', right_on='homeTeam.id', how='outer')"
      ],
      "execution_count": 246,
      "outputs": []
    },
    {
      "cell_type": "code",
      "metadata": {
        "id": "Xkh3wBeXy5Pf"
      },
      "source": [
        "#Pegando o total de vitórias de cada time e colocando no dataframe de times\n",
        "winsHome = dataMatches[dataMatches['score.winner'] == 'HOME_TEAM'].groupby(['homeTeam.id'])['id'].count()\n",
        "wins = winsHome.to_frame(name='homeWins')\n",
        "wins['awayWins'] = dataMatches[dataMatches['score.winner'] == 'AWAY_TEAM'].groupby(['awayTeam.id'])['id'].count()\n",
        "wins['totalWins'] = wins['awayWins'] + wins['homeWins']\n",
        "dataTeams = pd.merge(dataTeams, wins, left_on='id', right_on='homeTeam.id', how='outer')"
      ],
      "execution_count": 247,
      "outputs": []
    },
    {
      "cell_type": "code",
      "metadata": {
        "id": "dww8mmK5F_vn"
      },
      "source": [
        "#Pegando o total de derrotas, caso a quantidade seja NAN, substituir por 0\n",
        "awayDefeats = dataMatches[dataMatches['score.winner'] == 'HOME_TEAM'].groupby(['awayTeam.id'])['id'].count()\n",
        "defeats = awayDefeats.to_frame(name='awayDefeats')\n",
        "defeats['homeDefeats'] = dataMatches[dataMatches['score.winner'] == 'AWAY_TEAM'].groupby(['homeTeam.id'])['id'].count()\n",
        "defeats = defeats.fillna(0)#Tratando derrotas ausentes, colocando 0 pois se tratam de times recém-promovidos\n",
        "defeats['totalDefeats'] = defeats['homeDefeats'] + defeats['awayDefeats']\n",
        "dataTeams = pd.merge(dataTeams, defeats, left_on='id', right_on='awayTeam.id', how='outer')"
      ],
      "execution_count": 248,
      "outputs": []
    },
    {
      "cell_type": "code",
      "metadata": {
        "id": "rIb9qDAnI_68"
      },
      "source": [
        "#Pegando o total de empates e colocando no dataframe de times\n",
        "homeDraws = dataMatches[dataMatches['score.winner'] == 'DRAW'].groupby(['homeTeam.id'])['id'].count()\n",
        "draws = homeDraws.to_frame(name='homeDraws')\n",
        "draws['awayDraws'] = dataMatches[dataMatches['score.winner'] == 'DRAW'].groupby(['awayTeam.id'])['id'].count()\n",
        "draws = draws.fillna(0)#Tratando empates ausentes, colocando 0 pois se tratam de times recém-promovidos (Tratamento de dados ausentes)\n",
        "draws['totalDraws'] = draws['homeDraws'] + draws['awayDraws']\n",
        "dataTeams = pd.merge(dataTeams, draws, left_on='id', right_on='homeTeam.id', how='outer')"
      ],
      "execution_count": 249,
      "outputs": []
    },
    {
      "cell_type": "code",
      "metadata": {
        "id": "k3HYpR8-60LN"
      },
      "source": [
        "#Pegando o total de gols em casa, fora, no primeiro tempo e no segundo tempo e colocando no dataframe de times\n",
        "homeGoals = dataMatches.groupby(['homeTeam.id'])['score.fullTime.homeTeam'].sum()\n",
        "goals = homeGoals.to_frame(name='homeGoals')\n",
        "goals['awayGoals'] = dataMatches.groupby(['awayTeam.id'])['score.fullTime.awayTeam'].sum()\n",
        "goals['totalGoals'] = goals['homeGoals'] + goals['awayGoals']\n",
        "goals['awayHalfTimeGoals'] = dataMatches.groupby(['awayTeam.id'])['score.halfTime.awayTeam'].sum()\n",
        "goals['homeHalfTimeGoals'] = dataMatches.groupby(['homeTeam.id'])['score.halfTime.homeTeam'].sum()\n",
        "dataTeams = pd.merge(dataTeams, goals, left_on='id', right_on='homeTeam.id', how='outer')"
      ],
      "execution_count": 250,
      "outputs": []
    },
    {
      "cell_type": "code",
      "metadata": {
        "id": "30SD8L4qrf4o"
      },
      "source": [
        "#Pegando a quantidade de gols concedidos e colocando no dataframe de times\n",
        "homeGoalsConceded = dataMatches.groupby(['homeTeam.id'])['score.fullTime.awayTeam'].sum()\n",
        "goalsConceded = homeGoalsConceded.to_frame(name='homeGoalsConceded')\n",
        "goalsConceded['awayGoalsConceded'] = dataMatches.groupby(['awayTeam.id'])['score.fullTime.homeTeam'].sum()\n",
        "goalsConceded['totalGoalsConceded'] = goalsConceded['homeGoalsConceded'] + goalsConceded['awayGoalsConceded']\n",
        "goalsConceded['awayHalfTimeGoalsConceded'] = dataMatches.groupby(['awayTeam.id'])['score.halfTime.homeTeam'].sum()\n",
        "goalsConceded['homeHalfTimeGoalsConceded'] = dataMatches.groupby(['homeTeam.id'])['score.halfTime.awayTeam'].sum()\n",
        "dataTeams = pd.merge(dataTeams, goalsConceded, left_on='id', right_on='homeTeam.id', how='outer')"
      ],
      "execution_count": 251,
      "outputs": []
    },
    {
      "cell_type": "code",
      "metadata": {
        "id": "IaJkUGcvLSly"
      },
      "source": [
        "#Corrigindo os dados (Tratamento de dados ausentes / Limpando os dados)\n",
        "dataTeams.loc[(dataTeams['id'] == 356),'founded'] = 1889 #Sheffield é do ano 1889\n",
        "dataTeams = dataTeams.fillna(0) #Alguns times ainda nao venceram/empataram na PL pois são recém-promovidos\n",
        "dataTeams = dataTeams.drop(columns=['crestUrl','address','phone','email','lastUpdated','area.id','area.name']) #Tirando dados que não iremos usar"
      ],
      "execution_count": 252,
      "outputs": []
    },
    {
      "cell_type": "code",
      "metadata": {
        "id": "T0HT0z9KIvPO"
      },
      "source": [
        "#Pegando os pontos por jogo de cada time e imprimindo a tabela de times\n",
        "dataTeams = dataTeams.fillna(0) #Alguns times ainda nao venceram/empataram na PL pois são recém-promovidos (inputação)\n",
        "dataTeams['pointsPerGame'] = ((dataTeams['totalWins']*3) + dataTeams['totalDraws'])/dataTeams['totalGames']\n",
        "dataTeams.sort_values(by=['pointsPerGame', 'totalGoals'], inplace=True, ascending=False)"
      ],
      "execution_count": 253,
      "outputs": []
    },
    {
      "cell_type": "markdown",
      "metadata": {
        "id": "vBGg83gXqykY"
      },
      "source": [
        "* Discretizando a quantidade de partidas, dividindo em 3 partes os times, de forma a saber quais times participaram de mais temporadas da Premier League entre os times que participaram nesses 3 anos"
      ]
    },
    {
      "cell_type": "code",
      "metadata": {
        "id": "JL7EhCAPqCr7",
        "outputId": "56d7ca8e-03c0-4744-9c9b-a95c5aef735e",
        "colab": {
          "base_uri": "https://localhost:8080/",
          "height": 530
        }
      },
      "source": [
        "dataTeams['seasonsAppearences'] = pd.cut(dataTeams['totalGames'],3)\n",
        "print(tabulate(dataTeams, headers='keys', tablefmt='psql')) #IMPRIMINDO O DATAFRAME DE TIMES"
      ],
      "execution_count": 254,
      "outputs": [
        {
          "output_type": "stream",
          "text": [
            "+----+------+----------------------------+----------------+-------+------------------------------------+-----------+---------------------+----------------------------------------+-----------+--------------+------------+------------+-------------+---------------+---------------+----------------+-------------+-------------+--------------+-------------+-------------+--------------+---------------------+---------------------+---------------------+---------------------+----------------------+-----------------------------+-----------------------------+-----------------+----------------------+\n",
            "|    |   id | name                       | shortName      | tla   | website                            |   founded | clubColors          | venue                                  |   overall |   totalGames |   homeWins |   awayWins |   totalWins |   awayDefeats |   homeDefeats |   totalDefeats |   homeDraws |   awayDraws |   totalDraws |   homeGoals |   awayGoals |   totalGoals |   awayHalfTimeGoals |   homeHalfTimeGoals |   homeGoalsConceded |   awayGoalsConceded |   totalGoalsConceded |   awayHalfTimeGoalsConceded |   homeHalfTimeGoalsConceded |   pointsPerGame | seasonsAppearences   |\n",
            "|----+------+----------------------------+----------------+-------+------------------------------------+-----------+---------------------+----------------------------------------+-----------+--------------+------------+------------+-------------+---------------+---------------+----------------+-------------+-------------+--------------+-------------+-------------+--------------+---------------------+---------------------+---------------------+---------------------+----------------------+-----------------------------+-----------------------------+-----------------+----------------------|\n",
            "|  4 |   64 | Liverpool FC               | Liverpool      | LIV   | http://www.liverpoolfc.tv          |      1892 | Red / White         | Anfield                                |   84.3333 |           80 |         37 |         28 |          65 |             5 |             0 |              5 |           3 |           7 |           10 |         114 |          71 |          185 |                  28 |                  60 |                  30 |                  36 |                   66 |                          18 |                          15 |        2.5625   | (54.667, 80.0]       |\n",
            "|  5 |   65 | Manchester City FC         | Man City       | MCI   | https://www.mancity.com            |      1880 | Sky Blue / White    | Etihad Stadium                         |   85      |           79 |         33 |         26 |          59 |            10 |             4 |             14 |           2 |           4 |            6 |         116 |          87 |          203 |                  45 |                  56 |                  30 |                  35 |                   65 |                          14 |                          15 |        2.31646  | (54.667, 80.0]       |\n",
            "|  1 |   61 | Chelsea FC                 | Chelsea        | CHE   | http://www.chelseafc.com           |      1905 | Royal Blue / White  | Stamford Bridge                        |   82      |           80 |         24 |         19 |          43 |            14 |             7 |             21 |           9 |           7 |           16 |          73 |          69 |          142 |                  32 |                  32 |                  30 |                  69 |                   99 |                          30 |                          11 |        1.8125   | (54.667, 80.0]       |\n",
            "| 24 |  341 | Leeds United FC            | Leeds United   | LEE   | http://www.leedsunited.com         |      1904 | White / Blue        | Elland Road                            |   74      |            4 |          1 |          1 |           2 |             1 |             0 |              1 |           1 |           0 |            1 |           5 |           4 |            9 |                   2 |                   2 |                   4 |                   4 |                    8 |                           3 |                           2 |        1.75     | (3.924, 29.333]      |\n",
            "|  8 |   73 | Tottenham Hotspur FC       | Tottenham      | TOT   | http://www.tottenhamhotspur.com    |      1882 | Navy Blue / White   | Tottenham Hotspur Stadium              |   82.3333 |           80 |         24 |         17 |          41 |            15 |            10 |             25 |           6 |           8 |           14 |          71 |          69 |          140 |                  36 |                  33 |                  35 |                  56 |                   91 |                          20 |                          15 |        1.7125   | (54.667, 80.0]       |\n",
            "|  6 |   66 | Manchester United FC       | Man United     | MUN   | http://www.manutd.com              |      1878 | Red / White         | Old Trafford                           |   81.6667 |           79 |         20 |         18 |          38 |            13 |             7 |             20 |          13 |           8 |           21 |          75 |          61 |          136 |                  34 |                  38 |                  51 |                  50 |                  101 |                          25 |                          21 |        1.70886  | (54.667, 80.0]       |\n",
            "|  0 |   57 | Arsenal FC                 | Arsenal        | ARS   | http://www.arsenal.com             |      1886 | Red / White         | Emirates Stadium                       |   81      |           80 |         26 |         12 |          38 |            16 |             5 |             21 |           9 |          12 |           21 |          82 |          55 |          137 |                  23 |                  36 |                  42 |                  62 |                  104 |                          33 |                          23 |        1.6875   | (54.667, 80.0]       |\n",
            "| 11 |  338 | Leicester City FC          | Leicester City | LEI   | http://www.lcfc.com                |      1884 | Royal Blue / White  | King Power Stadium                     |   78.6667 |           80 |         20 |         16 |          36 |            16 |            13 |             29 |           7 |           8 |           15 |          63 |          67 |          130 |                  20 |                  21 |                  42 |                  54 |                   96 |                          29 |                          22 |        1.5375   | (54.667, 80.0]       |\n",
            "|  9 |   76 | Wolverhampton Wanderers FC | Wolverhampton  | WOL   | http://www.wolves.co.uk            |      1877 | Black / Gold        | Molineux Stadium                       |   77.6667 |           80 |         19 |         14 |          33 |            14 |            10 |             24 |          11 |          12 |           23 |          57 |          45 |          102 |                  15 |                  18 |                  43 |                  50 |                   93 |                          29 |                          22 |        1.525    | (54.667, 80.0]       |\n",
            "|  2 |   62 | Everton FC                 | Everton        | EVE   | http://www.evertonfc.com           |      1878 | Blue / White        | Goodison Park                          |   78.6667 |           80 |         20 |         12 |          32 |            20 |             9 |             29 |          11 |           8 |           19 |          63 |          47 |          110 |                  26 |                  32 |                  46 |                  61 |                  107 |                          23 |                          20 |        1.4375   | (54.667, 80.0]       |\n",
            "| 22 |  356 | Sheffield United FC        | Sheffield Utd  | SHE   | http://www.sufc.co.uk              |      1889 | Red / White / Black | Bramall Lane                           |   75      |           42 |         10 |          4 |          14 |             8 |             8 |             16 |           3 |           9 |           12 |          24 |          16 |           40 |                   4 |                  12 |                  18 |                  27 |                   45 |                          10 |                           7 |        1.28571  | (29.333, 54.667]     |\n",
            "| 14 |  354 | Crystal Palace FC          | Crystal Palace | CRY   | http://www.cpfc.co.uk              |      1905 | Red / Blue          | Selhurst Park                          |   77      |           80 |         12 |         15 |          27 |            18 |            18 |             36 |          10 |           7 |           17 |          36 |          51 |           87 |                  19 |                  14 |                  45 |                  65 |                  110 |                          19 |                          16 |        1.225    | (54.667, 80.0]       |\n",
            "| 17 |  563 | West Ham United FC         | West Ham       | WHU   | http://www.whufc.com               |      1895 | Claret / Sky Blue   | London Stadium                         |   78      |           80 |         16 |         11 |          27 |            21 |            16 |             37 |           8 |           8 |           16 |          66 |          43 |          109 |                  21 |                  30 |                  62 |                  59 |                  121 |                          23 |                          24 |        1.2125   | (54.667, 80.0]       |\n",
            "| 12 |  340 | Southampton FC             | Southampton    | SOU   | http://www.saintsfc.co.uk          |      1885 | Red / White / Black | St. Mary's Stadium                     |   76      |           80 |         12 |         14 |          26 |            18 |            17 |             35 |          11 |           8 |           19 |          52 |          49 |          101 |                  22 |                  25 |                  70 |                  61 |                  131 |                          27 |                          33 |        1.2125   | (54.667, 80.0]       |\n",
            "|  7 |   67 | Newcastle United FC        | Newcastle      | NEW   | http://www.nufc.co.uk              |      1881 | Black / White       | St. James' Park                        |   76.6667 |           80 |         15 |         10 |          25 |            18 |            16 |             34 |           9 |          12 |           21 |          47 |          39 |           86 |                  23 |                  17 |                  50 |                  61 |                  111 |                          23 |                          23 |        1.2      | (54.667, 80.0]       |\n",
            "| 10 |  328 | Burnley FC                 | Burnley        | BUR   | http://www.burnleyfootballclub.com |      1881 | Claret / Sky Blue   | Turf Moor                              |   76.3333 |           79 |         15 |         11 |          26 |            19 |            18 |             37 |           6 |          10 |           16 |          48 |          43 |           91 |                  18 |                  21 |                  56 |                  70 |                  126 |                          35 |                          24 |        1.18987  | (54.667, 80.0]       |\n",
            "| 13 |  346 | Watford FC                 | Watford        | WAT   | http://www.watfordfc.com           |      1881 | Yellow / Black      | Vicarage Road Stadium                  |   77      |           76 |         14 |          8 |          22 |            21 |            15 |             36 |           9 |           9 |           18 |          48 |          40 |           88 |                  20 |                  13 |                  55 |                  68 |                  123 |                          32 |                          26 |        1.10526  | (54.667, 80.0]       |\n",
            "| 20 |   58 | Aston Villa FC             | Aston Villa    | AST   | http://www.avfc.co.uk              |      1872 | Claret / Sky Blue   | Villa Park                             |   76      |           41 |          9 |          3 |          12 |            12 |             9 |             21 |           3 |           5 |            8 |          30 |          22 |           52 |                  10 |                  15 |                  32 |                  37 |                   69 |                           9 |                          17 |        1.07317  | (29.333, 54.667]     |\n",
            "| 19 | 1044 | AFC Bournemouth            | Bournemouth    | BOU   | http://www.afcb.co.uk              |      1890 | Red / Black         | Vitality Stadium                       |   76.5    |           76 |         13 |          9 |          22 |            27 |            14 |             41 |          11 |           2 |           13 |          52 |          44 |           96 |                  24 |                  24 |                  55 |                  80 |                  135 |                          42 |                          26 |        1.03947  | (54.667, 80.0]       |\n",
            "| 16 |  397 | Brighton & Hove Albion FC  | Brighton Hove  | BHA   | http://www.seagulls.co.uk          |      1898 | Blue / White        | The American Express Community Stadium |   76      |           80 |         11 |          8 |          19 |            21 |            17 |             38 |          12 |          11 |           23 |          42 |          40 |           82 |                  18 |                  19 |                  61 |                  63 |                  124 |                          30 |                          26 |        1        | (54.667, 80.0]       |\n",
            "| 18 |  715 | Cardiff City FC            | Cardiff        | CAR   | http://www.cardiffcityfc.co.uk     |      1899 | Blue / White        | Cardiff City Stadium                   |   73      |           38 |          6 |          4 |          10 |            13 |            11 |             24 |           2 |           2 |            4 |          21 |          13 |           34 |                   3 |                   8 |                  38 |                  31 |                   69 |                          12 |                          18 |        0.894737 | (29.333, 54.667]     |\n",
            "|  3 |   63 | Fulham FC                  | Fulham         | FUL   | http://www.fulhamfc.com            |      1879 | White / Black       | Craven Cottage                         |   75      |           42 |          6 |          1 |           7 |            18 |            12 |             30 |           3 |           2 |            5 |          22 |          15 |           37 |                   7 |                   9 |                  42 |                  50 |                   92 |                          23 |                          23 |        0.619048 | (29.333, 54.667]     |\n",
            "| 21 |   68 | Norwich City FC            | Norwich        | NOR   | http://www.canaries.co.uk          |      1902 | Yellow / Green      | Carrow Road                            |   74      |           38 |          4 |          1 |           5 |            15 |            12 |             27 |           3 |           3 |            6 |          19 |           7 |           26 |                   2 |                  12 |                  37 |                  38 |                   75 |                          22 |                          13 |        0.552632 | (29.333, 54.667]     |\n",
            "| 15 |  394 | Huddersfield Town AFC      | Huddersfield   | HUD   | http://www.htafc.com               |      1908 | Blue / White        | The John Smith's Stadium               |   74      |           38 |          2 |          1 |           3 |            14 |            14 |             28 |           3 |           4 |            7 |          10 |          12 |           22 |                   7 |                   4 |                  31 |                  45 |                   76 |                          20 |                          18 |        0.421053 | (29.333, 54.667]     |\n",
            "| 23 |   74 | West Bromwich Albion FC    | West Brom      | WBA   | http://www.wba.co.uk               |      1879 | White / Navy Blue   | The Hawthorns                          |   73      |            4 |          0 |          0 |           0 |             2 |             1 |              3 |           1 |           0 |            1 |           3 |           2 |            5 |                   1 |                   3 |                   6 |                   7 |                   13 |                           3 |                           0 |        0.25     | (3.924, 29.333]      |\n",
            "+----+------+----------------------------+----------------+-------+------------------------------------+-----------+---------------------+----------------------------------------+-----------+--------------+------------+------------+-------------+---------------+---------------+----------------+-------------+-------------+--------------+-------------+-------------+--------------+---------------------+---------------------+---------------------+---------------------+----------------------+-----------------------------+-----------------------------+-----------------+----------------------+\n"
          ],
          "name": "stdout"
        }
      ]
    },
    {
      "cell_type": "markdown",
      "metadata": {
        "id": "2nukxTwVOrBr"
      },
      "source": [
        "# Análise descritiva dos dados\n",
        "Na inglaterra existe uma elite do futebol que se chama Big 6, que são os 6 principais e mais tradicionais times da liga. Os times que pertecem ao Big 6 são Arsenal, Chelsea, Tottenham, Manchester United, Manchester City e Liverpool. Porém, nos últimos anos, observamos uma dominância grande de dois destes clubes, o Manchester City e o Liverpool. Nosso objetivo, então, é fazer uma analis dos dados das 3 temporaadas mais recentes e destacar estes dois clubes perante a liga, e também fazer uma comparação entre eles."
      ]
    },
    {
      "cell_type": "code",
      "metadata": {
        "id": "7f7NuVeVjYVs"
      },
      "source": [
        "#Importando as bibliotecas matplotlib e seaborn\n",
        "import matplotlib.pyplot as plt\n",
        "import seaborn as sns"
      ],
      "execution_count": 255,
      "outputs": []
    },
    {
      "cell_type": "markdown",
      "metadata": {
        "id": "rr2M80LlIrl7"
      },
      "source": [
        "\n",
        "\n",
        "*   No primeiro gráfico, pegamos as média dos overalls nos Fifas 19, 20 e 21 de cada time. Podemos observar que no game, Liverpool e Manchester City se destacam com as maiores médias de overalls, com 84.3 e 85, respectivamente\n",
        "\n"
      ]
    },
    {
      "cell_type": "code",
      "metadata": {
        "id": "Dp6ziGey_g1U",
        "outputId": "915a0367-742b-4161-be0e-07eb36980ff3",
        "colab": {
          "base_uri": "https://localhost:8080/",
          "height": 489
        }
      },
      "source": [
        "plt.rcdefaults()\n",
        "fig, ax = plt.subplots()\n",
        "ax.barh(dataTeams['shortName'], dataTeams['overall'], align='center')\n",
        "ax.set_yticks(dataTeams['shortName'])\n",
        "ax.invert_yaxis()  # labels read top-to-bottom\n",
        "ax.set_title('Overall médio dos times nas edições do Fifa')\n",
        "plt.xlabel('Overalls')\n",
        "plt.ylabel('Times')\n",
        "plt.xlim(72,87)\n",
        "\n",
        "#dfOverGraf = pd.DataFrame({'Times':dataTeams['shortName'], 'Overall':dataTeams['overall']})\n",
        "#dfOverGraf.plot.bar(x='Overall', y='Times')"
      ],
      "execution_count": 256,
      "outputs": [
        {
          "output_type": "execute_result",
          "data": {
            "text/plain": [
              "(72.0, 87.0)"
            ]
          },
          "metadata": {
            "tags": []
          },
          "execution_count": 256
        },
        {
          "output_type": "display_data",
          "data": {
            "image/png": "[encoded data removed]",
            "text/plain": [
              "<Figure size 640x480 with 1 Axes>"
            ]
          },
          "metadata": {
            "tags": []
          }
        }
      ]
    },
    {
      "cell_type": "markdown",
      "metadata": {
        "id": "0Xh9L9WdUtFO"
      },
      "source": [
        "*   Aqui fizemos um gráfico de barras que representa a média de pontos por jogo de cada equipe, que varia de 0 a 3 pontos. Podemos observar o destaque entre Liverpool e Manchester City, com 2.56 e 2.31, respectivamente. A 3ª maior média é a do Chelsea, com 1.81 pontos por jogo.\n",
        "\n",
        "\n"
      ]
    },
    {
      "cell_type": "code",
      "metadata": {
        "id": "148meg2BIZJT",
        "outputId": "2ae79f04-82a4-4a9f-d857-9d7e5916e089",
        "colab": {
          "base_uri": "https://localhost:8080/",
          "height": 782
        }
      },
      "source": [
        "dfVitoriasPorTime = pd.DataFrame({'Times':dataTeams['shortName'], 'PontosPorJogo':dataTeams['pointsPerGame']})\n",
        "dfVitoriasPorTime.plot.bar(x='Times', y='PontosPorJogo', figsize=(15,8))"
      ],
      "execution_count": 257,
      "outputs": [
        {
          "output_type": "execute_result",
          "data": {
            "text/plain": [
              "<matplotlib.axes._subplots.AxesSubplot at 0x7fd34e79b550>"
            ]
          },
          "metadata": {
            "tags": []
          },
          "execution_count": 257
        },
        {
          "output_type": "display_data",
          "data": {
            "image/png": "[encoded data removed]",
            "text/plain": [
              "<Figure size 1500x800 with 1 Axes>"
            ]
          },
          "metadata": {
            "tags": []
          }
        }
      ]
    },
    {
      "cell_type": "markdown",
      "metadata": {
        "id": "KH-S3t3bXd4d"
      },
      "source": [
        "\n",
        "\n",
        "*   Agora temos o gráfico de barra do número de vitórias dos times. O Manchester City tem 59 vitórias, enquanto o do Liverpool já conta com 65. O terceiro time com mais vitórias, o  Chelsea, tem apenas 43.\n",
        "\n"
      ]
    },
    {
      "cell_type": "code",
      "metadata": {
        "id": "Iw0_cjOS8PVE",
        "outputId": "5cce8d00-5c5d-4130-9b5d-46e380bfa354",
        "colab": {
          "base_uri": "https://localhost:8080/",
          "height": 785
        }
      },
      "source": [
        "#Grafico das vitórias por time\n",
        "dfVitoriasPorTime = pd.DataFrame({'Times':dataTeams['shortName'], 'Vitórias':dataTeams['totalWins']})\n",
        "dfVitoriasPorTime.plot.bar(x='Times', y='Vitórias', figsize=(15,8))"
      ],
      "execution_count": 258,
      "outputs": [
        {
          "output_type": "execute_result",
          "data": {
            "text/plain": [
              "<matplotlib.axes._subplots.AxesSubplot at 0x7fd34e79bd30>"
            ]
          },
          "metadata": {
            "tags": []
          },
          "execution_count": 258
        },
        {
          "output_type": "display_data",
          "data": {
            "image/png": "[encoded data removed]",
            "text/plain": [
              "<Figure size 1500x800 with 1 Axes>"
            ]
          },
          "metadata": {
            "tags": []
          }
        }
      ]
    },
    {
      "cell_type": "markdown",
      "metadata": {
        "id": "KsRMMRfJZZPo"
      },
      "source": [
        "\n",
        "\n",
        "*   O número de vitórias destes dois times é impactante, e abaixo observamos que somados detém cerca de 20% do número de vitórias de toda a liga\n",
        "\n"
      ]
    },
    {
      "cell_type": "code",
      "metadata": {
        "id": "TEI4u8Ae0yob",
        "outputId": "7f464c30-534d-490e-997d-14447ba4a5d7",
        "colab": {
          "base_uri": "https://localhost:8080/",
          "height": 446
        }
      },
      "source": [
        "#Grafico pizza de vitorias de Liverpool + City contra o resto da PL\n",
        "dfLiv = dataTeams[dataTeams['shortName'] == 'Liverpool']\n",
        "dfCity = dataTeams[dataTeams['shortName'] == 'Man City']\n",
        "dfTop2 = pd.concat([dfLiv, dfCity])\n",
        "dfRestOfPL = dataTeams.drop([4,5])\n",
        "\n",
        "top2GoalsScored = dfTop2['totalWins'].sum()\n",
        "restOfPLGoalsScored = dfRestOfPL['totalWins'].sum()\n",
        "plt.pie([top2GoalsScored, restOfPLGoalsScored], labels=['Liverpool e Manchester City', 'Resto da Liga'], autopct='%1.1f%%', shadow=True)\n",
        "plt.title('Vitórias na Premier League desde 18/19')"
      ],
      "execution_count": 259,
      "outputs": [
        {
          "output_type": "execute_result",
          "data": {
            "text/plain": [
              "Text(0.5, 1.0, 'Vitórias na Premier League desde 18/19')"
            ]
          },
          "metadata": {
            "tags": []
          },
          "execution_count": 259
        },
        {
          "output_type": "display_data",
          "data": {
            "image/png": "[encoded data removed]",
            "text/plain": [
              "<Figure size 640x480 with 1 Axes>"
            ]
          },
          "metadata": {
            "tags": []
          }
        }
      ]
    },
    {
      "cell_type": "markdown",
      "metadata": {
        "id": "mh6ua1LHZ7T0"
      },
      "source": [
        "\n",
        "\n",
        "*   Manchester City e Liverpool possuem o primeiro e segundo melhor ataque, respectivamente, das ultimas três temporadas somadas. Eles estão separados por 18 gols. Os outros times da liga não passaram de 150 gols. \n",
        "\n"
      ]
    },
    {
      "cell_type": "code",
      "metadata": {
        "id": "1hjZDF3ZBRl9",
        "outputId": "156eba5a-f892-43da-967b-759be23eb855",
        "colab": {
          "base_uri": "https://localhost:8080/",
          "height": 605
        }
      },
      "source": [
        "#Distribuição de times por gols feitos num histograma (apenas dois times com mais de 175 gols)\n",
        "sns.distplot(dataTeams['totalGoals'], bins=10, kde=False)\n",
        "over175 = dataTeams.loc[dataTeams['totalGoals']>175, ['shortName','totalGoals']]\n",
        "print(tabulate(over175, headers='keys', tablefmt='psql'))"
      ],
      "execution_count": 260,
      "outputs": [
        {
          "output_type": "stream",
          "text": [
            "/usr/local/lib/python3.6/dist-packages/seaborn/distributions.py:2551: FutureWarning: `distplot` is a deprecated function and will be removed in a future version. Please adapt your code to use either `displot` (a figure-level function with similar flexibility) or `histplot` (an axes-level function for histograms).\n",
            "  warnings.warn(msg, FutureWarning)\n"
          ],
          "name": "stderr"
        },
        {
          "output_type": "stream",
          "text": [
            "+----+-------------+--------------+\n",
            "|    | shortName   |   totalGoals |\n",
            "|----+-------------+--------------|\n",
            "|  4 | Liverpool   |          185 |\n",
            "|  5 | Man City    |          203 |\n",
            "+----+-------------+--------------+\n"
          ],
          "name": "stdout"
        },
        {
          "output_type": "display_data",
          "data": {
            "image/png": "[encoded data removed]",
            "text/plain": [
              "<Figure size 640x480 with 1 Axes>"
            ]
          },
          "metadata": {
            "tags": []
          }
        }
      ]
    },
    {
      "cell_type": "markdown",
      "metadata": {
        "id": "T1gUFaE1bQzk"
      },
      "source": [
        "\n",
        "\n",
        "*   Agora temos o histograma de gols concedidos na Premier League. Liverpool e Manchester City levaram 66 e 65 gols, respectivamente. Abaixo temos a tabela dos times que tomaram menos que 80 gols, dentre eles apenas os times em análise jogaram as tres temporadas da liga.\n",
        "\n"
      ]
    },
    {
      "cell_type": "code",
      "metadata": {
        "id": "f0iWODv4a1hW",
        "outputId": "cdedce2e-1fad-4e49-9695-b002a9fa2155",
        "colab": {
          "base_uri": "https://localhost:8080/",
          "height": 724
        }
      },
      "source": [
        "sns.distplot(dataTeams['totalGoalsConceded'], bins=10, kde=False)\n",
        "under80 = dataTeams.loc[dataTeams['totalGoalsConceded']<80, ['shortName','totalGames','totalGoalsConceded']].sort_values(by=['totalGames'], ascending=False)\n",
        "print(tabulate(under80, headers='keys', tablefmt='psql'))"
      ],
      "execution_count": 261,
      "outputs": [
        {
          "output_type": "stream",
          "text": [
            "/usr/local/lib/python3.6/dist-packages/seaborn/distributions.py:2551: FutureWarning: `distplot` is a deprecated function and will be removed in a future version. Please adapt your code to use either `displot` (a figure-level function with similar flexibility) or `histplot` (an axes-level function for histograms).\n",
            "  warnings.warn(msg, FutureWarning)\n"
          ],
          "name": "stderr"
        },
        {
          "output_type": "stream",
          "text": [
            "+----+---------------+--------------+----------------------+\n",
            "|    | shortName     |   totalGames |   totalGoalsConceded |\n",
            "|----+---------------+--------------+----------------------|\n",
            "|  4 | Liverpool     |           80 |                   66 |\n",
            "|  5 | Man City      |           79 |                   65 |\n",
            "| 22 | Sheffield Utd |           42 |                   45 |\n",
            "| 20 | Aston Villa   |           41 |                   69 |\n",
            "| 18 | Cardiff       |           38 |                   69 |\n",
            "| 21 | Norwich       |           38 |                   75 |\n",
            "| 15 | Huddersfield  |           38 |                   76 |\n",
            "| 24 | Leeds United  |            4 |                    8 |\n",
            "| 23 | West Brom     |            4 |                   13 |\n",
            "+----+---------------+--------------+----------------------+\n"
          ],
          "name": "stdout"
        },
        {
          "output_type": "display_data",
          "data": {
            "image/png": "[encoded data removed]",
            "text/plain": [
              "<Figure size 640x480 with 1 Axes>"
            ]
          },
          "metadata": {
            "tags": []
          }
        }
      ]
    },
    {
      "cell_type": "markdown",
      "metadata": {
        "id": "x_oX1xxKgigQ"
      },
      "source": [
        "\n",
        "*   Nas temporadas em análise, houve 4 confrontos diretos entre City e Liverpool, com 2 vitórias para o Liverpool, 1 empate e 1 vitória para o City. Os outros dois confrontos desta temporada ainda vão acontecer\n",
        "\n"
      ]
    },
    {
      "cell_type": "code",
      "metadata": {
        "id": "iOKpXskThi2N",
        "outputId": "bdb6ab1d-8317-48eb-aa9d-fb30b8c7f567",
        "colab": {
          "base_uri": "https://localhost:8080/",
          "height": 695
        }
      },
      "source": [
        "#Liverpool x Manchester City\n",
        "dfLivXCity = dataMatches.loc[(dataMatches['homeTeam.id']==64) & (dataMatches['awayTeam.id']==65) & (dataMatches['status']=='FINISHED'), ['homeTeam.name', 'score.fullTime.homeTeam', 'score.fullTime.awayTeam', 'awayTeam.name', 'ano']]\n",
        "dfCityXLiv = dataMatches.loc[(dataMatches['homeTeam.id']==65) & (dataMatches['awayTeam.id']==64) & (dataMatches['status']=='FINISHED'), ['homeTeam.name', 'score.fullTime.homeTeam', 'score.fullTime.awayTeam', 'awayTeam.name', 'ano']]\n",
        "dfClassico = pd.concat([dfLivXCity, dfCityXLiv]).sort_values(by=['ano'])\n",
        "print(tabulate(dfClassico, headers='keys', tablefmt='psql'))\n",
        "plt.pie([1,2,1], labels=['Empate', 'Liverpool', 'Manchester City'], autopct='%1.1f%%', shadow=True)"
      ],
      "execution_count": 262,
      "outputs": [
        {
          "output_type": "stream",
          "text": [
            "+-----+--------------------+---------------------------+---------------------------+--------------------+-------+\n",
            "|     | homeTeam.name      |   score.fullTime.homeTeam |   score.fullTime.awayTeam | awayTeam.name      |   ano |\n",
            "|-----+--------------------+---------------------------+---------------------------+--------------------+-------|\n",
            "| 311 | Liverpool FC       |                         0 |                         0 | Manchester City FC |    19 |\n",
            "| 243 | Manchester City FC |                         2 |                         1 | Liverpool FC       |    19 |\n",
            "| 475 | Liverpool FC       |                         3 |                         1 | Manchester City FC |    20 |\n",
            "| 756 | Manchester City FC |                         4 |                         0 | Liverpool FC       |    20 |\n",
            "+-----+--------------------+---------------------------+---------------------------+--------------------+-------+\n"
          ],
          "name": "stdout"
        },
        {
          "output_type": "execute_result",
          "data": {
            "text/plain": [
              "([<matplotlib.patches.Wedge at 0x7fd34e4b4438>,\n",
              "  <matplotlib.patches.Wedge at 0x7fd34e4b4e80>,\n",
              "  <matplotlib.patches.Wedge at 0x7fd34e4c1860>],\n",
              " [Text(0.7778174593052024, 0.7778174593052023, 'Empate'),\n",
              "  Text(-1.1, 1.3471114790620887e-16, 'Liverpool'),\n",
              "  Text(0.7778174593052022, -0.7778174593052025, 'Manchester City')],\n",
              " [Text(0.4242640687119285, 0.42426406871192845, '25.0%'),\n",
              "  Text(-0.6, 7.347880794884119e-17, '50.0%'),\n",
              "  Text(0.4242640687119284, -0.4242640687119286, '25.0%')])"
            ]
          },
          "metadata": {
            "tags": []
          },
          "execution_count": 262
        },
        {
          "output_type": "display_data",
          "data": {
            "image/png": "[encoded data removed]",
            "text/plain": [
              "<Figure size 640x480 with 1 Axes>"
            ]
          },
          "metadata": {
            "tags": []
          }
        }
      ]
    },
    {
      "cell_type": "markdown",
      "metadata": {
        "id": "kkBLDKa7hG2Q"
      },
      "source": [
        "\n",
        "\n",
        "*   Neste gráfico de setores podemos observar o desempenho do Liverpool contra o restante do Big 6. \n",
        "\n"
      ]
    },
    {
      "cell_type": "code",
      "metadata": {
        "id": "oME1QKXlvS8c",
        "outputId": "55a7f4db-b120-428b-a247-9492cd53a258",
        "colab": {
          "base_uri": "https://localhost:8080/",
          "height": 890
        }
      },
      "source": [
        "#Desempenho do Liverpool contra o Big 6\n",
        "#liv=64 city=65 che=61 tot=73 untd=66 ars=57\n",
        "livGames = dataMatches.loc[((dataMatches['homeTeam.id']==64) | (dataMatches['awayTeam.id']==64)) & (dataMatches['status']=='FINISHED')]\n",
        "livGamesAway = livGames.loc[(livGames['homeTeam.id']==65) | (livGames['homeTeam.id']==61) |  (livGames['homeTeam.id']==73) | (livGames['homeTeam.id']==66)| (livGames['homeTeam.id']==57)]\n",
        "livGamesHome = livGames.loc[(livGames['awayTeam.id']==65) | (livGames['awayTeam.id']==61) |  (livGames['awayTeam.id']==73) | (livGames['awayTeam.id']==66)| (livGames['awayTeam.id']==57)]\n",
        "livGamesB6 = pd.concat([livGamesAway,livGamesHome])\n",
        "livWinsB6 = livGamesB6.loc[((livGamesB6['homeTeam.id']==64) & (livGamesB6['score.winner']=='HOME_TEAM')) | ((livGamesB6['awayTeam.id']==64) & (livGamesB6['score.winner']=='AWAY_TEAM'))].count()\n",
        "livDrawsB6 = livGamesB6.loc[livGamesB6['score.winner']=='DRAW'].count()\n",
        "livDefeatsB6 = livGamesB6.count()-livWinsB6-livDrawsB6\n",
        "plt.pie([livWinsB6['id'], livDrawsB6['id'], livDefeatsB6['id']], labels=['Vitórias', 'Empates', 'Derrotas'], autopct='%1.1f%%', shadow=True)\n",
        "plt.title('Liverpool contra o Big 6  na Premier League desde 18/19')\n",
        "print(tabulate(livGamesB6 , headers='keys', tablefmt='psql'))"
      ],
      "execution_count": 263,
      "outputs": [
        {
          "output_type": "stream",
          "text": [
            "+-----+--------+----------------------+----------+------------+----------------+----------------+----------------------+-------------+--------------------+------------------+--------------------------+----------------+------------------+---------------------------+---------------------------+---------------------------+---------------------------+---------------+----------------------+---------------+----------------------+-------+--------------+-------------------+-------------------+--------------------+-----------+\n",
            "|     |     id | utcDate              | status   |   matchday | stage          | group          | lastUpdated          |   season.id | season.startDate   | season.endDate   |   season.currentMatchday | score.winner   | score.duration   |   score.fullTime.homeTeam |   score.fullTime.awayTeam |   score.halfTime.homeTeam |   score.halfTime.awayTeam |   homeTeam.id | homeTeam.name        |   awayTeam.id | awayTeam.name        |   ano |   totalGoals |   homeTeamOverall |   awayTeamOverall |   totalGoalsMinMax |   outlier |\n",
            "|-----+--------+----------------------+----------+------------+----------------+----------------+----------------------+-------------+--------------------+------------------+--------------------------+----------------+------------------+---------------------------+---------------------------+---------------------------+---------------------------+---------------+----------------------+---------------+----------------------+-------+--------------+-------------------+-------------------+--------------------+-----------|\n",
            "| 228 | 233287 | 2019-02-24T14:05:00Z | FINISHED |         27 | REGULAR_SEASON | Regular Season | 2019-04-20T15:34:33Z |         151 | 2018-08-10         | 2019-05-12       |                       38 | DRAW           | REGULAR          |                         0 |                         0 |                         0 |                         0 |            66 | Manchester United FC |            64 | Liverpool FC         |    19 |            0 |                82 |                83 |          -1        |         1 |\n",
            "| 236 | 233126 | 2018-11-03T17:30:00Z | FINISHED |         11 | REGULAR_SEASON | Regular Season | 2019-04-20T15:34:33Z |         151 | 2018-08-10         | 2019-05-12       |                       38 | DRAW           | REGULAR          |                         1 |                         1 |                         0 |                         0 |            57 | Arsenal FC           |            64 | Liverpool FC         |    19 |            2 |                82 |                83 |          -0.555556 |         1 |\n",
            "| 238 | 233067 | 2018-09-15T11:30:00Z | FINISHED |          5 | REGULAR_SEASON | Regular Season | 2019-04-20T15:34:33Z |         151 | 2018-08-10         | 2019-05-12       |                       38 | AWAY_TEAM      | REGULAR          |                         1 |                         2 |                         0 |                         1 |            73 | Tottenham Hotspur FC |            64 | Liverpool FC         |    19 |            3 |                83 |                83 |          -0.333333 |         1 |\n",
            "| 242 | 233087 | 2018-09-29T16:30:00Z | FINISHED |          7 | REGULAR_SEASON | Regular Season | 2019-04-20T15:34:33Z |         151 | 2018-08-10         | 2019-05-12       |                       38 | DRAW           | REGULAR          |                         1 |                         1 |                         1 |                         0 |            61 | Chelsea FC           |            64 | Liverpool FC         |    19 |            2 |                83 |                83 |          -0.555556 |         1 |\n",
            "| 243 | 233224 | 2019-01-03T20:00:00Z | FINISHED |         21 | REGULAR_SEASON | Regular Season | 2019-04-20T15:34:33Z |         151 | 2018-08-10         | 2019-05-12       |                       38 | HOME_TEAM      | REGULAR          |                         2 |                         1 |                         1 |                         0 |            65 | Manchester City FC   |            64 | Liverpool FC         |    19 |            3 |                85 |                83 |          -0.333333 |         1 |\n",
            "| 746 | 264554 | 2020-01-11T17:30:00Z | FINISHED |         22 | REGULAR_SEASON | Regular Season | 2020-01-11T23:59:24Z |         468 | 2019-08-09         | 2020-07-25       |                       38 | AWAY_TEAM      | REGULAR          |                         0 |                         1 |                         0 |                         1 |            73 | Tottenham Hotspur FC |            64 | Liverpool FC         |    20 |            1 |                82 |                85 |          -0.777778 |         1 |\n",
            "| 749 | 264426 | 2019-10-20T15:30:00Z | FINISHED |          9 | REGULAR_SEASON | Regular Season | 2019-10-21T22:05:04Z |         468 | 2019-08-09         | 2020-07-25       |                       38 | DRAW           | REGULAR          |                         1 |                         1 |                         1 |                         0 |            66 | Manchester United FC |            64 | Liverpool FC         |    20 |            2 |                81 |                85 |          -0.555556 |         1 |\n",
            "| 750 | 264693 | 2020-07-15T19:15:00Z | FINISHED |         36 | REGULAR_SEASON | Regular Season | 2020-07-25T08:34:38Z |         468 | 2019-08-09         | 2020-07-25       |                       38 | HOME_TEAM      | REGULAR          |                         2 |                         1 |                         2 |                         1 |            57 | Arsenal FC           |            64 | Liverpool FC         |    20 |            3 |                80 |                85 |          -0.333333 |         1 |\n",
            "| 756 | 264652 | 2020-07-02T19:15:00Z | FINISHED |         32 | REGULAR_SEASON | Regular Season | 2020-07-25T08:34:36Z |         468 | 2019-08-09         | 2020-07-25       |                       38 | HOME_TEAM      | REGULAR          |                         4 |                         0 |                         3 |                         0 |            65 | Manchester City FC   |            64 | Liverpool FC         |    20 |            4 |                85 |                85 |          -0.111111 |         1 |\n",
            "| 758 | 264394 | 2019-09-22T15:30:00Z | FINISHED |          6 | REGULAR_SEASON | Regular Season | 2019-09-26T15:34:48Z |         468 | 2019-08-09         | 2020-07-25       |                       38 | AWAY_TEAM      | REGULAR          |                         1 |                         2 |                         0 |                         2 |            61 | Chelsea FC           |            64 | Liverpool FC         |    20 |            3 |                81 |                85 |          -0.333333 |         1 |\n",
            "| 832 | 303771 | 2020-09-20T15:30:00Z | FINISHED |          2 | REGULAR_SEASON | Regular Season | 2020-09-20T21:22:00Z |         619 | 2020-09-12         | 2021-05-23       |                        5 | AWAY_TEAM      | REGULAR          |                         0 |                         2 |                         0 |                         0 |            61 | Chelsea FC           |            64 | Liverpool FC         |    21 |            2 |                82 |                85 |          -0.555556 |         1 |\n",
            "|  26 | 233334 | 2019-03-31T15:30:00Z | FINISHED |         32 | REGULAR_SEASON | Regular Season | 2019-04-20T15:34:33Z |         151 | 2018-08-10         | 2019-05-12       |                       38 | HOME_TEAM      | REGULAR          |                         2 |                         1 |                         1 |                         0 |            64 | Liverpool FC         |            73 | Tottenham Hotspur FC |    19 |            3 |                83 |                83 |          -0.333333 |         1 |\n",
            "| 121 | 233214 | 2018-12-29T17:30:00Z | FINISHED |         20 | REGULAR_SEASON | Regular Season | 2019-04-20T15:34:33Z |         151 | 2018-08-10         | 2019-05-12       |                       38 | HOME_TEAM      | REGULAR          |                         5 |                         1 |                         4 |                         1 |            64 | Liverpool FC         |            57 | Arsenal FC           |    19 |            6 |                83 |                82 |           0.333333 |         1 |\n",
            "| 311 | 233094 | 2018-10-07T15:30:00Z | FINISHED |          8 | REGULAR_SEASON | Regular Season | 2019-04-20T15:34:33Z |         151 | 2018-08-10         | 2019-05-12       |                       38 | DRAW           | REGULAR          |                         0 |                         0 |                         0 |                         0 |            64 | Liverpool FC         |            65 | Manchester City FC   |    19 |            0 |                83 |                85 |          -1        |         1 |\n",
            "| 330 | 233354 | 2019-04-14T15:30:00Z | FINISHED |         34 | REGULAR_SEASON | Regular Season | 2019-04-20T15:34:33Z |         151 | 2018-08-10         | 2019-05-12       |                       38 | HOME_TEAM      | REGULAR          |                         2 |                         0 |                         0 |                         0 |            64 | Liverpool FC         |            61 | Chelsea FC           |    19 |            2 |                83 |                83 |          -0.555556 |         1 |\n",
            "| 367 | 233185 | 2018-12-16T16:00:00Z | FINISHED |         17 | REGULAR_SEASON | Regular Season | 2019-04-20T15:34:33Z |         151 | 2018-08-10         | 2019-05-12       |                       38 | HOME_TEAM      | REGULAR          |                         3 |                         1 |                         1 |                         1 |            64 | Liverpool FC         |            66 | Manchester United FC |    19 |            4 |                83 |                82 |          -0.111111 |         1 |\n",
            "| 399 | 264363 | 2019-08-24T16:30:00Z | FINISHED |          3 | REGULAR_SEASON | Regular Season | 2019-09-26T15:34:47Z |         468 | 2019-08-09         | 2020-07-25       |                       38 | HOME_TEAM      | REGULAR          |                         3 |                         1 |                         1 |                         0 |            64 | Liverpool FC         |            57 | Arsenal FC           |    20 |            4 |                85 |                80 |          -0.111111 |         1 |\n",
            "| 456 | 264431 | 2019-10-27T16:30:00Z | FINISHED |         10 | REGULAR_SEASON | Regular Season | 2019-11-04T14:34:39Z |         468 | 2019-08-09         | 2020-07-25       |                       38 | HOME_TEAM      | REGULAR          |                         2 |                         1 |                         0 |                         1 |            64 | Liverpool FC         |            73 | Tottenham Hotspur FC |    20 |            3 |                85 |                82 |          -0.333333 |         1 |\n",
            "| 475 | 264452 | 2019-11-10T16:30:00Z | FINISHED |         12 | REGULAR_SEASON | Regular Season | 2019-11-11T12:40:04Z |         468 | 2019-08-09         | 2020-07-25       |                       38 | HOME_TEAM      | REGULAR          |                         3 |                         1 |                         2 |                         0 |            64 | Liverpool FC         |            65 | Manchester City FC   |    20 |            4 |                85 |                85 |          -0.111111 |         1 |\n",
            "| 589 | 264561 | 2020-01-19T16:30:00Z | FINISHED |         23 | REGULAR_SEASON | Regular Season | 2020-01-19T23:59:39Z |         468 | 2019-08-09         | 2020-07-25       |                       38 | HOME_TEAM      | REGULAR          |                         2 |                         0 |                         1 |                         0 |            64 | Liverpool FC         |            66 | Manchester United FC |    20 |            2 |                85 |                81 |          -0.555556 |         1 |\n",
            "| 722 | 264703 | 2020-07-22T19:15:00Z | FINISHED |         37 | REGULAR_SEASON | Regular Season | 2020-07-25T08:34:39Z |         468 | 2019-08-09         | 2020-07-25       |                       38 | HOME_TEAM      | REGULAR          |                         5 |                         3 |                         3 |                         1 |            64 | Liverpool FC         |            61 | Chelsea FC           |    20 |            8 |                85 |                81 |           0.777778 |         1 |\n",
            "| 802 | 303778 | 2020-09-28T19:00:00Z | FINISHED |          3 | REGULAR_SEASON | Regular Season | 2020-09-28T23:59:36Z |         619 | 2020-09-12         | 2021-05-23       |                        5 | HOME_TEAM      | REGULAR          |                         3 |                         1 |                         2 |                         1 |            64 | Liverpool FC         |            57 | Arsenal FC           |    21 |            4 |                85 |                81 |          -0.111111 |         1 |\n",
            "+-----+--------+----------------------+----------+------------+----------------+----------------+----------------------+-------------+--------------------+------------------+--------------------------+----------------+------------------+---------------------------+---------------------------+---------------------------+---------------------------+---------------+----------------------+---------------+----------------------+-------+--------------+-------------------+-------------------+--------------------+-----------+\n"
          ],
          "name": "stdout"
        },
        {
          "output_type": "display_data",
          "data": {
            "image/png": "[encoded data removed]",
            "text/plain": [
              "<Figure size 640x480 with 1 Axes>"
            ]
          },
          "metadata": {
            "tags": []
          }
        }
      ]
    },
    {
      "cell_type": "markdown",
      "metadata": {
        "id": "ehHUNdCajOxM"
      },
      "source": [
        "* Abaixo temos o gráfico de setores do Manchester City contra o Big 6. A percentagem de vitórias é parecida com a do Liverpool, porém há uma quantidade considerável de derrotas, 30%, enquanto a do liverpool é 13.6%."
      ]
    },
    {
      "cell_type": "code",
      "metadata": {
        "id": "5EK6PsEC_x2w",
        "outputId": "0add6054-d7dc-4e54-adf0-ef5c1350fe7d",
        "colab": {
          "base_uri": "https://localhost:8080/",
          "height": 445
        }
      },
      "source": [
        "#Desempenho do Manchester City contra o Big 6\n",
        "cityGames = dataMatches.loc[((dataMatches['homeTeam.id']==65) | (dataMatches['awayTeam.id']==65)) & (dataMatches['status']=='FINISHED')]\n",
        "cityGamesAway = cityGames.loc[(cityGames['homeTeam.id']==64) | (cityGames['homeTeam.id']==61) |  (cityGames['homeTeam.id']==73) | (cityGames['homeTeam.id']==66)| (cityGames['homeTeam.id']==57)]\n",
        "cityGamesHome = cityGames.loc[(cityGames['awayTeam.id']==64) | (cityGames['awayTeam.id']==61) |  (cityGames['awayTeam.id']==73) | (cityGames['awayTeam.id']==66)| (cityGames['awayTeam.id']==57)]\n",
        "cityGamesB6 = pd.concat([cityGamesAway,cityGamesHome])\n",
        "cityWinsB6 = cityGamesB6.loc[((cityGamesB6['homeTeam.id']==65) & (cityGamesB6['score.winner']=='HOME_TEAM')) | ((cityGamesB6['awayTeam.id']==65) & (cityGamesB6['score.winner']=='AWAY_TEAM'))].count()\n",
        "cityDrawsB6 = cityGamesB6.loc[cityGamesB6['score.winner']=='DRAW'].count()\n",
        "cityDefeatsB6 = cityGamesB6.count()-cityWinsB6-cityDrawsB6\n",
        "plt.pie([cityWinsB6['id'], cityDrawsB6['id'], cityDefeatsB6['id']], labels=['Vitórias', 'Empates', 'Derrotas'], autopct='%1.1f%%', shadow=True)\n",
        "plt.title('Manchester City contra o Big 6 na Premier League desde 18/19')\n",
        "#print(tabulate(livGamesB6 , headers='keys', tablefmt='psql'))"
      ],
      "execution_count": 264,
      "outputs": [
        {
          "output_type": "execute_result",
          "data": {
            "text/plain": [
              "Text(0.5, 1.0, 'Manchester City contra o Big 6 na Premier League desde 18/19')"
            ]
          },
          "metadata": {
            "tags": []
          },
          "execution_count": 264
        },
        {
          "output_type": "display_data",
          "data": {
            "image/png": "[encoded data removed]",
            "text/plain": [
              "<Figure size 640x480 with 1 Axes>"
            ]
          },
          "metadata": {
            "tags": []
          }
        }
      ]
    },
    {
      "cell_type": "markdown",
      "metadata": {
        "id": "VZZyyBmBIYRB"
      },
      "source": [
        "\n",
        "\n",
        "*   Abaixo adicionamos ao dataframe das partidas os gols que aconteceram no segundo tempo. Depois, criamos 4 dataframes para o Liverpool e City, com dados dentro e fora de casa separados. Ainda na célula, foram feitas as covariancias entre os atributos\n",
        "\n"
      ]
    },
    {
      "cell_type": "code",
      "metadata": {
        "id": "8daLC4SsBejV"
      },
      "source": [
        "\n",
        "dataMatches['score.secondTime.homeTeam'] = dataMatches['score.fullTime.homeTeam']-dataMatches['score.halfTime.homeTeam']\n",
        "dataMatches['score.secondTime.awayTeam'] = dataMatches['score.fullTime.awayTeam']-dataMatches['score.halfTime.awayTeam']\n",
        "#Gerando a pontuação de cada time por jogo no dataframe de partidas\n",
        "dataMatches.loc[dataMatches['score.winner'] == 'AWAY_TEAM','points.awayTeam.Gained'] = 3\n",
        "dataMatches.loc[dataMatches['score.winner'] == 'DRAW','points.awayTeam.Gained'] = 1\n",
        "dataMatches.loc[dataMatches['score.winner'] == 'HOME_TEAM','points.awayTeam.Gained'] = 0\n",
        "dataMatches.loc[dataMatches['score.winner'] == 'AWAY_TEAM','points.homeTeam.Gained'] = 0\n",
        "dataMatches.loc[dataMatches['score.winner'] == 'DRAW','points.homeTeam.Gained'] = 1\n",
        "dataMatches.loc[dataMatches['score.winner'] == 'HOME_TEAM','points.homeTeam.Gained'] = 3\n",
        "lvpHome = dataMatches.loc[dataMatches['homeTeam.id']==64]\n",
        "lvpAway = dataMatches.loc[dataMatches['awayTeam.id']==64]\n",
        "cityHome = dataMatches.loc[dataMatches['homeTeam.id']==65]\n",
        "cityAway = dataMatches.loc[dataMatches['awayTeam.id']==65]\n",
        "#lvpHome.cov()\n",
        "#lvpAway.cov()\n",
        "#cityHome.cov()\n",
        "#cityAway.cov()"
      ],
      "execution_count": 265,
      "outputs": []
    },
    {
      "cell_type": "markdown",
      "metadata": {
        "id": "PQK-UGWWJbWz"
      },
      "source": [
        "\n",
        "\n",
        "*   Nas 4 proximas células foram feitas scarplotts com densidades (os mais escuros são os que ocorrem numa maior frequência), sendo o eixo X gols no primeiro tempo e o Eixo Y gols no segundo tempo. Os dois primeiros são do Liverpool, em vermelho. Já os dois últimos são do City, em azul. \n",
        "* Podemos observar que a distribuição de bolinhas nos gráficos do Manchester City são mais amplas, o que indica que teve jogos em que marcou uma quantidade de gols enorme, ao contrário do Liverpool, que principalmente fora de casa não tem costume de marcar tantos gols.\n",
        "\n"
      ]
    },
    {
      "cell_type": "code",
      "metadata": {
        "id": "fBnbZ0GpBf97",
        "outputId": "8d12cfec-19a2-4870-8710-9206e4a6df32",
        "colab": {
          "base_uri": "https://localhost:8080/",
          "height": 466
        }
      },
      "source": [
        "sns.regplot(x=lvpHome['score.halfTime.homeTeam'], y=lvpHome['score.secondTime.homeTeam'], fit_reg=False, scatter_kws={\"color\":\"darkred\",\"alpha\":0.3,\"s\":300})"
      ],
      "execution_count": 266,
      "outputs": [
        {
          "output_type": "execute_result",
          "data": {
            "text/plain": [
              "<matplotlib.axes._subplots.AxesSubplot at 0x7fd34e503f98>"
            ]
          },
          "metadata": {
            "tags": []
          },
          "execution_count": 266
        },
        {
          "output_type": "display_data",
          "data": {
            "image/png": "[encoded data removed]",
            "text/plain": [
              "<Figure size 640x480 with 1 Axes>"
            ]
          },
          "metadata": {
            "tags": []
          }
        }
      ]
    },
    {
      "cell_type": "code",
      "metadata": {
        "id": "K2rzX1ZEBjgb",
        "outputId": "895af859-ffe0-4db9-f0d4-a7c7109fd91a",
        "colab": {
          "base_uri": "https://localhost:8080/",
          "height": 466
        }
      },
      "source": [
        "sns.regplot(x=lvpAway['score.halfTime.awayTeam'], y=lvpAway['score.secondTime.awayTeam'], fit_reg=False, scatter_kws={\"color\":\"darkred\",\"alpha\":0.3,\"s\":300})"
      ],
      "execution_count": 267,
      "outputs": [
        {
          "output_type": "execute_result",
          "data": {
            "text/plain": [
              "<matplotlib.axes._subplots.AxesSubplot at 0x7fd34e362e80>"
            ]
          },
          "metadata": {
            "tags": []
          },
          "execution_count": 267
        },
        {
          "output_type": "display_data",
          "data": {
            "image/png": "[encoded data removed]",
            "text/plain": [
              "<Figure size 640x480 with 1 Axes>"
            ]
          },
          "metadata": {
            "tags": []
          }
        }
      ]
    },
    {
      "cell_type": "code",
      "metadata": {
        "id": "RPzmjL4aBlqK",
        "outputId": "6ee48eee-3e3a-480f-ef14-139032fb6704",
        "colab": {
          "base_uri": "https://localhost:8080/",
          "height": 466
        }
      },
      "source": [
        "sns.regplot(x=cityHome['score.halfTime.homeTeam'], y=cityHome['score.secondTime.homeTeam'], fit_reg=False, scatter_kws={\"color\":\"darkblue\",\"alpha\":0.3,\"s\":300})"
      ],
      "execution_count": 268,
      "outputs": [
        {
          "output_type": "execute_result",
          "data": {
            "text/plain": [
              "<matplotlib.axes._subplots.AxesSubplot at 0x7fd34e3cd438>"
            ]
          },
          "metadata": {
            "tags": []
          },
          "execution_count": 268
        },
        {
          "output_type": "display_data",
          "data": {
            "image/png": "[encoded data removed]",
            "text/plain": [
              "<Figure size 640x480 with 1 Axes>"
            ]
          },
          "metadata": {
            "tags": []
          }
        }
      ]
    },
    {
      "cell_type": "code",
      "metadata": {
        "id": "Qn9j9X2zBobk",
        "outputId": "5bbbdf15-821c-412f-fb85-72b72bd38e50",
        "colab": {
          "base_uri": "https://localhost:8080/",
          "height": 466
        }
      },
      "source": [
        "sns.regplot(x=cityAway['score.halfTime.awayTeam'], y=cityAway['score.secondTime.awayTeam'], fit_reg=False, scatter_kws={\"color\":\"darkblue\",\"alpha\":0.3,\"s\":300})"
      ],
      "execution_count": 269,
      "outputs": [
        {
          "output_type": "execute_result",
          "data": {
            "text/plain": [
              "<matplotlib.axes._subplots.AxesSubplot at 0x7fd34e2a7f28>"
            ]
          },
          "metadata": {
            "tags": []
          },
          "execution_count": 269
        },
        {
          "output_type": "display_data",
          "data": {
            "image/png": "[encoded data removed]",
            "text/plain": [
              "<Figure size 640x480 with 1 Axes>"
            ]
          },
          "metadata": {
            "tags": []
          }
        }
      ]
    },
    {
      "cell_type": "markdown",
      "metadata": {
        "id": "loCb_uPNScJt"
      },
      "source": [
        "\n",
        "\n",
        "*   Com a covariância feita, faremos agora a correlação entre os atributos. Vamos destacar a correlação entre \"totalGoals\", \"score.fullTime.homeTeam\" e \"score.fullTime.awayTeam\". O método usado foi o de Pearson, pois são duas variáveis dependentes e quantitativas.\n",
        "* Podemos observar, nos jogos do Manchester city, que a correlação entre os gols feitos pelo city e o total de gols na partida é forte. Já correlação entre os gols dos adversários e o total de gols na partida é fraca. Podemos inferir, então, que os placares nos jogos do city tendem a ser elásticos, com grande influencia de seus gols no placar do jogo e baixa influencia dos gols do adversário\n",
        "* Já nos jogos do Liverpool, apesar do ótimo desempenho do time, observamos que a correlação entre os gols do adversário no placar também é alta, influenciando assim no placar da partida.Isso indica, então, que os placares são menos elásticos. Apesar do ótimo restrospecto, o Liverpool não aplica tantas goleadas em seus jogos.\n",
        "\n"
      ]
    },
    {
      "cell_type": "code",
      "metadata": {
        "id": "H_cMpWDKZo1-",
        "outputId": "0304a2ba-695a-4f67-8a42-36b64cba6e92",
        "colab": {
          "base_uri": "https://localhost:8080/",
          "height": 689
        }
      },
      "source": [
        "cityHome.corr(method='pearson')"
      ],
      "execution_count": 270,
      "outputs": [
        {
          "output_type": "execute_result",
          "data": {
            "text/html": [
              "<div>\n",
              "<style scoped>\n",
              "    .dataframe tbody tr th:only-of-type {\n",
              "        vertical-align: middle;\n",
              "    }\n",
              "\n",
              "    .dataframe tbody tr th {\n",
              "        vertical-align: top;\n",
              "    }\n",
              "\n",
              "    .dataframe thead th {\n",
              "        text-align: right;\n",
              "    }\n",
              "</style>\n",
              "<table border=\"1\" class=\"dataframe\">\n",
              "  <thead>\n",
              "    <tr style=\"text-align: right;\">\n",
              "      <th></th>\n",
              "      <th>id</th>\n",
              "      <th>matchday</th>\n",
              "      <th>season.id</th>\n",
              "      <th>season.currentMatchday</th>\n",
              "      <th>score.fullTime.homeTeam</th>\n",
              "      <th>score.fullTime.awayTeam</th>\n",
              "      <th>score.halfTime.homeTeam</th>\n",
              "      <th>score.halfTime.awayTeam</th>\n",
              "      <th>homeTeam.id</th>\n",
              "      <th>awayTeam.id</th>\n",
              "      <th>ano</th>\n",
              "      <th>totalGoals</th>\n",
              "      <th>homeTeamOverall</th>\n",
              "      <th>awayTeamOverall</th>\n",
              "      <th>totalGoalsMinMax</th>\n",
              "      <th>outlier</th>\n",
              "      <th>score.secondTime.homeTeam</th>\n",
              "      <th>score.secondTime.awayTeam</th>\n",
              "      <th>points.awayTeam.Gained</th>\n",
              "      <th>points.homeTeam.Gained</th>\n",
              "    </tr>\n",
              "  </thead>\n",
              "  <tbody>\n",
              "    <tr>\n",
              "      <th>id</th>\n",
              "      <td>1.000000</td>\n",
              "      <td>-0.067178</td>\n",
              "      <td>0.978330</td>\n",
              "      <td>-0.489496</td>\n",
              "      <td>-0.047043</td>\n",
              "      <td>0.348730</td>\n",
              "      <td>-0.046783</td>\n",
              "      <td>0.081935</td>\n",
              "      <td>NaN</td>\n",
              "      <td>-0.039286</td>\n",
              "      <td>0.997954</td>\n",
              "      <td>0.167850</td>\n",
              "      <td>NaN</td>\n",
              "      <td>0.019499</td>\n",
              "      <td>0.167850</td>\n",
              "      <td>NaN</td>\n",
              "      <td>-0.020626</td>\n",
              "      <td>0.401017</td>\n",
              "      <td>0.350244</td>\n",
              "      <td>-0.370580</td>\n",
              "    </tr>\n",
              "    <tr>\n",
              "      <th>matchday</th>\n",
              "      <td>-0.067178</td>\n",
              "      <td>1.000000</td>\n",
              "      <td>-0.024611</td>\n",
              "      <td>0.233194</td>\n",
              "      <td>-0.097621</td>\n",
              "      <td>-0.371005</td>\n",
              "      <td>-0.059059</td>\n",
              "      <td>-0.354198</td>\n",
              "      <td>NaN</td>\n",
              "      <td>0.111842</td>\n",
              "      <td>-0.058494</td>\n",
              "      <td>-0.327293</td>\n",
              "      <td>NaN</td>\n",
              "      <td>0.124454</td>\n",
              "      <td>-0.327293</td>\n",
              "      <td>NaN</td>\n",
              "      <td>-0.089390</td>\n",
              "      <td>-0.225111</td>\n",
              "      <td>-0.262697</td>\n",
              "      <td>0.276680</td>\n",
              "    </tr>\n",
              "    <tr>\n",
              "      <th>season.id</th>\n",
              "      <td>0.978330</td>\n",
              "      <td>-0.024611</td>\n",
              "      <td>1.000000</td>\n",
              "      <td>-0.298431</td>\n",
              "      <td>-0.028219</td>\n",
              "      <td>0.224152</td>\n",
              "      <td>-0.037129</td>\n",
              "      <td>0.051149</td>\n",
              "      <td>NaN</td>\n",
              "      <td>-0.054508</td>\n",
              "      <td>0.989537</td>\n",
              "      <td>0.109921</td>\n",
              "      <td>NaN</td>\n",
              "      <td>0.007474</td>\n",
              "      <td>0.109921</td>\n",
              "      <td>NaN</td>\n",
              "      <td>-0.001264</td>\n",
              "      <td>0.258905</td>\n",
              "      <td>0.273863</td>\n",
              "      <td>-0.305103</td>\n",
              "    </tr>\n",
              "    <tr>\n",
              "      <th>season.currentMatchday</th>\n",
              "      <td>-0.489496</td>\n",
              "      <td>0.233194</td>\n",
              "      <td>-0.298431</td>\n",
              "      <td>1.000000</td>\n",
              "      <td>0.094558</td>\n",
              "      <td>-0.670001</td>\n",
              "      <td>0.057206</td>\n",
              "      <td>-0.171394</td>\n",
              "      <td>NaN</td>\n",
              "      <td>-0.044874</td>\n",
              "      <td>-0.433013</td>\n",
              "      <td>-0.318277</td>\n",
              "      <td>NaN</td>\n",
              "      <td>-0.054422</td>\n",
              "      <td>-0.318277</td>\n",
              "      <td>NaN</td>\n",
              "      <td>0.086585</td>\n",
              "      <td>-0.759912</td>\n",
              "      <td>-0.465935</td>\n",
              "      <td>0.428798</td>\n",
              "    </tr>\n",
              "    <tr>\n",
              "      <th>score.fullTime.homeTeam</th>\n",
              "      <td>-0.047043</td>\n",
              "      <td>-0.097621</td>\n",
              "      <td>-0.028219</td>\n",
              "      <td>0.094558</td>\n",
              "      <td>1.000000</td>\n",
              "      <td>-0.317921</td>\n",
              "      <td>0.799613</td>\n",
              "      <td>-0.147885</td>\n",
              "      <td>NaN</td>\n",
              "      <td>-0.040774</td>\n",
              "      <td>-0.040945</td>\n",
              "      <td>0.810921</td>\n",
              "      <td>NaN</td>\n",
              "      <td>-0.162446</td>\n",
              "      <td>0.810921</td>\n",
              "      <td>NaN</td>\n",
              "      <td>0.677205</td>\n",
              "      <td>-0.310355</td>\n",
              "      <td>-0.377699</td>\n",
              "      <td>0.384988</td>\n",
              "    </tr>\n",
              "    <tr>\n",
              "      <th>score.fullTime.awayTeam</th>\n",
              "      <td>0.348730</td>\n",
              "      <td>-0.371005</td>\n",
              "      <td>0.224152</td>\n",
              "      <td>-0.670001</td>\n",
              "      <td>-0.317921</td>\n",
              "      <td>1.000000</td>\n",
              "      <td>-0.224310</td>\n",
              "      <td>0.664471</td>\n",
              "      <td>NaN</td>\n",
              "      <td>0.012496</td>\n",
              "      <td>0.312977</td>\n",
              "      <td>0.296987</td>\n",
              "      <td>NaN</td>\n",
              "      <td>0.145707</td>\n",
              "      <td>0.296987</td>\n",
              "      <td>NaN</td>\n",
              "      <td>-0.251938</td>\n",
              "      <td>0.825788</td>\n",
              "      <td>0.795734</td>\n",
              "      <td>-0.809703</td>\n",
              "    </tr>\n",
              "    <tr>\n",
              "      <th>score.halfTime.homeTeam</th>\n",
              "      <td>-0.046783</td>\n",
              "      <td>-0.059059</td>\n",
              "      <td>-0.037129</td>\n",
              "      <td>0.057206</td>\n",
              "      <td>0.799613</td>\n",
              "      <td>-0.224310</td>\n",
              "      <td>1.000000</td>\n",
              "      <td>-0.054791</td>\n",
              "      <td>NaN</td>\n",
              "      <td>-0.000184</td>\n",
              "      <td>-0.043713</td>\n",
              "      <td>0.666879</td>\n",
              "      <td>NaN</td>\n",
              "      <td>0.044951</td>\n",
              "      <td>0.666879</td>\n",
              "      <td>NaN</td>\n",
              "      <td>0.099646</td>\n",
              "      <td>-0.256366</td>\n",
              "      <td>-0.273026</td>\n",
              "      <td>0.274698</td>\n",
              "    </tr>\n",
              "    <tr>\n",
              "      <th>score.halfTime.awayTeam</th>\n",
              "      <td>0.081935</td>\n",
              "      <td>-0.354198</td>\n",
              "      <td>0.051149</td>\n",
              "      <td>-0.171394</td>\n",
              "      <td>-0.147885</td>\n",
              "      <td>0.664471</td>\n",
              "      <td>-0.054791</td>\n",
              "      <td>1.000000</td>\n",
              "      <td>NaN</td>\n",
              "      <td>0.038683</td>\n",
              "      <td>0.074216</td>\n",
              "      <td>0.261156</td>\n",
              "      <td>NaN</td>\n",
              "      <td>0.065860</td>\n",
              "      <td>0.261156</td>\n",
              "      <td>NaN</td>\n",
              "      <td>-0.177904</td>\n",
              "      <td>0.127242</td>\n",
              "      <td>0.556100</td>\n",
              "      <td>-0.577213</td>\n",
              "    </tr>\n",
              "    <tr>\n",
              "      <th>homeTeam.id</th>\n",
              "      <td>NaN</td>\n",
              "      <td>NaN</td>\n",
              "      <td>NaN</td>\n",
              "      <td>NaN</td>\n",
              "      <td>NaN</td>\n",
              "      <td>NaN</td>\n",
              "      <td>NaN</td>\n",
              "      <td>NaN</td>\n",
              "      <td>NaN</td>\n",
              "      <td>NaN</td>\n",
              "      <td>NaN</td>\n",
              "      <td>NaN</td>\n",
              "      <td>NaN</td>\n",
              "      <td>NaN</td>\n",
              "      <td>NaN</td>\n",
              "      <td>NaN</td>\n",
              "      <td>NaN</td>\n",
              "      <td>NaN</td>\n",
              "      <td>NaN</td>\n",
              "      <td>NaN</td>\n",
              "    </tr>\n",
              "    <tr>\n",
              "      <th>awayTeam.id</th>\n",
              "      <td>-0.039286</td>\n",
              "      <td>0.111842</td>\n",
              "      <td>-0.054508</td>\n",
              "      <td>-0.044874</td>\n",
              "      <td>-0.040774</td>\n",
              "      <td>0.012496</td>\n",
              "      <td>-0.000184</td>\n",
              "      <td>0.038683</td>\n",
              "      <td>NaN</td>\n",
              "      <td>1.000000</td>\n",
              "      <td>-0.044696</td>\n",
              "      <td>-0.033353</td>\n",
              "      <td>NaN</td>\n",
              "      <td>-0.454124</td>\n",
              "      <td>-0.033353</td>\n",
              "      <td>NaN</td>\n",
              "      <td>-0.067335</td>\n",
              "      <td>-0.012609</td>\n",
              "      <td>-0.091569</td>\n",
              "      <td>0.097326</td>\n",
              "    </tr>\n",
              "    <tr>\n",
              "      <th>ano</th>\n",
              "      <td>0.997954</td>\n",
              "      <td>-0.058494</td>\n",
              "      <td>0.989537</td>\n",
              "      <td>-0.433013</td>\n",
              "      <td>-0.040945</td>\n",
              "      <td>0.312977</td>\n",
              "      <td>-0.043713</td>\n",
              "      <td>0.074216</td>\n",
              "      <td>NaN</td>\n",
              "      <td>-0.044696</td>\n",
              "      <td>1.000000</td>\n",
              "      <td>0.151925</td>\n",
              "      <td>NaN</td>\n",
              "      <td>0.015286</td>\n",
              "      <td>0.151925</td>\n",
              "      <td>NaN</td>\n",
              "      <td>-0.014283</td>\n",
              "      <td>0.359390</td>\n",
              "      <td>0.329077</td>\n",
              "      <td>-0.352967</td>\n",
              "    </tr>\n",
              "    <tr>\n",
              "      <th>totalGoals</th>\n",
              "      <td>0.167850</td>\n",
              "      <td>-0.327293</td>\n",
              "      <td>0.109921</td>\n",
              "      <td>-0.318277</td>\n",
              "      <td>0.810921</td>\n",
              "      <td>0.296987</td>\n",
              "      <td>0.666879</td>\n",
              "      <td>0.261156</td>\n",
              "      <td>NaN</td>\n",
              "      <td>-0.033353</td>\n",
              "      <td>0.151925</td>\n",
              "      <td>1.000000</td>\n",
              "      <td>NaN</td>\n",
              "      <td>-0.073678</td>\n",
              "      <td>1.000000</td>\n",
              "      <td>NaN</td>\n",
              "      <td>0.526546</td>\n",
              "      <td>0.197088</td>\n",
              "      <td>0.110715</td>\n",
              "      <td>-0.111994</td>\n",
              "    </tr>\n",
              "    <tr>\n",
              "      <th>homeTeamOverall</th>\n",
              "      <td>NaN</td>\n",
              "      <td>NaN</td>\n",
              "      <td>NaN</td>\n",
              "      <td>NaN</td>\n",
              "      <td>NaN</td>\n",
              "      <td>NaN</td>\n",
              "      <td>NaN</td>\n",
              "      <td>NaN</td>\n",
              "      <td>NaN</td>\n",
              "      <td>NaN</td>\n",
              "      <td>NaN</td>\n",
              "      <td>NaN</td>\n",
              "      <td>NaN</td>\n",
              "      <td>NaN</td>\n",
              "      <td>NaN</td>\n",
              "      <td>NaN</td>\n",
              "      <td>NaN</td>\n",
              "      <td>NaN</td>\n",
              "      <td>NaN</td>\n",
              "      <td>NaN</td>\n",
              "    </tr>\n",
              "    <tr>\n",
              "      <th>awayTeamOverall</th>\n",
              "      <td>0.019499</td>\n",
              "      <td>0.124454</td>\n",
              "      <td>0.007474</td>\n",
              "      <td>-0.054422</td>\n",
              "      <td>-0.162446</td>\n",
              "      <td>0.145707</td>\n",
              "      <td>0.044951</td>\n",
              "      <td>0.065860</td>\n",
              "      <td>NaN</td>\n",
              "      <td>-0.454124</td>\n",
              "      <td>0.015286</td>\n",
              "      <td>-0.073678</td>\n",
              "      <td>NaN</td>\n",
              "      <td>1.000000</td>\n",
              "      <td>-0.073678</td>\n",
              "      <td>NaN</td>\n",
              "      <td>-0.324243</td>\n",
              "      <td>0.143687</td>\n",
              "      <td>0.111248</td>\n",
              "      <td>-0.131223</td>\n",
              "    </tr>\n",
              "    <tr>\n",
              "      <th>totalGoalsMinMax</th>\n",
              "      <td>0.167850</td>\n",
              "      <td>-0.327293</td>\n",
              "      <td>0.109921</td>\n",
              "      <td>-0.318277</td>\n",
              "      <td>0.810921</td>\n",
              "      <td>0.296987</td>\n",
              "      <td>0.666879</td>\n",
              "      <td>0.261156</td>\n",
              "      <td>NaN</td>\n",
              "      <td>-0.033353</td>\n",
              "      <td>0.151925</td>\n",
              "      <td>1.000000</td>\n",
              "      <td>NaN</td>\n",
              "      <td>-0.073678</td>\n",
              "      <td>1.000000</td>\n",
              "      <td>NaN</td>\n",
              "      <td>0.526546</td>\n",
              "      <td>0.197088</td>\n",
              "      <td>0.110715</td>\n",
              "      <td>-0.111994</td>\n",
              "    </tr>\n",
              "    <tr>\n",
              "      <th>outlier</th>\n",
              "      <td>NaN</td>\n",
              "      <td>NaN</td>\n",
              "      <td>NaN</td>\n",
              "      <td>NaN</td>\n",
              "      <td>NaN</td>\n",
              "      <td>NaN</td>\n",
              "      <td>NaN</td>\n",
              "      <td>NaN</td>\n",
              "      <td>NaN</td>\n",
              "      <td>NaN</td>\n",
              "      <td>NaN</td>\n",
              "      <td>NaN</td>\n",
              "      <td>NaN</td>\n",
              "      <td>NaN</td>\n",
              "      <td>NaN</td>\n",
              "      <td>NaN</td>\n",
              "      <td>NaN</td>\n",
              "      <td>NaN</td>\n",
              "      <td>NaN</td>\n",
              "      <td>NaN</td>\n",
              "    </tr>\n",
              "    <tr>\n",
              "      <th>score.secondTime.homeTeam</th>\n",
              "      <td>-0.020626</td>\n",
              "      <td>-0.089390</td>\n",
              "      <td>-0.001264</td>\n",
              "      <td>0.086585</td>\n",
              "      <td>0.677205</td>\n",
              "      <td>-0.251938</td>\n",
              "      <td>0.099646</td>\n",
              "      <td>-0.177904</td>\n",
              "      <td>NaN</td>\n",
              "      <td>-0.067335</td>\n",
              "      <td>-0.014283</td>\n",
              "      <td>0.526546</td>\n",
              "      <td>NaN</td>\n",
              "      <td>-0.324243</td>\n",
              "      <td>0.526546</td>\n",
              "      <td>NaN</td>\n",
              "      <td>1.000000</td>\n",
              "      <td>-0.200124</td>\n",
              "      <td>-0.291297</td>\n",
              "      <td>0.301326</td>\n",
              "    </tr>\n",
              "    <tr>\n",
              "      <th>score.secondTime.awayTeam</th>\n",
              "      <td>0.401017</td>\n",
              "      <td>-0.225111</td>\n",
              "      <td>0.258905</td>\n",
              "      <td>-0.759912</td>\n",
              "      <td>-0.310355</td>\n",
              "      <td>0.825788</td>\n",
              "      <td>-0.256366</td>\n",
              "      <td>0.127242</td>\n",
              "      <td>NaN</td>\n",
              "      <td>-0.012609</td>\n",
              "      <td>0.359390</td>\n",
              "      <td>0.197088</td>\n",
              "      <td>NaN</td>\n",
              "      <td>0.143687</td>\n",
              "      <td>0.197088</td>\n",
              "      <td>NaN</td>\n",
              "      <td>-0.200124</td>\n",
              "      <td>1.000000</td>\n",
              "      <td>0.636462</td>\n",
              "      <td>-0.639068</td>\n",
              "    </tr>\n",
              "    <tr>\n",
              "      <th>points.awayTeam.Gained</th>\n",
              "      <td>0.350244</td>\n",
              "      <td>-0.262697</td>\n",
              "      <td>0.273863</td>\n",
              "      <td>-0.465935</td>\n",
              "      <td>-0.377699</td>\n",
              "      <td>0.795734</td>\n",
              "      <td>-0.273026</td>\n",
              "      <td>0.556100</td>\n",
              "      <td>NaN</td>\n",
              "      <td>-0.091569</td>\n",
              "      <td>0.329077</td>\n",
              "      <td>0.110715</td>\n",
              "      <td>NaN</td>\n",
              "      <td>0.111248</td>\n",
              "      <td>0.110715</td>\n",
              "      <td>NaN</td>\n",
              "      <td>-0.291297</td>\n",
              "      <td>0.636462</td>\n",
              "      <td>1.000000</td>\n",
              "      <td>-0.975011</td>\n",
              "    </tr>\n",
              "    <tr>\n",
              "      <th>points.homeTeam.Gained</th>\n",
              "      <td>-0.370580</td>\n",
              "      <td>0.276680</td>\n",
              "      <td>-0.305103</td>\n",
              "      <td>0.428798</td>\n",
              "      <td>0.384988</td>\n",
              "      <td>-0.809703</td>\n",
              "      <td>0.274698</td>\n",
              "      <td>-0.577213</td>\n",
              "      <td>NaN</td>\n",
              "      <td>0.097326</td>\n",
              "      <td>-0.352967</td>\n",
              "      <td>-0.111994</td>\n",
              "      <td>NaN</td>\n",
              "      <td>-0.131223</td>\n",
              "      <td>-0.111994</td>\n",
              "      <td>NaN</td>\n",
              "      <td>0.301326</td>\n",
              "      <td>-0.639068</td>\n",
              "      <td>-0.975011</td>\n",
              "      <td>1.000000</td>\n",
              "    </tr>\n",
              "  </tbody>\n",
              "</table>\n",
              "</div>"
            ],
            "text/plain": [
              "                                 id  ...  points.homeTeam.Gained\n",
              "id                         1.000000  ...               -0.370580\n",
              "matchday                  -0.067178  ...                0.276680\n",
              "season.id                  0.978330  ...               -0.305103\n",
              "season.currentMatchday    -0.489496  ...                0.428798\n",
              "score.fullTime.homeTeam   -0.047043  ...                0.384988\n",
              "score.fullTime.awayTeam    0.348730  ...               -0.809703\n",
              "score.halfTime.homeTeam   -0.046783  ...                0.274698\n",
              "score.halfTime.awayTeam    0.081935  ...               -0.577213\n",
              "homeTeam.id                     NaN  ...                     NaN\n",
              "awayTeam.id               -0.039286  ...                0.097326\n",
              "ano                        0.997954  ...               -0.352967\n",
              "totalGoals                 0.167850  ...               -0.111994\n",
              "homeTeamOverall                 NaN  ...                     NaN\n",
              "awayTeamOverall            0.019499  ...               -0.131223\n",
              "totalGoalsMinMax           0.167850  ...               -0.111994\n",
              "outlier                         NaN  ...                     NaN\n",
              "score.secondTime.homeTeam -0.020626  ...                0.301326\n",
              "score.secondTime.awayTeam  0.401017  ...               -0.639068\n",
              "points.awayTeam.Gained     0.350244  ...               -0.975011\n",
              "points.homeTeam.Gained    -0.370580  ...                1.000000\n",
              "\n",
              "[20 rows x 20 columns]"
            ]
          },
          "metadata": {
            "tags": []
          },
          "execution_count": 270
        }
      ]
    },
    {
      "cell_type": "code",
      "metadata": {
        "id": "qhIBaJDt4xeP",
        "outputId": "e18558bc-bf28-44ae-8ed4-5a9e64cf1d91",
        "colab": {
          "base_uri": "https://localhost:8080/",
          "height": 689
        }
      },
      "source": [
        "cityAway.corr(method='pearson')"
      ],
      "execution_count": 271,
      "outputs": [
        {
          "output_type": "execute_result",
          "data": {
            "text/html": [
              "<div>\n",
              "<style scoped>\n",
              "    .dataframe tbody tr th:only-of-type {\n",
              "        vertical-align: middle;\n",
              "    }\n",
              "\n",
              "    .dataframe tbody tr th {\n",
              "        vertical-align: top;\n",
              "    }\n",
              "\n",
              "    .dataframe thead th {\n",
              "        text-align: right;\n",
              "    }\n",
              "</style>\n",
              "<table border=\"1\" class=\"dataframe\">\n",
              "  <thead>\n",
              "    <tr style=\"text-align: right;\">\n",
              "      <th></th>\n",
              "      <th>id</th>\n",
              "      <th>matchday</th>\n",
              "      <th>season.id</th>\n",
              "      <th>season.currentMatchday</th>\n",
              "      <th>score.fullTime.homeTeam</th>\n",
              "      <th>score.fullTime.awayTeam</th>\n",
              "      <th>score.halfTime.homeTeam</th>\n",
              "      <th>score.halfTime.awayTeam</th>\n",
              "      <th>homeTeam.id</th>\n",
              "      <th>awayTeam.id</th>\n",
              "      <th>ano</th>\n",
              "      <th>totalGoals</th>\n",
              "      <th>homeTeamOverall</th>\n",
              "      <th>awayTeamOverall</th>\n",
              "      <th>totalGoalsMinMax</th>\n",
              "      <th>outlier</th>\n",
              "      <th>score.secondTime.homeTeam</th>\n",
              "      <th>score.secondTime.awayTeam</th>\n",
              "      <th>points.awayTeam.Gained</th>\n",
              "      <th>points.homeTeam.Gained</th>\n",
              "    </tr>\n",
              "  </thead>\n",
              "  <tbody>\n",
              "    <tr>\n",
              "      <th>id</th>\n",
              "      <td>1.000000</td>\n",
              "      <td>-0.227820</td>\n",
              "      <td>0.968042</td>\n",
              "      <td>-0.617139</td>\n",
              "      <td>0.250902</td>\n",
              "      <td>0.074890</td>\n",
              "      <td>0.124354</td>\n",
              "      <td>0.049786</td>\n",
              "      <td>-0.086726</td>\n",
              "      <td>NaN</td>\n",
              "      <td>0.997230</td>\n",
              "      <td>0.229365</td>\n",
              "      <td>-0.103121</td>\n",
              "      <td>NaN</td>\n",
              "      <td>0.229365</td>\n",
              "      <td>NaN</td>\n",
              "      <td>0.237875</td>\n",
              "      <td>0.065179</td>\n",
              "      <td>-0.157855</td>\n",
              "      <td>0.135346</td>\n",
              "    </tr>\n",
              "    <tr>\n",
              "      <th>matchday</th>\n",
              "      <td>-0.227820</td>\n",
              "      <td>1.000000</td>\n",
              "      <td>-0.169454</td>\n",
              "      <td>0.320307</td>\n",
              "      <td>-0.095535</td>\n",
              "      <td>-0.067105</td>\n",
              "      <td>-0.079022</td>\n",
              "      <td>-0.134433</td>\n",
              "      <td>-0.003712</td>\n",
              "      <td>NaN</td>\n",
              "      <td>-0.215847</td>\n",
              "      <td>-0.125898</td>\n",
              "      <td>-0.058603</td>\n",
              "      <td>NaN</td>\n",
              "      <td>-0.125898</td>\n",
              "      <td>NaN</td>\n",
              "      <td>-0.064926</td>\n",
              "      <td>0.038791</td>\n",
              "      <td>0.035206</td>\n",
              "      <td>0.043708</td>\n",
              "    </tr>\n",
              "    <tr>\n",
              "      <th>season.id</th>\n",
              "      <td>0.968042</td>\n",
              "      <td>-0.169454</td>\n",
              "      <td>1.000000</td>\n",
              "      <td>-0.400152</td>\n",
              "      <td>0.283182</td>\n",
              "      <td>0.095956</td>\n",
              "      <td>0.190307</td>\n",
              "      <td>0.032684</td>\n",
              "      <td>-0.084898</td>\n",
              "      <td>NaN</td>\n",
              "      <td>0.983988</td>\n",
              "      <td>0.270298</td>\n",
              "      <td>-0.070052</td>\n",
              "      <td>NaN</td>\n",
              "      <td>0.270298</td>\n",
              "      <td>NaN</td>\n",
              "      <td>0.228026</td>\n",
              "      <td>0.117172</td>\n",
              "      <td>-0.181291</td>\n",
              "      <td>0.177498</td>\n",
              "    </tr>\n",
              "    <tr>\n",
              "      <th>season.currentMatchday</th>\n",
              "      <td>-0.617139</td>\n",
              "      <td>0.320307</td>\n",
              "      <td>-0.400152</td>\n",
              "      <td>1.000000</td>\n",
              "      <td>-0.030072</td>\n",
              "      <td>0.025946</td>\n",
              "      <td>0.140309</td>\n",
              "      <td>-0.081680</td>\n",
              "      <td>0.050419</td>\n",
              "      <td>NaN</td>\n",
              "      <td>-0.557086</td>\n",
              "      <td>0.007408</td>\n",
              "      <td>0.154511</td>\n",
              "      <td>NaN</td>\n",
              "      <td>0.007408</td>\n",
              "      <td>NaN</td>\n",
              "      <td>-0.154207</td>\n",
              "      <td>0.129627</td>\n",
              "      <td>0.008677</td>\n",
              "      <td>0.062941</td>\n",
              "    </tr>\n",
              "    <tr>\n",
              "      <th>score.fullTime.homeTeam</th>\n",
              "      <td>0.250902</td>\n",
              "      <td>-0.095535</td>\n",
              "      <td>0.283182</td>\n",
              "      <td>-0.030072</td>\n",
              "      <td>1.000000</td>\n",
              "      <td>-0.307079</td>\n",
              "      <td>0.675701</td>\n",
              "      <td>-0.233346</td>\n",
              "      <td>-0.352875</td>\n",
              "      <td>NaN</td>\n",
              "      <td>0.262458</td>\n",
              "      <td>0.308995</td>\n",
              "      <td>0.152488</td>\n",
              "      <td>NaN</td>\n",
              "      <td>0.308995</td>\n",
              "      <td>NaN</td>\n",
              "      <td>0.802253</td>\n",
              "      <td>-0.235661</td>\n",
              "      <td>-0.808142</td>\n",
              "      <td>0.827130</td>\n",
              "    </tr>\n",
              "    <tr>\n",
              "      <th>score.fullTime.awayTeam</th>\n",
              "      <td>0.074890</td>\n",
              "      <td>-0.067105</td>\n",
              "      <td>0.095956</td>\n",
              "      <td>0.025946</td>\n",
              "      <td>-0.307079</td>\n",
              "      <td>1.000000</td>\n",
              "      <td>-0.210327</td>\n",
              "      <td>0.784220</td>\n",
              "      <td>0.303850</td>\n",
              "      <td>NaN</td>\n",
              "      <td>0.081906</td>\n",
              "      <td>0.810226</td>\n",
              "      <td>-0.449242</td>\n",
              "      <td>NaN</td>\n",
              "      <td>0.810226</td>\n",
              "      <td>NaN</td>\n",
              "      <td>-0.244061</td>\n",
              "      <td>0.741098</td>\n",
              "      <td>0.619034</td>\n",
              "      <td>-0.581928</td>\n",
              "    </tr>\n",
              "    <tr>\n",
              "      <th>score.halfTime.homeTeam</th>\n",
              "      <td>0.124354</td>\n",
              "      <td>-0.079022</td>\n",
              "      <td>0.190307</td>\n",
              "      <td>0.140309</td>\n",
              "      <td>0.675701</td>\n",
              "      <td>-0.210327</td>\n",
              "      <td>1.000000</td>\n",
              "      <td>-0.155534</td>\n",
              "      <td>-0.113318</td>\n",
              "      <td>NaN</td>\n",
              "      <td>0.145162</td>\n",
              "      <td>0.205958</td>\n",
              "      <td>0.138321</td>\n",
              "      <td>NaN</td>\n",
              "      <td>0.205958</td>\n",
              "      <td>NaN</td>\n",
              "      <td>0.102001</td>\n",
              "      <td>-0.166053</td>\n",
              "      <td>-0.518830</td>\n",
              "      <td>0.551315</td>\n",
              "    </tr>\n",
              "    <tr>\n",
              "      <th>score.halfTime.awayTeam</th>\n",
              "      <td>0.049786</td>\n",
              "      <td>-0.134433</td>\n",
              "      <td>0.032684</td>\n",
              "      <td>-0.081680</td>\n",
              "      <td>-0.233346</td>\n",
              "      <td>0.784220</td>\n",
              "      <td>-0.155534</td>\n",
              "      <td>1.000000</td>\n",
              "      <td>0.184328</td>\n",
              "      <td>NaN</td>\n",
              "      <td>0.045503</td>\n",
              "      <td>0.639997</td>\n",
              "      <td>-0.420408</td>\n",
              "      <td>NaN</td>\n",
              "      <td>0.639997</td>\n",
              "      <td>NaN</td>\n",
              "      <td>-0.188934</td>\n",
              "      <td>0.164594</td>\n",
              "      <td>0.480304</td>\n",
              "      <td>-0.451182</td>\n",
              "    </tr>\n",
              "    <tr>\n",
              "      <th>homeTeam.id</th>\n",
              "      <td>-0.086726</td>\n",
              "      <td>-0.003712</td>\n",
              "      <td>-0.084898</td>\n",
              "      <td>0.050419</td>\n",
              "      <td>-0.352875</td>\n",
              "      <td>0.303850</td>\n",
              "      <td>-0.113318</td>\n",
              "      <td>0.184328</td>\n",
              "      <td>1.000000</td>\n",
              "      <td>NaN</td>\n",
              "      <td>-0.086737</td>\n",
              "      <td>0.086325</td>\n",
              "      <td>-0.453507</td>\n",
              "      <td>NaN</td>\n",
              "      <td>0.086325</td>\n",
              "      <td>NaN</td>\n",
              "      <td>-0.384420</td>\n",
              "      <td>0.283567</td>\n",
              "      <td>0.398298</td>\n",
              "      <td>-0.373129</td>\n",
              "    </tr>\n",
              "    <tr>\n",
              "      <th>awayTeam.id</th>\n",
              "      <td>NaN</td>\n",
              "      <td>NaN</td>\n",
              "      <td>NaN</td>\n",
              "      <td>NaN</td>\n",
              "      <td>NaN</td>\n",
              "      <td>NaN</td>\n",
              "      <td>NaN</td>\n",
              "      <td>NaN</td>\n",
              "      <td>NaN</td>\n",
              "      <td>NaN</td>\n",
              "      <td>NaN</td>\n",
              "      <td>NaN</td>\n",
              "      <td>NaN</td>\n",
              "      <td>NaN</td>\n",
              "      <td>NaN</td>\n",
              "      <td>NaN</td>\n",
              "      <td>NaN</td>\n",
              "      <td>NaN</td>\n",
              "      <td>NaN</td>\n",
              "      <td>NaN</td>\n",
              "    </tr>\n",
              "    <tr>\n",
              "      <th>ano</th>\n",
              "      <td>0.997230</td>\n",
              "      <td>-0.215847</td>\n",
              "      <td>0.983988</td>\n",
              "      <td>-0.557086</td>\n",
              "      <td>0.262458</td>\n",
              "      <td>0.081906</td>\n",
              "      <td>0.145162</td>\n",
              "      <td>0.045503</td>\n",
              "      <td>-0.086737</td>\n",
              "      <td>NaN</td>\n",
              "      <td>1.000000</td>\n",
              "      <td>0.243494</td>\n",
              "      <td>-0.093528</td>\n",
              "      <td>NaN</td>\n",
              "      <td>0.243494</td>\n",
              "      <td>NaN</td>\n",
              "      <td>0.236619</td>\n",
              "      <td>0.080967</td>\n",
              "      <td>-0.165967</td>\n",
              "      <td>0.148602</td>\n",
              "    </tr>\n",
              "    <tr>\n",
              "      <th>totalGoals</th>\n",
              "      <td>0.229365</td>\n",
              "      <td>-0.125898</td>\n",
              "      <td>0.270298</td>\n",
              "      <td>0.007408</td>\n",
              "      <td>0.308995</td>\n",
              "      <td>0.810226</td>\n",
              "      <td>0.205958</td>\n",
              "      <td>0.639997</td>\n",
              "      <td>0.086325</td>\n",
              "      <td>NaN</td>\n",
              "      <td>0.243494</td>\n",
              "      <td>1.000000</td>\n",
              "      <td>-0.355035</td>\n",
              "      <td>NaN</td>\n",
              "      <td>1.000000</td>\n",
              "      <td>NaN</td>\n",
              "      <td>0.250185</td>\n",
              "      <td>0.595478</td>\n",
              "      <td>0.120917</td>\n",
              "      <td>-0.072140</td>\n",
              "    </tr>\n",
              "    <tr>\n",
              "      <th>homeTeamOverall</th>\n",
              "      <td>-0.103121</td>\n",
              "      <td>-0.058603</td>\n",
              "      <td>-0.070052</td>\n",
              "      <td>0.154511</td>\n",
              "      <td>0.152488</td>\n",
              "      <td>-0.449242</td>\n",
              "      <td>0.138321</td>\n",
              "      <td>-0.420408</td>\n",
              "      <td>-0.453507</td>\n",
              "      <td>NaN</td>\n",
              "      <td>-0.093528</td>\n",
              "      <td>-0.355035</td>\n",
              "      <td>1.000000</td>\n",
              "      <td>NaN</td>\n",
              "      <td>-0.355035</td>\n",
              "      <td>NaN</td>\n",
              "      <td>0.093759</td>\n",
              "      <td>-0.259240</td>\n",
              "      <td>-0.283523</td>\n",
              "      <td>0.298589</td>\n",
              "    </tr>\n",
              "    <tr>\n",
              "      <th>awayTeamOverall</th>\n",
              "      <td>NaN</td>\n",
              "      <td>NaN</td>\n",
              "      <td>NaN</td>\n",
              "      <td>NaN</td>\n",
              "      <td>NaN</td>\n",
              "      <td>NaN</td>\n",
              "      <td>NaN</td>\n",
              "      <td>NaN</td>\n",
              "      <td>NaN</td>\n",
              "      <td>NaN</td>\n",
              "      <td>NaN</td>\n",
              "      <td>NaN</td>\n",
              "      <td>NaN</td>\n",
              "      <td>NaN</td>\n",
              "      <td>NaN</td>\n",
              "      <td>NaN</td>\n",
              "      <td>NaN</td>\n",
              "      <td>NaN</td>\n",
              "      <td>NaN</td>\n",
              "      <td>NaN</td>\n",
              "    </tr>\n",
              "    <tr>\n",
              "      <th>totalGoalsMinMax</th>\n",
              "      <td>0.229365</td>\n",
              "      <td>-0.125898</td>\n",
              "      <td>0.270298</td>\n",
              "      <td>0.007408</td>\n",
              "      <td>0.308995</td>\n",
              "      <td>0.810226</td>\n",
              "      <td>0.205958</td>\n",
              "      <td>0.639997</td>\n",
              "      <td>0.086325</td>\n",
              "      <td>NaN</td>\n",
              "      <td>0.243494</td>\n",
              "      <td>1.000000</td>\n",
              "      <td>-0.355035</td>\n",
              "      <td>NaN</td>\n",
              "      <td>1.000000</td>\n",
              "      <td>NaN</td>\n",
              "      <td>0.250185</td>\n",
              "      <td>0.595478</td>\n",
              "      <td>0.120917</td>\n",
              "      <td>-0.072140</td>\n",
              "    </tr>\n",
              "    <tr>\n",
              "      <th>outlier</th>\n",
              "      <td>NaN</td>\n",
              "      <td>NaN</td>\n",
              "      <td>NaN</td>\n",
              "      <td>NaN</td>\n",
              "      <td>NaN</td>\n",
              "      <td>NaN</td>\n",
              "      <td>NaN</td>\n",
              "      <td>NaN</td>\n",
              "      <td>NaN</td>\n",
              "      <td>NaN</td>\n",
              "      <td>NaN</td>\n",
              "      <td>NaN</td>\n",
              "      <td>NaN</td>\n",
              "      <td>NaN</td>\n",
              "      <td>NaN</td>\n",
              "      <td>NaN</td>\n",
              "      <td>NaN</td>\n",
              "      <td>NaN</td>\n",
              "      <td>NaN</td>\n",
              "      <td>NaN</td>\n",
              "    </tr>\n",
              "    <tr>\n",
              "      <th>score.secondTime.homeTeam</th>\n",
              "      <td>0.237875</td>\n",
              "      <td>-0.064926</td>\n",
              "      <td>0.228026</td>\n",
              "      <td>-0.154207</td>\n",
              "      <td>0.802253</td>\n",
              "      <td>-0.244061</td>\n",
              "      <td>0.102001</td>\n",
              "      <td>-0.188934</td>\n",
              "      <td>-0.384420</td>\n",
              "      <td>NaN</td>\n",
              "      <td>0.236619</td>\n",
              "      <td>0.250185</td>\n",
              "      <td>0.093759</td>\n",
              "      <td>NaN</td>\n",
              "      <td>0.250185</td>\n",
              "      <td>NaN</td>\n",
              "      <td>1.000000</td>\n",
              "      <td>-0.183539</td>\n",
              "      <td>-0.670387</td>\n",
              "      <td>0.669705</td>\n",
              "    </tr>\n",
              "    <tr>\n",
              "      <th>score.secondTime.awayTeam</th>\n",
              "      <td>0.065179</td>\n",
              "      <td>0.038791</td>\n",
              "      <td>0.117172</td>\n",
              "      <td>0.129627</td>\n",
              "      <td>-0.235661</td>\n",
              "      <td>0.741098</td>\n",
              "      <td>-0.166053</td>\n",
              "      <td>0.164594</td>\n",
              "      <td>0.283567</td>\n",
              "      <td>NaN</td>\n",
              "      <td>0.080967</td>\n",
              "      <td>0.595478</td>\n",
              "      <td>-0.259240</td>\n",
              "      <td>NaN</td>\n",
              "      <td>0.595478</td>\n",
              "      <td>NaN</td>\n",
              "      <td>-0.183539</td>\n",
              "      <td>1.000000</td>\n",
              "      <td>0.464344</td>\n",
              "      <td>-0.436867</td>\n",
              "    </tr>\n",
              "    <tr>\n",
              "      <th>points.awayTeam.Gained</th>\n",
              "      <td>-0.157855</td>\n",
              "      <td>0.035206</td>\n",
              "      <td>-0.181291</td>\n",
              "      <td>0.008677</td>\n",
              "      <td>-0.808142</td>\n",
              "      <td>0.619034</td>\n",
              "      <td>-0.518830</td>\n",
              "      <td>0.480304</td>\n",
              "      <td>0.398298</td>\n",
              "      <td>NaN</td>\n",
              "      <td>-0.165967</td>\n",
              "      <td>0.120917</td>\n",
              "      <td>-0.283523</td>\n",
              "      <td>NaN</td>\n",
              "      <td>0.120917</td>\n",
              "      <td>NaN</td>\n",
              "      <td>-0.670387</td>\n",
              "      <td>0.464344</td>\n",
              "      <td>1.000000</td>\n",
              "      <td>-0.973949</td>\n",
              "    </tr>\n",
              "    <tr>\n",
              "      <th>points.homeTeam.Gained</th>\n",
              "      <td>0.135346</td>\n",
              "      <td>0.043708</td>\n",
              "      <td>0.177498</td>\n",
              "      <td>0.062941</td>\n",
              "      <td>0.827130</td>\n",
              "      <td>-0.581928</td>\n",
              "      <td>0.551315</td>\n",
              "      <td>-0.451182</td>\n",
              "      <td>-0.373129</td>\n",
              "      <td>NaN</td>\n",
              "      <td>0.148602</td>\n",
              "      <td>-0.072140</td>\n",
              "      <td>0.298589</td>\n",
              "      <td>NaN</td>\n",
              "      <td>-0.072140</td>\n",
              "      <td>NaN</td>\n",
              "      <td>0.669705</td>\n",
              "      <td>-0.436867</td>\n",
              "      <td>-0.973949</td>\n",
              "      <td>1.000000</td>\n",
              "    </tr>\n",
              "  </tbody>\n",
              "</table>\n",
              "</div>"
            ],
            "text/plain": [
              "                                 id  ...  points.homeTeam.Gained\n",
              "id                         1.000000  ...                0.135346\n",
              "matchday                  -0.227820  ...                0.043708\n",
              "season.id                  0.968042  ...                0.177498\n",
              "season.currentMatchday    -0.617139  ...                0.062941\n",
              "score.fullTime.homeTeam    0.250902  ...                0.827130\n",
              "score.fullTime.awayTeam    0.074890  ...               -0.581928\n",
              "score.halfTime.homeTeam    0.124354  ...                0.551315\n",
              "score.halfTime.awayTeam    0.049786  ...               -0.451182\n",
              "homeTeam.id               -0.086726  ...               -0.373129\n",
              "awayTeam.id                     NaN  ...                     NaN\n",
              "ano                        0.997230  ...                0.148602\n",
              "totalGoals                 0.229365  ...               -0.072140\n",
              "homeTeamOverall           -0.103121  ...                0.298589\n",
              "awayTeamOverall                 NaN  ...                     NaN\n",
              "totalGoalsMinMax           0.229365  ...               -0.072140\n",
              "outlier                         NaN  ...                     NaN\n",
              "score.secondTime.homeTeam  0.237875  ...                0.669705\n",
              "score.secondTime.awayTeam  0.065179  ...               -0.436867\n",
              "points.awayTeam.Gained    -0.157855  ...               -0.973949\n",
              "points.homeTeam.Gained     0.135346  ...                1.000000\n",
              "\n",
              "[20 rows x 20 columns]"
            ]
          },
          "metadata": {
            "tags": []
          },
          "execution_count": 271
        }
      ]
    },
    {
      "cell_type": "code",
      "metadata": {
        "id": "hAuqRI8x4zJp",
        "outputId": "ef8afb58-e33a-478a-f994-9442bd70afd2",
        "colab": {
          "base_uri": "https://localhost:8080/",
          "height": 689
        }
      },
      "source": [
        "lvpHome.corr(method='pearson')"
      ],
      "execution_count": 272,
      "outputs": [
        {
          "output_type": "execute_result",
          "data": {
            "text/html": [
              "<div>\n",
              "<style scoped>\n",
              "    .dataframe tbody tr th:only-of-type {\n",
              "        vertical-align: middle;\n",
              "    }\n",
              "\n",
              "    .dataframe tbody tr th {\n",
              "        vertical-align: top;\n",
              "    }\n",
              "\n",
              "    .dataframe thead th {\n",
              "        text-align: right;\n",
              "    }\n",
              "</style>\n",
              "<table border=\"1\" class=\"dataframe\">\n",
              "  <thead>\n",
              "    <tr style=\"text-align: right;\">\n",
              "      <th></th>\n",
              "      <th>id</th>\n",
              "      <th>matchday</th>\n",
              "      <th>season.id</th>\n",
              "      <th>season.currentMatchday</th>\n",
              "      <th>score.fullTime.homeTeam</th>\n",
              "      <th>score.fullTime.awayTeam</th>\n",
              "      <th>score.halfTime.homeTeam</th>\n",
              "      <th>score.halfTime.awayTeam</th>\n",
              "      <th>homeTeam.id</th>\n",
              "      <th>awayTeam.id</th>\n",
              "      <th>ano</th>\n",
              "      <th>totalGoals</th>\n",
              "      <th>homeTeamOverall</th>\n",
              "      <th>awayTeamOverall</th>\n",
              "      <th>totalGoalsMinMax</th>\n",
              "      <th>outlier</th>\n",
              "      <th>score.secondTime.homeTeam</th>\n",
              "      <th>score.secondTime.awayTeam</th>\n",
              "      <th>points.awayTeam.Gained</th>\n",
              "      <th>points.homeTeam.Gained</th>\n",
              "    </tr>\n",
              "  </thead>\n",
              "  <tbody>\n",
              "    <tr>\n",
              "      <th>id</th>\n",
              "      <td>1.000000</td>\n",
              "      <td>-0.230626</td>\n",
              "      <td>0.968070</td>\n",
              "      <td>-0.617053</td>\n",
              "      <td>0.024548</td>\n",
              "      <td>0.336373</td>\n",
              "      <td>0.180346</td>\n",
              "      <td>0.345607</td>\n",
              "      <td>NaN</td>\n",
              "      <td>-0.091187</td>\n",
              "      <td>0.997238</td>\n",
              "      <td>0.179648</td>\n",
              "      <td>0.902590</td>\n",
              "      <td>-0.046190</td>\n",
              "      <td>0.179648</td>\n",
              "      <td>NaN</td>\n",
              "      <td>-0.159505</td>\n",
              "      <td>0.170607</td>\n",
              "      <td>-0.116542</td>\n",
              "      <td>0.116542</td>\n",
              "    </tr>\n",
              "    <tr>\n",
              "      <th>matchday</th>\n",
              "      <td>-0.230626</td>\n",
              "      <td>1.000000</td>\n",
              "      <td>-0.166679</td>\n",
              "      <td>0.338936</td>\n",
              "      <td>0.064746</td>\n",
              "      <td>-0.032875</td>\n",
              "      <td>-0.148684</td>\n",
              "      <td>-0.093763</td>\n",
              "      <td>NaN</td>\n",
              "      <td>0.106971</td>\n",
              "      <td>-0.216956</td>\n",
              "      <td>0.030374</td>\n",
              "      <td>-0.107030</td>\n",
              "      <td>0.007671</td>\n",
              "      <td>0.030374</td>\n",
              "      <td>NaN</td>\n",
              "      <td>0.236696</td>\n",
              "      <td>0.043312</td>\n",
              "      <td>0.089236</td>\n",
              "      <td>-0.089236</td>\n",
              "    </tr>\n",
              "    <tr>\n",
              "      <th>season.id</th>\n",
              "      <td>0.968070</td>\n",
              "      <td>-0.166679</td>\n",
              "      <td>1.000000</td>\n",
              "      <td>-0.400152</td>\n",
              "      <td>-0.008254</td>\n",
              "      <td>0.288243</td>\n",
              "      <td>0.145184</td>\n",
              "      <td>0.259903</td>\n",
              "      <td>NaN</td>\n",
              "      <td>-0.088105</td>\n",
              "      <td>0.983988</td>\n",
              "      <td>0.133034</td>\n",
              "      <td>0.981683</td>\n",
              "      <td>-0.040342</td>\n",
              "      <td>0.133034</td>\n",
              "      <td>NaN</td>\n",
              "      <td>-0.163084</td>\n",
              "      <td>0.182448</td>\n",
              "      <td>-0.115385</td>\n",
              "      <td>0.115385</td>\n",
              "    </tr>\n",
              "    <tr>\n",
              "      <th>season.currentMatchday</th>\n",
              "      <td>-0.617053</td>\n",
              "      <td>0.338936</td>\n",
              "      <td>-0.400152</td>\n",
              "      <td>1.000000</td>\n",
              "      <td>-0.113456</td>\n",
              "      <td>-0.323153</td>\n",
              "      <td>-0.205196</td>\n",
              "      <td>-0.446333</td>\n",
              "      <td>NaN</td>\n",
              "      <td>0.058649</td>\n",
              "      <td>-0.557086</td>\n",
              "      <td>-0.236743</td>\n",
              "      <td>-0.218218</td>\n",
              "      <td>0.042065</td>\n",
              "      <td>-0.236743</td>\n",
              "      <td>NaN</td>\n",
              "      <td>0.075619</td>\n",
              "      <td>-0.049593</td>\n",
              "      <td>0.065326</td>\n",
              "      <td>-0.065326</td>\n",
              "    </tr>\n",
              "    <tr>\n",
              "      <th>score.fullTime.homeTeam</th>\n",
              "      <td>0.024548</td>\n",
              "      <td>0.064746</td>\n",
              "      <td>-0.008254</td>\n",
              "      <td>-0.113456</td>\n",
              "      <td>1.000000</td>\n",
              "      <td>0.375097</td>\n",
              "      <td>0.629474</td>\n",
              "      <td>0.337161</td>\n",
              "      <td>NaN</td>\n",
              "      <td>0.075869</td>\n",
              "      <td>0.014586</td>\n",
              "      <td>0.894641</td>\n",
              "      <td>-0.032376</td>\n",
              "      <td>-0.220039</td>\n",
              "      <td>0.894641</td>\n",
              "      <td>NaN</td>\n",
              "      <td>0.575013</td>\n",
              "      <td>0.238480</td>\n",
              "      <td>-0.473011</td>\n",
              "      <td>0.473011</td>\n",
              "    </tr>\n",
              "    <tr>\n",
              "      <th>score.fullTime.awayTeam</th>\n",
              "      <td>0.336373</td>\n",
              "      <td>-0.032875</td>\n",
              "      <td>0.288243</td>\n",
              "      <td>-0.323153</td>\n",
              "      <td>0.375097</td>\n",
              "      <td>1.000000</td>\n",
              "      <td>0.302372</td>\n",
              "      <td>0.767323</td>\n",
              "      <td>NaN</td>\n",
              "      <td>0.002526</td>\n",
              "      <td>0.324043</td>\n",
              "      <td>0.749740</td>\n",
              "      <td>0.239760</td>\n",
              "      <td>0.042264</td>\n",
              "      <td>0.749740</td>\n",
              "      <td>NaN</td>\n",
              "      <td>0.145921</td>\n",
              "      <td>0.767323</td>\n",
              "      <td>-0.026739</td>\n",
              "      <td>0.026739</td>\n",
              "    </tr>\n",
              "    <tr>\n",
              "      <th>score.halfTime.homeTeam</th>\n",
              "      <td>0.180346</td>\n",
              "      <td>-0.148684</td>\n",
              "      <td>0.145184</td>\n",
              "      <td>-0.205196</td>\n",
              "      <td>0.629474</td>\n",
              "      <td>0.302372</td>\n",
              "      <td>1.000000</td>\n",
              "      <td>0.367360</td>\n",
              "      <td>NaN</td>\n",
              "      <td>0.073249</td>\n",
              "      <td>0.171467</td>\n",
              "      <td>0.595088</td>\n",
              "      <td>0.111943</td>\n",
              "      <td>-0.193819</td>\n",
              "      <td>0.595088</td>\n",
              "      <td>NaN</td>\n",
              "      <td>-0.273760</td>\n",
              "      <td>0.096674</td>\n",
              "      <td>-0.212238</td>\n",
              "      <td>0.212238</td>\n",
              "    </tr>\n",
              "    <tr>\n",
              "      <th>score.halfTime.awayTeam</th>\n",
              "      <td>0.345607</td>\n",
              "      <td>-0.093763</td>\n",
              "      <td>0.259903</td>\n",
              "      <td>-0.446333</td>\n",
              "      <td>0.337161</td>\n",
              "      <td>0.767323</td>\n",
              "      <td>0.367360</td>\n",
              "      <td>1.000000</td>\n",
              "      <td>NaN</td>\n",
              "      <td>-0.022958</td>\n",
              "      <td>0.322319</td>\n",
              "      <td>0.610515</td>\n",
              "      <td>0.183974</td>\n",
              "      <td>0.061256</td>\n",
              "      <td>0.610515</td>\n",
              "      <td>NaN</td>\n",
              "      <td>0.030537</td>\n",
              "      <td>0.177570</td>\n",
              "      <td>-0.020518</td>\n",
              "      <td>0.020518</td>\n",
              "    </tr>\n",
              "    <tr>\n",
              "      <th>homeTeam.id</th>\n",
              "      <td>NaN</td>\n",
              "      <td>NaN</td>\n",
              "      <td>NaN</td>\n",
              "      <td>NaN</td>\n",
              "      <td>NaN</td>\n",
              "      <td>NaN</td>\n",
              "      <td>NaN</td>\n",
              "      <td>NaN</td>\n",
              "      <td>NaN</td>\n",
              "      <td>NaN</td>\n",
              "      <td>NaN</td>\n",
              "      <td>NaN</td>\n",
              "      <td>NaN</td>\n",
              "      <td>NaN</td>\n",
              "      <td>NaN</td>\n",
              "      <td>NaN</td>\n",
              "      <td>NaN</td>\n",
              "      <td>NaN</td>\n",
              "      <td>NaN</td>\n",
              "      <td>NaN</td>\n",
              "    </tr>\n",
              "    <tr>\n",
              "      <th>awayTeam.id</th>\n",
              "      <td>-0.091187</td>\n",
              "      <td>0.106971</td>\n",
              "      <td>-0.088105</td>\n",
              "      <td>0.058649</td>\n",
              "      <td>0.075869</td>\n",
              "      <td>0.002526</td>\n",
              "      <td>0.073249</td>\n",
              "      <td>-0.022958</td>\n",
              "      <td>NaN</td>\n",
              "      <td>1.000000</td>\n",
              "      <td>-0.091244</td>\n",
              "      <td>0.055377</td>\n",
              "      <td>-0.081628</td>\n",
              "      <td>-0.464907</td>\n",
              "      <td>0.055377</td>\n",
              "      <td>NaN</td>\n",
              "      <td>0.016786</td>\n",
              "      <td>0.026835</td>\n",
              "      <td>-0.022109</td>\n",
              "      <td>0.022109</td>\n",
              "    </tr>\n",
              "    <tr>\n",
              "      <th>ano</th>\n",
              "      <td>0.997238</td>\n",
              "      <td>-0.216956</td>\n",
              "      <td>0.983988</td>\n",
              "      <td>-0.557086</td>\n",
              "      <td>0.014586</td>\n",
              "      <td>0.324043</td>\n",
              "      <td>0.171467</td>\n",
              "      <td>0.322319</td>\n",
              "      <td>NaN</td>\n",
              "      <td>-0.091244</td>\n",
              "      <td>1.000000</td>\n",
              "      <td>0.166593</td>\n",
              "      <td>0.932007</td>\n",
              "      <td>-0.044738</td>\n",
              "      <td>0.166593</td>\n",
              "      <td>NaN</td>\n",
              "      <td>-0.162488</td>\n",
              "      <td>0.174973</td>\n",
              "      <td>-0.117263</td>\n",
              "      <td>0.117263</td>\n",
              "    </tr>\n",
              "    <tr>\n",
              "      <th>totalGoals</th>\n",
              "      <td>0.179648</td>\n",
              "      <td>0.030374</td>\n",
              "      <td>0.133034</td>\n",
              "      <td>-0.236743</td>\n",
              "      <td>0.894641</td>\n",
              "      <td>0.749740</td>\n",
              "      <td>0.595088</td>\n",
              "      <td>0.610515</td>\n",
              "      <td>NaN</td>\n",
              "      <td>0.055377</td>\n",
              "      <td>0.166593</td>\n",
              "      <td>1.000000</td>\n",
              "      <td>0.092447</td>\n",
              "      <td>-0.136706</td>\n",
              "      <td>1.000000</td>\n",
              "      <td>NaN</td>\n",
              "      <td>0.480806</td>\n",
              "      <td>0.540071</td>\n",
              "      <td>-0.350548</td>\n",
              "      <td>0.350548</td>\n",
              "    </tr>\n",
              "    <tr>\n",
              "      <th>homeTeamOverall</th>\n",
              "      <td>0.902590</td>\n",
              "      <td>-0.107030</td>\n",
              "      <td>0.981683</td>\n",
              "      <td>-0.218218</td>\n",
              "      <td>-0.032376</td>\n",
              "      <td>0.239760</td>\n",
              "      <td>0.111943</td>\n",
              "      <td>0.183974</td>\n",
              "      <td>NaN</td>\n",
              "      <td>-0.081628</td>\n",
              "      <td>0.932007</td>\n",
              "      <td>0.092447</td>\n",
              "      <td>1.000000</td>\n",
              "      <td>-0.034214</td>\n",
              "      <td>0.092447</td>\n",
              "      <td>NaN</td>\n",
              "      <td>-0.157943</td>\n",
              "      <td>0.183974</td>\n",
              "      <td>-0.109290</td>\n",
              "      <td>0.109290</td>\n",
              "    </tr>\n",
              "    <tr>\n",
              "      <th>awayTeamOverall</th>\n",
              "      <td>-0.046190</td>\n",
              "      <td>0.007671</td>\n",
              "      <td>-0.040342</td>\n",
              "      <td>0.042065</td>\n",
              "      <td>-0.220039</td>\n",
              "      <td>0.042264</td>\n",
              "      <td>-0.193819</td>\n",
              "      <td>0.061256</td>\n",
              "      <td>NaN</td>\n",
              "      <td>-0.464907</td>\n",
              "      <td>-0.044738</td>\n",
              "      <td>-0.136706</td>\n",
              "      <td>-0.034214</td>\n",
              "      <td>1.000000</td>\n",
              "      <td>-0.136706</td>\n",
              "      <td>NaN</td>\n",
              "      <td>-0.068287</td>\n",
              "      <td>0.003603</td>\n",
              "      <td>0.153469</td>\n",
              "      <td>-0.153469</td>\n",
              "    </tr>\n",
              "    <tr>\n",
              "      <th>totalGoalsMinMax</th>\n",
              "      <td>0.179648</td>\n",
              "      <td>0.030374</td>\n",
              "      <td>0.133034</td>\n",
              "      <td>-0.236743</td>\n",
              "      <td>0.894641</td>\n",
              "      <td>0.749740</td>\n",
              "      <td>0.595088</td>\n",
              "      <td>0.610515</td>\n",
              "      <td>NaN</td>\n",
              "      <td>0.055377</td>\n",
              "      <td>0.166593</td>\n",
              "      <td>1.000000</td>\n",
              "      <td>0.092447</td>\n",
              "      <td>-0.136706</td>\n",
              "      <td>1.000000</td>\n",
              "      <td>NaN</td>\n",
              "      <td>0.480806</td>\n",
              "      <td>0.540071</td>\n",
              "      <td>-0.350548</td>\n",
              "      <td>0.350548</td>\n",
              "    </tr>\n",
              "    <tr>\n",
              "      <th>outlier</th>\n",
              "      <td>NaN</td>\n",
              "      <td>NaN</td>\n",
              "      <td>NaN</td>\n",
              "      <td>NaN</td>\n",
              "      <td>NaN</td>\n",
              "      <td>NaN</td>\n",
              "      <td>NaN</td>\n",
              "      <td>NaN</td>\n",
              "      <td>NaN</td>\n",
              "      <td>NaN</td>\n",
              "      <td>NaN</td>\n",
              "      <td>NaN</td>\n",
              "      <td>NaN</td>\n",
              "      <td>NaN</td>\n",
              "      <td>NaN</td>\n",
              "      <td>NaN</td>\n",
              "      <td>NaN</td>\n",
              "      <td>NaN</td>\n",
              "      <td>NaN</td>\n",
              "      <td>NaN</td>\n",
              "    </tr>\n",
              "    <tr>\n",
              "      <th>score.secondTime.homeTeam</th>\n",
              "      <td>-0.159505</td>\n",
              "      <td>0.236696</td>\n",
              "      <td>-0.163084</td>\n",
              "      <td>0.075619</td>\n",
              "      <td>0.575013</td>\n",
              "      <td>0.145921</td>\n",
              "      <td>-0.273760</td>\n",
              "      <td>0.030537</td>\n",
              "      <td>NaN</td>\n",
              "      <td>0.016786</td>\n",
              "      <td>-0.162488</td>\n",
              "      <td>0.480806</td>\n",
              "      <td>-0.157943</td>\n",
              "      <td>-0.068287</td>\n",
              "      <td>0.480806</td>\n",
              "      <td>NaN</td>\n",
              "      <td>1.000000</td>\n",
              "      <td>0.193401</td>\n",
              "      <td>-0.362022</td>\n",
              "      <td>0.362022</td>\n",
              "    </tr>\n",
              "    <tr>\n",
              "      <th>score.secondTime.awayTeam</th>\n",
              "      <td>0.170607</td>\n",
              "      <td>0.043312</td>\n",
              "      <td>0.182448</td>\n",
              "      <td>-0.049593</td>\n",
              "      <td>0.238480</td>\n",
              "      <td>0.767323</td>\n",
              "      <td>0.096674</td>\n",
              "      <td>0.177570</td>\n",
              "      <td>NaN</td>\n",
              "      <td>0.026835</td>\n",
              "      <td>0.174973</td>\n",
              "      <td>0.540071</td>\n",
              "      <td>0.183974</td>\n",
              "      <td>0.003603</td>\n",
              "      <td>0.540071</td>\n",
              "      <td>NaN</td>\n",
              "      <td>0.193401</td>\n",
              "      <td>1.000000</td>\n",
              "      <td>-0.020518</td>\n",
              "      <td>0.020518</td>\n",
              "    </tr>\n",
              "    <tr>\n",
              "      <th>points.awayTeam.Gained</th>\n",
              "      <td>-0.116542</td>\n",
              "      <td>0.089236</td>\n",
              "      <td>-0.115385</td>\n",
              "      <td>0.065326</td>\n",
              "      <td>-0.473011</td>\n",
              "      <td>-0.026739</td>\n",
              "      <td>-0.212238</td>\n",
              "      <td>-0.020518</td>\n",
              "      <td>NaN</td>\n",
              "      <td>-0.022109</td>\n",
              "      <td>-0.117263</td>\n",
              "      <td>-0.350548</td>\n",
              "      <td>-0.109290</td>\n",
              "      <td>0.153469</td>\n",
              "      <td>-0.350548</td>\n",
              "      <td>NaN</td>\n",
              "      <td>-0.362022</td>\n",
              "      <td>-0.020518</td>\n",
              "      <td>1.000000</td>\n",
              "      <td>-1.000000</td>\n",
              "    </tr>\n",
              "    <tr>\n",
              "      <th>points.homeTeam.Gained</th>\n",
              "      <td>0.116542</td>\n",
              "      <td>-0.089236</td>\n",
              "      <td>0.115385</td>\n",
              "      <td>-0.065326</td>\n",
              "      <td>0.473011</td>\n",
              "      <td>0.026739</td>\n",
              "      <td>0.212238</td>\n",
              "      <td>0.020518</td>\n",
              "      <td>NaN</td>\n",
              "      <td>0.022109</td>\n",
              "      <td>0.117263</td>\n",
              "      <td>0.350548</td>\n",
              "      <td>0.109290</td>\n",
              "      <td>-0.153469</td>\n",
              "      <td>0.350548</td>\n",
              "      <td>NaN</td>\n",
              "      <td>0.362022</td>\n",
              "      <td>0.020518</td>\n",
              "      <td>-1.000000</td>\n",
              "      <td>1.000000</td>\n",
              "    </tr>\n",
              "  </tbody>\n",
              "</table>\n",
              "</div>"
            ],
            "text/plain": [
              "                                 id  ...  points.homeTeam.Gained\n",
              "id                         1.000000  ...                0.116542\n",
              "matchday                  -0.230626  ...               -0.089236\n",
              "season.id                  0.968070  ...                0.115385\n",
              "season.currentMatchday    -0.617053  ...               -0.065326\n",
              "score.fullTime.homeTeam    0.024548  ...                0.473011\n",
              "score.fullTime.awayTeam    0.336373  ...                0.026739\n",
              "score.halfTime.homeTeam    0.180346  ...                0.212238\n",
              "score.halfTime.awayTeam    0.345607  ...                0.020518\n",
              "homeTeam.id                     NaN  ...                     NaN\n",
              "awayTeam.id               -0.091187  ...                0.022109\n",
              "ano                        0.997238  ...                0.117263\n",
              "totalGoals                 0.179648  ...                0.350548\n",
              "homeTeamOverall            0.902590  ...                0.109290\n",
              "awayTeamOverall           -0.046190  ...               -0.153469\n",
              "totalGoalsMinMax           0.179648  ...                0.350548\n",
              "outlier                         NaN  ...                     NaN\n",
              "score.secondTime.homeTeam -0.159505  ...                0.362022\n",
              "score.secondTime.awayTeam  0.170607  ...                0.020518\n",
              "points.awayTeam.Gained    -0.116542  ...               -1.000000\n",
              "points.homeTeam.Gained     0.116542  ...                1.000000\n",
              "\n",
              "[20 rows x 20 columns]"
            ]
          },
          "metadata": {
            "tags": []
          },
          "execution_count": 272
        }
      ]
    },
    {
      "cell_type": "code",
      "metadata": {
        "id": "UVuB4MNn41nM",
        "outputId": "747b90f1-f8f7-4404-bcfa-fddf2ded7639",
        "colab": {
          "base_uri": "https://localhost:8080/",
          "height": 689
        }
      },
      "source": [
        "lvpAway.corr(method='pearson')"
      ],
      "execution_count": 273,
      "outputs": [
        {
          "output_type": "execute_result",
          "data": {
            "text/html": [
              "<div>\n",
              "<style scoped>\n",
              "    .dataframe tbody tr th:only-of-type {\n",
              "        vertical-align: middle;\n",
              "    }\n",
              "\n",
              "    .dataframe tbody tr th {\n",
              "        vertical-align: top;\n",
              "    }\n",
              "\n",
              "    .dataframe thead th {\n",
              "        text-align: right;\n",
              "    }\n",
              "</style>\n",
              "<table border=\"1\" class=\"dataframe\">\n",
              "  <thead>\n",
              "    <tr style=\"text-align: right;\">\n",
              "      <th></th>\n",
              "      <th>id</th>\n",
              "      <th>matchday</th>\n",
              "      <th>season.id</th>\n",
              "      <th>season.currentMatchday</th>\n",
              "      <th>score.fullTime.homeTeam</th>\n",
              "      <th>score.fullTime.awayTeam</th>\n",
              "      <th>score.halfTime.homeTeam</th>\n",
              "      <th>score.halfTime.awayTeam</th>\n",
              "      <th>homeTeam.id</th>\n",
              "      <th>awayTeam.id</th>\n",
              "      <th>ano</th>\n",
              "      <th>totalGoals</th>\n",
              "      <th>homeTeamOverall</th>\n",
              "      <th>awayTeamOverall</th>\n",
              "      <th>totalGoalsMinMax</th>\n",
              "      <th>outlier</th>\n",
              "      <th>score.secondTime.homeTeam</th>\n",
              "      <th>score.secondTime.awayTeam</th>\n",
              "      <th>points.awayTeam.Gained</th>\n",
              "      <th>points.homeTeam.Gained</th>\n",
              "    </tr>\n",
              "  </thead>\n",
              "  <tbody>\n",
              "    <tr>\n",
              "      <th>id</th>\n",
              "      <td>1.000000</td>\n",
              "      <td>-0.162848</td>\n",
              "      <td>0.968111</td>\n",
              "      <td>-0.616928</td>\n",
              "      <td>0.356535</td>\n",
              "      <td>0.010387</td>\n",
              "      <td>0.348792</td>\n",
              "      <td>0.044760</td>\n",
              "      <td>-0.165877</td>\n",
              "      <td>NaN</td>\n",
              "      <td>0.997250</td>\n",
              "      <td>0.306293</td>\n",
              "      <td>0.020705</td>\n",
              "      <td>0.902659</td>\n",
              "      <td>0.306293</td>\n",
              "      <td>NaN</td>\n",
              "      <td>0.228052</td>\n",
              "      <td>-0.023146</td>\n",
              "      <td>-0.097629</td>\n",
              "      <td>0.196815</td>\n",
              "    </tr>\n",
              "    <tr>\n",
              "      <th>matchday</th>\n",
              "      <td>-0.162848</td>\n",
              "      <td>1.000000</td>\n",
              "      <td>-0.095142</td>\n",
              "      <td>0.315924</td>\n",
              "      <td>0.048920</td>\n",
              "      <td>-0.126052</td>\n",
              "      <td>0.168126</td>\n",
              "      <td>-0.045646</td>\n",
              "      <td>-0.049696</td>\n",
              "      <td>NaN</td>\n",
              "      <td>-0.147656</td>\n",
              "      <td>-0.043993</td>\n",
              "      <td>-0.109238</td>\n",
              "      <td>-0.035636</td>\n",
              "      <td>-0.043993</td>\n",
              "      <td>NaN</td>\n",
              "      <td>-0.109238</td>\n",
              "      <td>-0.111649</td>\n",
              "      <td>-0.197990</td>\n",
              "      <td>0.207487</td>\n",
              "    </tr>\n",
              "    <tr>\n",
              "      <th>season.id</th>\n",
              "      <td>0.968111</td>\n",
              "      <td>-0.095142</td>\n",
              "      <td>1.000000</td>\n",
              "      <td>-0.400152</td>\n",
              "      <td>0.270046</td>\n",
              "      <td>-0.002689</td>\n",
              "      <td>0.273332</td>\n",
              "      <td>0.073037</td>\n",
              "      <td>-0.135717</td>\n",
              "      <td>NaN</td>\n",
              "      <td>0.983988</td>\n",
              "      <td>0.224868</td>\n",
              "      <td>0.003295</td>\n",
              "      <td>0.981683</td>\n",
              "      <td>0.224868</td>\n",
              "      <td>NaN</td>\n",
              "      <td>0.162039</td>\n",
              "      <td>-0.060772</td>\n",
              "      <td>-0.062414</td>\n",
              "      <td>0.157928</td>\n",
              "    </tr>\n",
              "    <tr>\n",
              "      <th>season.currentMatchday</th>\n",
              "      <td>-0.616928</td>\n",
              "      <td>0.315924</td>\n",
              "      <td>-0.400152</td>\n",
              "      <td>1.000000</td>\n",
              "      <td>-0.452191</td>\n",
              "      <td>-0.048680</td>\n",
              "      <td>-0.411291</td>\n",
              "      <td>0.064249</td>\n",
              "      <td>0.178663</td>\n",
              "      <td>NaN</td>\n",
              "      <td>-0.557086</td>\n",
              "      <td>-0.412428</td>\n",
              "      <td>-0.067442</td>\n",
              "      <td>-0.218218</td>\n",
              "      <td>-0.412428</td>\n",
              "      <td>NaN</td>\n",
              "      <td>-0.325552</td>\n",
              "      <td>-0.107714</td>\n",
              "      <td>0.155976</td>\n",
              "      <td>-0.218218</td>\n",
              "    </tr>\n",
              "    <tr>\n",
              "      <th>score.fullTime.homeTeam</th>\n",
              "      <td>0.356535</td>\n",
              "      <td>0.048920</td>\n",
              "      <td>0.270046</td>\n",
              "      <td>-0.452191</td>\n",
              "      <td>1.000000</td>\n",
              "      <td>-0.141201</td>\n",
              "      <td>0.850534</td>\n",
              "      <td>0.021231</td>\n",
              "      <td>-0.292552</td>\n",
              "      <td>NaN</td>\n",
              "      <td>0.332649</td>\n",
              "      <td>0.744144</td>\n",
              "      <td>0.168737</td>\n",
              "      <td>0.193557</td>\n",
              "      <td>0.744144</td>\n",
              "      <td>NaN</td>\n",
              "      <td>0.788904</td>\n",
              "      <td>-0.182156</td>\n",
              "      <td>-0.596888</td>\n",
              "      <td>0.724890</td>\n",
              "    </tr>\n",
              "    <tr>\n",
              "      <th>score.fullTime.awayTeam</th>\n",
              "      <td>0.010387</td>\n",
              "      <td>-0.126052</td>\n",
              "      <td>-0.002689</td>\n",
              "      <td>-0.048680</td>\n",
              "      <td>-0.141201</td>\n",
              "      <td>1.000000</td>\n",
              "      <td>-0.107715</td>\n",
              "      <td>0.538130</td>\n",
              "      <td>0.432017</td>\n",
              "      <td>NaN</td>\n",
              "      <td>0.007031</td>\n",
              "      <td>0.556253</td>\n",
              "      <td>-0.363378</td>\n",
              "      <td>-0.012983</td>\n",
              "      <td>0.556253</td>\n",
              "      <td>NaN</td>\n",
              "      <td>-0.125860</td>\n",
              "      <td>0.746873</td>\n",
              "      <td>0.651003</td>\n",
              "      <td>-0.544125</td>\n",
              "    </tr>\n",
              "    <tr>\n",
              "      <th>score.halfTime.homeTeam</th>\n",
              "      <td>0.348792</td>\n",
              "      <td>0.168126</td>\n",
              "      <td>0.273332</td>\n",
              "      <td>-0.411291</td>\n",
              "      <td>0.850534</td>\n",
              "      <td>-0.107715</td>\n",
              "      <td>1.000000</td>\n",
              "      <td>0.016196</td>\n",
              "      <td>-0.273209</td>\n",
              "      <td>NaN</td>\n",
              "      <td>0.327673</td>\n",
              "      <td>0.641274</td>\n",
              "      <td>0.201582</td>\n",
              "      <td>0.205559</td>\n",
              "      <td>0.641274</td>\n",
              "      <td>NaN</td>\n",
              "      <td>0.347802</td>\n",
              "      <td>-0.138958</td>\n",
              "      <td>-0.582170</td>\n",
              "      <td>0.668790</td>\n",
              "    </tr>\n",
              "    <tr>\n",
              "      <th>score.halfTime.awayTeam</th>\n",
              "      <td>0.044760</td>\n",
              "      <td>-0.045646</td>\n",
              "      <td>0.073037</td>\n",
              "      <td>0.064249</td>\n",
              "      <td>0.021231</td>\n",
              "      <td>0.538130</td>\n",
              "      <td>0.016196</td>\n",
              "      <td>1.000000</td>\n",
              "      <td>0.246198</td>\n",
              "      <td>NaN</td>\n",
              "      <td>0.053689</td>\n",
              "      <td>0.380941</td>\n",
              "      <td>-0.217583</td>\n",
              "      <td>0.091132</td>\n",
              "      <td>0.380941</td>\n",
              "      <td>NaN</td>\n",
              "      <td>0.018924</td>\n",
              "      <td>-0.158561</td>\n",
              "      <td>0.377740</td>\n",
              "      <td>-0.294427</td>\n",
              "    </tr>\n",
              "    <tr>\n",
              "      <th>homeTeam.id</th>\n",
              "      <td>-0.165877</td>\n",
              "      <td>-0.049696</td>\n",
              "      <td>-0.135717</td>\n",
              "      <td>0.178663</td>\n",
              "      <td>-0.292552</td>\n",
              "      <td>0.432017</td>\n",
              "      <td>-0.273209</td>\n",
              "      <td>0.246198</td>\n",
              "      <td>1.000000</td>\n",
              "      <td>NaN</td>\n",
              "      <td>-0.157729</td>\n",
              "      <td>0.045941</td>\n",
              "      <td>-0.446689</td>\n",
              "      <td>-0.107378</td>\n",
              "      <td>0.045941</td>\n",
              "      <td>NaN</td>\n",
              "      <td>-0.202305</td>\n",
              "      <td>0.311839</td>\n",
              "      <td>0.328447</td>\n",
              "      <td>-0.290000</td>\n",
              "    </tr>\n",
              "    <tr>\n",
              "      <th>awayTeam.id</th>\n",
              "      <td>NaN</td>\n",
              "      <td>NaN</td>\n",
              "      <td>NaN</td>\n",
              "      <td>NaN</td>\n",
              "      <td>NaN</td>\n",
              "      <td>NaN</td>\n",
              "      <td>NaN</td>\n",
              "      <td>NaN</td>\n",
              "      <td>NaN</td>\n",
              "      <td>NaN</td>\n",
              "      <td>NaN</td>\n",
              "      <td>NaN</td>\n",
              "      <td>NaN</td>\n",
              "      <td>NaN</td>\n",
              "      <td>NaN</td>\n",
              "      <td>NaN</td>\n",
              "      <td>NaN</td>\n",
              "      <td>NaN</td>\n",
              "      <td>NaN</td>\n",
              "      <td>NaN</td>\n",
              "    </tr>\n",
              "    <tr>\n",
              "      <th>ano</th>\n",
              "      <td>0.997250</td>\n",
              "      <td>-0.147656</td>\n",
              "      <td>0.983988</td>\n",
              "      <td>-0.557086</td>\n",
              "      <td>0.332649</td>\n",
              "      <td>0.007031</td>\n",
              "      <td>0.327673</td>\n",
              "      <td>0.053689</td>\n",
              "      <td>-0.157729</td>\n",
              "      <td>NaN</td>\n",
              "      <td>1.000000</td>\n",
              "      <td>0.283978</td>\n",
              "      <td>0.016102</td>\n",
              "      <td>0.932007</td>\n",
              "      <td>0.283978</td>\n",
              "      <td>NaN</td>\n",
              "      <td>0.210148</td>\n",
              "      <td>-0.034121</td>\n",
              "      <td>-0.086892</td>\n",
              "      <td>0.185548</td>\n",
              "    </tr>\n",
              "    <tr>\n",
              "      <th>totalGoals</th>\n",
              "      <td>0.306293</td>\n",
              "      <td>-0.043993</td>\n",
              "      <td>0.224868</td>\n",
              "      <td>-0.412428</td>\n",
              "      <td>0.744144</td>\n",
              "      <td>0.556253</td>\n",
              "      <td>0.641274</td>\n",
              "      <td>0.380941</td>\n",
              "      <td>0.045941</td>\n",
              "      <td>NaN</td>\n",
              "      <td>0.283978</td>\n",
              "      <td>1.000000</td>\n",
              "      <td>-0.103559</td>\n",
              "      <td>0.153715</td>\n",
              "      <td>1.000000</td>\n",
              "      <td>NaN</td>\n",
              "      <td>0.577296</td>\n",
              "      <td>0.351069</td>\n",
              "      <td>-0.061758</td>\n",
              "      <td>0.241325</td>\n",
              "    </tr>\n",
              "    <tr>\n",
              "      <th>homeTeamOverall</th>\n",
              "      <td>0.020705</td>\n",
              "      <td>-0.109238</td>\n",
              "      <td>0.003295</td>\n",
              "      <td>-0.067442</td>\n",
              "      <td>0.168737</td>\n",
              "      <td>-0.363378</td>\n",
              "      <td>0.201582</td>\n",
              "      <td>-0.217583</td>\n",
              "      <td>-0.446689</td>\n",
              "      <td>NaN</td>\n",
              "      <td>0.016102</td>\n",
              "      <td>-0.103559</td>\n",
              "      <td>1.000000</td>\n",
              "      <td>-0.010512</td>\n",
              "      <td>-0.103559</td>\n",
              "      <td>NaN</td>\n",
              "      <td>0.065270</td>\n",
              "      <td>-0.254010</td>\n",
              "      <td>-0.511180</td>\n",
              "      <td>0.447818</td>\n",
              "    </tr>\n",
              "    <tr>\n",
              "      <th>awayTeamOverall</th>\n",
              "      <td>0.902659</td>\n",
              "      <td>-0.035636</td>\n",
              "      <td>0.981683</td>\n",
              "      <td>-0.218218</td>\n",
              "      <td>0.193557</td>\n",
              "      <td>-0.012983</td>\n",
              "      <td>0.205559</td>\n",
              "      <td>0.091132</td>\n",
              "      <td>-0.107378</td>\n",
              "      <td>NaN</td>\n",
              "      <td>0.932007</td>\n",
              "      <td>0.153715</td>\n",
              "      <td>-0.010512</td>\n",
              "      <td>1.000000</td>\n",
              "      <td>0.153715</td>\n",
              "      <td>NaN</td>\n",
              "      <td>0.104870</td>\n",
              "      <td>-0.087107</td>\n",
              "      <td>-0.034037</td>\n",
              "      <td>0.122807</td>\n",
              "    </tr>\n",
              "    <tr>\n",
              "      <th>totalGoalsMinMax</th>\n",
              "      <td>0.306293</td>\n",
              "      <td>-0.043993</td>\n",
              "      <td>0.224868</td>\n",
              "      <td>-0.412428</td>\n",
              "      <td>0.744144</td>\n",
              "      <td>0.556253</td>\n",
              "      <td>0.641274</td>\n",
              "      <td>0.380941</td>\n",
              "      <td>0.045941</td>\n",
              "      <td>NaN</td>\n",
              "      <td>0.283978</td>\n",
              "      <td>1.000000</td>\n",
              "      <td>-0.103559</td>\n",
              "      <td>0.153715</td>\n",
              "      <td>1.000000</td>\n",
              "      <td>NaN</td>\n",
              "      <td>0.577296</td>\n",
              "      <td>0.351069</td>\n",
              "      <td>-0.061758</td>\n",
              "      <td>0.241325</td>\n",
              "    </tr>\n",
              "    <tr>\n",
              "      <th>outlier</th>\n",
              "      <td>NaN</td>\n",
              "      <td>NaN</td>\n",
              "      <td>NaN</td>\n",
              "      <td>NaN</td>\n",
              "      <td>NaN</td>\n",
              "      <td>NaN</td>\n",
              "      <td>NaN</td>\n",
              "      <td>NaN</td>\n",
              "      <td>NaN</td>\n",
              "      <td>NaN</td>\n",
              "      <td>NaN</td>\n",
              "      <td>NaN</td>\n",
              "      <td>NaN</td>\n",
              "      <td>NaN</td>\n",
              "      <td>NaN</td>\n",
              "      <td>NaN</td>\n",
              "      <td>NaN</td>\n",
              "      <td>NaN</td>\n",
              "      <td>NaN</td>\n",
              "      <td>NaN</td>\n",
              "    </tr>\n",
              "    <tr>\n",
              "      <th>score.secondTime.homeTeam</th>\n",
              "      <td>0.228052</td>\n",
              "      <td>-0.109238</td>\n",
              "      <td>0.162039</td>\n",
              "      <td>-0.325552</td>\n",
              "      <td>0.788904</td>\n",
              "      <td>-0.125860</td>\n",
              "      <td>0.347802</td>\n",
              "      <td>0.018924</td>\n",
              "      <td>-0.202305</td>\n",
              "      <td>NaN</td>\n",
              "      <td>0.210148</td>\n",
              "      <td>0.577296</td>\n",
              "      <td>0.065270</td>\n",
              "      <td>0.104870</td>\n",
              "      <td>0.577296</td>\n",
              "      <td>NaN</td>\n",
              "      <td>1.000000</td>\n",
              "      <td>-0.162366</td>\n",
              "      <td>-0.383840</td>\n",
              "      <td>0.510821</td>\n",
              "    </tr>\n",
              "    <tr>\n",
              "      <th>score.secondTime.awayTeam</th>\n",
              "      <td>-0.023146</td>\n",
              "      <td>-0.111649</td>\n",
              "      <td>-0.060772</td>\n",
              "      <td>-0.107714</td>\n",
              "      <td>-0.182156</td>\n",
              "      <td>0.746873</td>\n",
              "      <td>-0.138958</td>\n",
              "      <td>-0.158561</td>\n",
              "      <td>0.311839</td>\n",
              "      <td>NaN</td>\n",
              "      <td>-0.034121</td>\n",
              "      <td>0.351069</td>\n",
              "      <td>-0.254010</td>\n",
              "      <td>-0.087107</td>\n",
              "      <td>0.351069</td>\n",
              "      <td>NaN</td>\n",
              "      <td>-0.162366</td>\n",
              "      <td>1.000000</td>\n",
              "      <td>0.464587</td>\n",
              "      <td>-0.405116</td>\n",
              "    </tr>\n",
              "    <tr>\n",
              "      <th>points.awayTeam.Gained</th>\n",
              "      <td>-0.097629</td>\n",
              "      <td>-0.197990</td>\n",
              "      <td>-0.062414</td>\n",
              "      <td>0.155976</td>\n",
              "      <td>-0.596888</td>\n",
              "      <td>0.651003</td>\n",
              "      <td>-0.582170</td>\n",
              "      <td>0.377740</td>\n",
              "      <td>0.328447</td>\n",
              "      <td>NaN</td>\n",
              "      <td>-0.086892</td>\n",
              "      <td>-0.061758</td>\n",
              "      <td>-0.511180</td>\n",
              "      <td>-0.034037</td>\n",
              "      <td>-0.061758</td>\n",
              "      <td>NaN</td>\n",
              "      <td>-0.383840</td>\n",
              "      <td>0.464587</td>\n",
              "      <td>1.000000</td>\n",
              "      <td>-0.945343</td>\n",
              "    </tr>\n",
              "    <tr>\n",
              "      <th>points.homeTeam.Gained</th>\n",
              "      <td>0.196815</td>\n",
              "      <td>0.207487</td>\n",
              "      <td>0.157928</td>\n",
              "      <td>-0.218218</td>\n",
              "      <td>0.724890</td>\n",
              "      <td>-0.544125</td>\n",
              "      <td>0.668790</td>\n",
              "      <td>-0.294427</td>\n",
              "      <td>-0.290000</td>\n",
              "      <td>NaN</td>\n",
              "      <td>0.185548</td>\n",
              "      <td>0.241325</td>\n",
              "      <td>0.447818</td>\n",
              "      <td>0.122807</td>\n",
              "      <td>0.241325</td>\n",
              "      <td>NaN</td>\n",
              "      <td>0.510821</td>\n",
              "      <td>-0.405116</td>\n",
              "      <td>-0.945343</td>\n",
              "      <td>1.000000</td>\n",
              "    </tr>\n",
              "  </tbody>\n",
              "</table>\n",
              "</div>"
            ],
            "text/plain": [
              "                                 id  ...  points.homeTeam.Gained\n",
              "id                         1.000000  ...                0.196815\n",
              "matchday                  -0.162848  ...                0.207487\n",
              "season.id                  0.968111  ...                0.157928\n",
              "season.currentMatchday    -0.616928  ...               -0.218218\n",
              "score.fullTime.homeTeam    0.356535  ...                0.724890\n",
              "score.fullTime.awayTeam    0.010387  ...               -0.544125\n",
              "score.halfTime.homeTeam    0.348792  ...                0.668790\n",
              "score.halfTime.awayTeam    0.044760  ...               -0.294427\n",
              "homeTeam.id               -0.165877  ...               -0.290000\n",
              "awayTeam.id                     NaN  ...                     NaN\n",
              "ano                        0.997250  ...                0.185548\n",
              "totalGoals                 0.306293  ...                0.241325\n",
              "homeTeamOverall            0.020705  ...                0.447818\n",
              "awayTeamOverall            0.902659  ...                0.122807\n",
              "totalGoalsMinMax           0.306293  ...                0.241325\n",
              "outlier                         NaN  ...                     NaN\n",
              "score.secondTime.homeTeam  0.228052  ...                0.510821\n",
              "score.secondTime.awayTeam -0.023146  ...               -0.405116\n",
              "points.awayTeam.Gained    -0.097629  ...               -0.945343\n",
              "points.homeTeam.Gained     0.196815  ...                1.000000\n",
              "\n",
              "[20 rows x 20 columns]"
            ]
          },
          "metadata": {
            "tags": []
          },
          "execution_count": 273
        }
      ]
    },
    {
      "cell_type": "markdown",
      "metadata": {
        "id": "c9dbmra3Fdil"
      },
      "source": [
        "# Teste de Hipótese"
      ]
    },
    {
      "cell_type": "markdown",
      "metadata": {
        "id": "hy3vQA90FtqH"
      },
      "source": [
        "  Iremos testar algumas das afirmações que fizemos com relação ao desempenho do Manchester City e o do Liverpool na parte de análise descritiva\n",
        "\n",
        "* Testaremos primeiro se o Manchester City e o Liverpool tem o mesmo desempenho dentro e fora de casa\n",
        "* Depois, testaremos a hipótese que quantidade de Gols dentro de casa dos dois times é maior do que a quantidade de gols fora de casa\n",
        "* Além disso, testaremos a hipótese de que a defesa do Manchester City é mais imprevisível que a do Liverpool, ou seja, toma uma quantidade de gols mais constate, visto que um dos zagueiros do Liverpool já foi eleito o melhor jogador do mundo e a defesa do Manchester City é vista como o ponto fraco do time.\n"
      ]
    },
    {
      "cell_type": "code",
      "metadata": {
        "id": "rcBG60G3FZvF"
      },
      "source": [
        "from scipy import stats"
      ],
      "execution_count": 274,
      "outputs": []
    },
    {
      "cell_type": "code",
      "metadata": {
        "id": "AvR1wFjnJMvd",
        "outputId": "a23baca4-583e-4975-b216-c61c9225e95d",
        "colab": {
          "base_uri": "https://localhost:8080/",
          "height": 34
        }
      },
      "source": [
        "#vericando se a pontuação do Manchester City dentro e fora de casa seguem uma gaussiana\n",
        "homePoints = stats.shapiro(dataMatches[(dataMatches['homeTeam.id'] == 65)][['points.homeTeam.Gained']])\n",
        "awayPoints = stats.shapiro(dataMatches[(dataMatches['awayTeam.id'] == 65)][['points.awayTeam.Gained']])\n",
        "print(homePoints, awayPoints)\n",
        "#Como o P-value é muito baixo, logo verificamos que a hipótese nula é rejeitada, logo não segue uma gaussiana"
      ],
      "execution_count": 275,
      "outputs": [
        {
          "output_type": "stream",
          "text": [
            "(0.44634103775024414, 5.855268353505139e-11) (0.6420432329177856, 1.2302817431475432e-08)\n"
          ],
          "name": "stdout"
        }
      ]
    },
    {
      "cell_type": "code",
      "metadata": {
        "id": "Cb-gTtw6Y5Oo",
        "outputId": "856585aa-e5d8-4864-a25a-60e7d9a200c2",
        "colab": {
          "base_uri": "https://localhost:8080/",
          "height": 34
        }
      },
      "source": [
        "#Como não são pareados, usaremos o método Mann-Whitney para comparar os dois grupos (H0 : MancityDentroDeCasa == MancityForaDeCasa, H1 : MancityDentroDeCasa != MancityForaDeCasa, teste bilateral)\n",
        "stats.mannwhitneyu(dataMatches[(dataMatches['homeTeam.id'] == 65)][['points.homeTeam.Gained']], dataMatches[(dataMatches['awayTeam.id'] == 65)][['points.awayTeam.Gained']])"
      ],
      "execution_count": 276,
      "outputs": [
        {
          "output_type": "execute_result",
          "data": {
            "text/plain": [
              "MannwhitneyuResult(statistic=625.0, pvalue=0.023101433368823955)"
            ]
          },
          "metadata": {
            "tags": []
          },
          "execution_count": 276
        }
      ]
    },
    {
      "cell_type": "code",
      "metadata": {
        "id": "s-09JsCZZ8Bp",
        "outputId": "54ba6fb6-1637-4d0b-ecfe-22d79b701515",
        "colab": {
          "base_uri": "https://localhost:8080/",
          "height": 34
        }
      },
      "source": [
        "#Vericando se a pontuação do Liverpool dentro e fora de casa seguem uma gaussiana\n",
        "homePoints = stats.shapiro(dataMatches[(dataMatches['homeTeam.id'] == 64)][['points.homeTeam.Gained']])\n",
        "awayPoints = stats.shapiro(dataMatches[(dataMatches['awayTeam.id'] == 64)][['points.awayTeam.Gained']])\n",
        "print(homePoints, awayPoints)"
      ],
      "execution_count": 277,
      "outputs": [
        {
          "output_type": "stream",
          "text": [
            "(0.29247617721557617, 1.1923076458433823e-12) (0.6264241933822632, 7.312018546201671e-09)\n"
          ],
          "name": "stdout"
        }
      ]
    },
    {
      "cell_type": "code",
      "metadata": {
        "id": "t2YxFwifYuLv",
        "outputId": "360ee5a5-0918-4fe5-9b8f-11307128d90f",
        "colab": {
          "base_uri": "https://localhost:8080/",
          "height": 34
        }
      },
      "source": [
        "#Como não são pareados, usaremos o método Mann-Whitney para comparar os dois grupos (H0 : LiverpoolDentroDeCasa == LiverpoolForaDeCasa, H1 : LiverpoolDentroDeCasa != LiverpoolForaDeCasa, teste bilateral)\n",
        "stats.mannwhitneyu(dataMatches[(dataMatches['homeTeam.id'] == 64)][['points.homeTeam.Gained']], dataMatches[(dataMatches['awayTeam.id'] == 64)][['points.awayTeam.Gained']])"
      ],
      "execution_count": 278,
      "outputs": [
        {
          "output_type": "execute_result",
          "data": {
            "text/plain": [
              "MannwhitneyuResult(statistic=612.5, pvalue=0.004039219324159384)"
            ]
          },
          "metadata": {
            "tags": []
          },
          "execution_count": 278
        }
      ]
    },
    {
      "cell_type": "markdown",
      "metadata": {
        "id": "Qlzj3aTraeaY"
      },
      "source": [
        "Baseado nos testes, verificamos que:\n",
        "\n",
        "*   A hipótese nula foi rejeitada nos dois casos, logo o desempenho do Manchester City e do Liverpool dentro e fora de casa são diferentes, visto que os P-values são abaixo de 0.025\n",
        "\n",
        "\n",
        "\n",
        "\n"
      ]
    },
    {
      "cell_type": "markdown",
      "metadata": {
        "id": "CAJ6HEkYbaow"
      },
      "source": [
        "Testando a hipótese que quantidade de Gols dentro de casa dos dois times é maior do que a quantidade de gols fora de casa:"
      ]
    },
    {
      "cell_type": "code",
      "metadata": {
        "id": "v9Sxv5kZbp5s",
        "outputId": "d7199b76-266c-4b17-a96e-e6d794782810",
        "colab": {
          "base_uri": "https://localhost:8080/",
          "height": 34
        }
      },
      "source": [
        "#Vericando se a quantidade de gols do Manchester City dentro e fora de casa seguem uma gaussiana\n",
        "homeGoals = stats.shapiro(dataMatches[(dataMatches['homeTeam.id'] == 65)][['score.fullTime.homeTeam']])\n",
        "awayGoals = stats.shapiro(dataMatches[(dataMatches['awayTeam.id'] == 65)][['score.fullTime.awayTeam']])\n",
        "print(homeGoals, awayGoals)\n",
        "#Como o P-value é muito baixo, logo verificamos que a hipótese nula é rejeitada, logo não segue uma gaussiana"
      ],
      "execution_count": 279,
      "outputs": [
        {
          "output_type": "stream",
          "text": [
            "(0.8920178413391113, 0.0013130528386682272) (0.9254912734031677, 0.01150900311768055)\n"
          ],
          "name": "stdout"
        }
      ]
    },
    {
      "cell_type": "code",
      "metadata": {
        "id": "JJpwjSyvdBtO",
        "outputId": "c30842d8-9f10-466b-8e6b-ded42979ac32",
        "colab": {
          "base_uri": "https://localhost:8080/",
          "height": 34
        }
      },
      "source": [
        "#Como não são pareados, usaremos o método Mann-Whitney para comparar os dois grupos (H0 : MancityGolsDentroDeCasa <= MancityGolsForaDeCasa, H1 : MancityGolsDentroDeCasa > MancityGolsForaDeCasa, teste unilateral)\n",
        "stats.mannwhitneyu(dataMatches[(dataMatches['homeTeam.id'] == 65)][['score.fullTime.homeTeam']], dataMatches[(dataMatches['awayTeam.id'] == 65)][['score.fullTime.awayTeam']])"
      ],
      "execution_count": 280,
      "outputs": [
        {
          "output_type": "execute_result",
          "data": {
            "text/plain": [
              "MannwhitneyuResult(statistic=567.0, pvalue=0.01658270744324201)"
            ]
          },
          "metadata": {
            "tags": []
          },
          "execution_count": 280
        }
      ]
    },
    {
      "cell_type": "code",
      "metadata": {
        "id": "Pvfu4ODgePHw",
        "outputId": "265b08de-55b9-4570-fd9f-69cccea91314",
        "colab": {
          "base_uri": "https://localhost:8080/",
          "height": 34
        }
      },
      "source": [
        "#Vericando se a quantidade de gols do Liverpool dentro e fora de casa seguem uma gaussiana\n",
        "homeGoals = stats.shapiro(dataMatches[(dataMatches['homeTeam.id'] == 64)][['score.fullTime.homeTeam']])\n",
        "awayGoals = stats.shapiro(dataMatches[(dataMatches['awayTeam.id'] == 64)][['score.fullTime.awayTeam']])\n",
        "print(homeGoals, awayGoals)\n",
        "#Como o P-value é muito baixo, logo verificamos que a hipótese nula é rejeitada, logo não segue uma gaussiana"
      ],
      "execution_count": 281,
      "outputs": [
        {
          "output_type": "stream",
          "text": [
            "(0.9284207820892334, 0.014308503828942776) (0.9168757200241089, 0.006150249857455492)\n"
          ],
          "name": "stdout"
        }
      ]
    },
    {
      "cell_type": "code",
      "metadata": {
        "id": "AjlY_Wm5eIwz",
        "outputId": "b2be74be-7d36-45b7-d461-9434f9bcb317",
        "colab": {
          "base_uri": "https://localhost:8080/",
          "height": 34
        }
      },
      "source": [
        "#Como não são pareados, usaremos o método Mann-Whitney para comparar os dois grupos (H0 : MancityGolsDentroDeCasa <= MancityGolsForaDeCasa, H1 : MancityGolsDentroDeCasa > MancityGolsForaDeCasa, teste unilateral)\n",
        "stats.mannwhitneyu(dataMatches[(dataMatches['homeTeam.id'] == 64)][['score.fullTime.homeTeam']], dataMatches[(dataMatches['awayTeam.id'] == 64)][['score.fullTime.awayTeam']])"
      ],
      "execution_count": 282,
      "outputs": [
        {
          "output_type": "execute_result",
          "data": {
            "text/plain": [
              "MannwhitneyuResult(statistic=446.0, pvalue=0.00023590662212623567)"
            ]
          },
          "metadata": {
            "tags": []
          },
          "execution_count": 282
        }
      ]
    },
    {
      "cell_type": "markdown",
      "metadata": {
        "id": "ykoGSVPQefty"
      },
      "source": [
        "Baseado nos testes, verificamos que:\n",
        "\n",
        "* A hipótese nula foi rejeitada nos dois casos, logo a quantidade de gols do Manchester City e do Liverpool dentro e fora de casa são diferentes, visto que os P-values são abaixo de 0.05"
      ]
    },
    {
      "cell_type": "markdown",
      "metadata": {
        "id": "ZQHkYL3ZnyUa"
      },
      "source": [
        "Testando a hipótese que a defesa do Manchester City é mais imprevisível, ou seja, a quantidade de gols que toma por jogo varia mais do que a do Liverpool ou não\n",
        "\n",
        "\n"
      ]
    },
    {
      "cell_type": "code",
      "metadata": {
        "id": "CAHP_eR9n5aU"
      },
      "source": [
        "#Criando a distribuição de gols do ManCity\n",
        "manCityHomeGoalsConceded = cityHome['score.fullTime.awayTeam']\n",
        "manCityAwayGoalsConceded = cityAway['score.fullTime.homeTeam']\n",
        "manCityGoalsConceded = pd.concat([manCityHomeGoalsConceded,manCityAwayGoalsConceded])\n",
        "manCityGoalsConceded = manCityGoalsConceded.to_frame(name='totalGoalsConceded')"
      ],
      "execution_count": 283,
      "outputs": []
    },
    {
      "cell_type": "code",
      "metadata": {
        "id": "Xc1SaprOoJ4g"
      },
      "source": [
        "#Criando a distribuição de gols do Liverpool\n",
        "lvpHomeGoalsConceded = lvpHome['score.fullTime.awayTeam']\n",
        "lvpAwayGoalsConceded = lvpAway['score.fullTime.homeTeam']\n",
        "lvpGoalsConceded = pd.concat([lvpHomeGoalsConceded,lvpAwayGoalsConceded])\n",
        "lvpGoalsConceded = lvpGoalsConceded.to_frame(name='totalGoalsConceded')"
      ],
      "execution_count": 284,
      "outputs": []
    },
    {
      "cell_type": "code",
      "metadata": {
        "id": "KlAU0XjRoXwQ",
        "outputId": "4cfbf0b0-1ba6-4b04-f76f-c84f9225d046",
        "colab": {
          "base_uri": "https://localhost:8080/",
          "height": 34
        }
      },
      "source": [
        "#Vericando se a frequencia de gols concedidos do Manchester City e do Liverpool seguem uma gaussiana\n",
        "lvpGoalsConcededTest = stats.shapiro(lvpGoalsConceded['totalGoalsConceded'])\n",
        "manCityGoalsConcededTest = stats.shapiro(manCityGoalsConceded['totalGoalsConceded'])\n",
        "print(lvpGoalsConcededTest,manCityGoalsConcededTest)\n",
        "#Como o P-value é muito baixo, logo verificamos que a hipótese nula é rejeitada, logo não segue uma gaussiana"
      ],
      "execution_count": 285,
      "outputs": [
        {
          "output_type": "stream",
          "text": [
            "(0.6822967529296875, 7.217164799816489e-12) (0.7734200358390808, 1.075283639906388e-09)\n"
          ],
          "name": "stdout"
        }
      ]
    },
    {
      "cell_type": "code",
      "metadata": {
        "id": "8_EqZTCDomZn",
        "outputId": "f16712df-4862-4e09-c5ac-d7c6a594333c",
        "colab": {
          "base_uri": "https://localhost:8080/",
          "height": 34
        }
      },
      "source": [
        "#Como não são pareados, usaremos o método Mann-Whitney para comparar os dois grupos (H0 : MancityGols == LiverpoolGolsConcedidos, H1 : MancityGols != LiverpoolGolsConcedidos, teste bilateral)\n",
        "stats.mannwhitneyu(manCityGoalsConceded, lvpGoalsConceded)"
      ],
      "execution_count": 286,
      "outputs": [
        {
          "output_type": "execute_result",
          "data": {
            "text/plain": [
              "MannwhitneyuResult(statistic=3106.5, pvalue=0.4215914321060687)"
            ]
          },
          "metadata": {
            "tags": []
          },
          "execution_count": 286
        }
      ]
    },
    {
      "cell_type": "markdown",
      "metadata": {
        "id": "_xAv6dr12dFv"
      },
      "source": [
        "Baseado nos testes, verificamos que:\n",
        "\n",
        "* A hipótese nula não foi rejeitada, visto que o P-Value é 0.42, logo a defesa do Manchester City, mesmo muito criticada, não é mais imprevisível do que a do Liverpool"
      ]
    }
  ]
}